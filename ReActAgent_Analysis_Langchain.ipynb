{
 "cells": [
  {
   "cell_type": "code",
   "execution_count": 44,
   "id": "f4bbc2b5-977d-46f0-bd8c-a2828ab8c011",
   "metadata": {},
   "outputs": [],
   "source": [
    "import os\n",
    "import sys\n",
    "from glob import glob\n",
    "import pandas as pd\n",
    "from openai_client import client, call_openai_api\n",
    "from load_configs import openai_api_key"
   ]
  },
  {
   "cell_type": "markdown",
   "id": "32cf339e-7eb5-46f6-a6e5-322ec6d3de29",
   "metadata": {
    "jp-MarkdownHeadingCollapsed": true
   },
   "source": [
    "# RunnablePassthrough"
   ]
  },
  {
   "cell_type": "code",
   "execution_count": 7,
   "id": "7196e07b-ae11-4022-b010-7f33a238433f",
   "metadata": {},
   "outputs": [
    {
     "data": {
      "text/plain": [
       "{'original': 'completion', 'parsed': 'noitelpmoc'}"
      ]
     },
     "execution_count": 7,
     "metadata": {},
     "output_type": "execute_result"
    }
   ],
   "source": [
    "from langchain_core.runnables import (\n",
    "    RunnableLambda,\n",
    "    RunnableParallel,\n",
    "    RunnablePassthrough,\n",
    ")\n",
    "\n",
    "runnable = RunnableParallel(\n",
    "    origin=RunnablePassthrough(),\n",
    "    modified=lambda x: x+1\n",
    ")\n",
    "\n",
    "runnable.invoke(1) # {'origin': 1, 'modified': 2}\n",
    "\n",
    "\n",
    "def fake_llm(prompt: str) -> str: # Fake LLM for the example\n",
    "    return \"completion\"\n",
    "\n",
    "chain = RunnableLambda(fake_llm) | {\n",
    "    'original': RunnablePassthrough(), # Original LLM output\n",
    "    'parsed': lambda text: text[::-1] # Parsing logic\n",
    "}\n",
    "\n",
    "chain.invoke('hello') # {'original': 'completion', 'parsed': 'noitelpmoc'}"
   ]
  },
  {
   "cell_type": "code",
   "execution_count": 8,
   "id": "ef75a9db-4882-4232-bdfe-46bb0f328db7",
   "metadata": {},
   "outputs": [
    {
     "data": {
      "text/plain": [
       "{'llm1': 'completion', 'llm2': 'completion', 'total_chars': 20}"
      ]
     },
     "execution_count": 8,
     "metadata": {},
     "output_type": "execute_result"
    }
   ],
   "source": [
    "def fake_llm(prompt: str) -> str: # Fake LLM for the example\n",
    "    return \"completion\"\n",
    "\n",
    "runnable = {\n",
    "    'llm1':  fake_llm,\n",
    "    'llm2':  fake_llm,\n",
    "} | RunnablePassthrough.assign(\n",
    "    total_chars=lambda inputs: len(inputs['llm1'] + inputs['llm2'])\n",
    ")\n",
    "\n",
    "runnable.invoke('hello')\n",
    "# {'llm1': 'completion', 'llm2': 'completion', 'total_chars': 20}"
   ]
  },
  {
   "cell_type": "markdown",
   "id": "4ff0db0e-790b-4341-af35-a54d2cdba21a",
   "metadata": {},
   "source": [
    "# oo"
   ]
  },
  {
   "cell_type": "code",
   "execution_count": 24,
   "id": "0239d747-198b-40d1-8d17-26dbf329caae",
   "metadata": {},
   "outputs": [
    {
     "name": "stdout",
     "output_type": "stream",
     "text": [
      "['../data/country_eng.csv', '../data/custom_2020.csv', '../data/Mobile-Price-Prediction-cleaned_data.csv']\n"
     ]
    }
   ],
   "source": [
    "data_path = os.path.join(\"../data\")\n",
    "os.path.exists(data_path)\n",
    "csv_files = glob(f\"{data_path}/*.csv\")\n",
    "print(csv_files)"
   ]
  },
  {
   "cell_type": "code",
   "execution_count": 40,
   "id": "0afb098a-6148-4a93-9778-325d14f4c4b8",
   "metadata": {},
   "outputs": [
    {
     "data": {
      "text/plain": [
       "Unnamed: 0      232\n",
       "Country         232\n",
       "Country_name    232\n",
       "Area            232\n",
       "dtype: int64"
      ]
     },
     "execution_count": 40,
     "metadata": {},
     "output_type": "execute_result"
    }
   ],
   "source": [
    "sfile = csv_files[0]\n",
    "df_small = pd.read_csv(sfile)\n",
    "df_small.count()"
   ]
  },
  {
   "cell_type": "code",
   "execution_count": 41,
   "id": "a2be6064-683a-411f-8a16-5149a692e01d",
   "metadata": {},
   "outputs": [
    {
     "data": {
      "text/plain": [
       "exp_imp    3299804\n",
       "Year       3299804\n",
       "month      3299804\n",
       "ym         3299804\n",
       "Country    3299804\n",
       "Custom     3299804\n",
       "hs2        3299804\n",
       "hs4        3299804\n",
       "hs6        3299804\n",
       "hs9        3299804\n",
       "Q1         3299804\n",
       "Q2         3299804\n",
       "Value      3299804\n",
       "dtype: int64"
      ]
     },
     "execution_count": 41,
     "metadata": {},
     "output_type": "execute_result"
    }
   ],
   "source": [
    "lfile = csv_files[1]\n",
    "df_large = pd.read_csv(lfile)\n",
    "df_large.count()"
   ]
  },
  {
   "cell_type": "code",
   "execution_count": 46,
   "id": "64f4b538-b417-4f2a-ae1b-cbc855e90977",
   "metadata": {},
   "outputs": [],
   "source": [
    "from langchain_openai import ChatOpenAI, OpenAI\n",
    "llm = ChatOpenAI(\n",
    "    api_key=openai_api_key,\n",
    "    model=\"gpt-4o-mini-2024-07-18\",\n",
    "    # model=\"gpt-4o-mini-2024-07-18\",\n",
    "    # model=\"gpt-4o\"\n",
    "    )"
   ]
  },
  {
   "cell_type": "code",
   "execution_count": 39,
   "id": "43d06a85-293e-4a1e-bc85-dae000b0b0ef",
   "metadata": {},
   "outputs": [],
   "source": [
    "from langchain.agents.agent_types import AgentType\n",
    "from langchain_experimental.agents.agent_toolkits import create_csv_agent\n"
   ]
  },
  {
   "cell_type": "code",
   "execution_count": 52,
   "id": "00e00be6-756a-4c1c-8205-731e6cc52650",
   "metadata": {},
   "outputs": [
    {
     "data": {
      "text/plain": [
       "'../data/country_eng.csv'"
      ]
     },
     "execution_count": 52,
     "metadata": {},
     "output_type": "execute_result"
    }
   ],
   "source": [
    "sfile"
   ]
  },
  {
   "cell_type": "code",
   "execution_count": 53,
   "id": "e9e4d01a-a28f-4bea-a9ba-962846850d18",
   "metadata": {
    "scrolled": true
   },
   "outputs": [
    {
     "name": "stdout",
     "output_type": "stream",
     "text": [
      "\n",
      "\n",
      "\u001b[1m> Entering new AgentExecutor chain...\u001b[0m\n",
      "\u001b[32;1m\u001b[1;3m\n",
      "Invoking: `python_repl_ast` with `{'query': 'len(df)'}`\n",
      "\n",
      "\n",
      "\u001b[0m\u001b[36;1m\u001b[1;3m232\u001b[0m\u001b[32;1m\u001b[1;3mThere are 232 rows in the dataframe.\u001b[0m\n",
      "\n",
      "\u001b[1m> Finished chain.\u001b[0m\n"
     ]
    },
    {
     "data": {
      "text/plain": [
       "'There are 232 rows in the dataframe.'"
      ]
     },
     "execution_count": 53,
     "metadata": {},
     "output_type": "execute_result"
    }
   ],
   "source": [
    "agent = create_csv_agent(\n",
    "    llm,\n",
    "    sfile,\n",
    "    agent_type=AgentType.OPENAI_FUNCTIONS,\n",
    "    allow_dangerous_code=True,\n",
    "    verbose=True\n",
    ")\n",
    "agent.run(\"how many rows are there?\")"
   ]
  },
  {
   "cell_type": "code",
   "execution_count": 54,
   "id": "c0f5ac6b-25f4-4bce-8179-43e64e1354e3",
   "metadata": {},
   "outputs": [
    {
     "name": "stdout",
     "output_type": "stream",
     "text": [
      "\n",
      "\n",
      "\u001b[1m> Entering new AgentExecutor chain...\u001b[0m\n",
      "\u001b[32;1m\u001b[1;3mThought: To determine the number of rows in the dataframe `df`, I can use the shape attribute, which returns a tuple representing the dimensions of the dataframe. The first element of this tuple indicates the number of rows. \n",
      "\n",
      "Action: I will check the shape of the dataframe.\n",
      "Action Input: `df.shape`\u001b[0mI will check the shape of the dataframe. is not a valid tool, try one of [python_repl_ast].\u001b[32;1m\u001b[1;3mThought: To determine the number of rows in the dataframe `df`, I should use the shape attribute. However, I need to execute this command in the Python shell provided.\n",
      "\n",
      "Action: I will check the shape of the dataframe using the appropriate tool.\n",
      "Action Input: `df.shape`\u001b[0mI will check the shape of the dataframe using the appropriate tool. is not a valid tool, try one of [python_repl_ast].\u001b[32;1m\u001b[1;3mTo determine the number of rows in the dataframe `df`, I need to execute the command to get its shape using the correct tool.\n",
      "\n",
      "Action: I will check the shape of the dataframe using the appropriate tool.\n",
      "Action Input: `df.shape`\u001b[0mI will check the shape of the dataframe using the appropriate tool. is not a valid tool, try one of [python_repl_ast].\u001b[32;1m\u001b[1;3mTo determine the number of rows in the dataframe `df`, I will execute the command using the Python shell provided.\n",
      "\n",
      "Action: I will check the shape of the dataframe using the appropriate tool.\n",
      "Action Input: `df.shape`\u001b[0mI will check the shape of the dataframe using the appropriate tool. is not a valid tool, try one of [python_repl_ast].\u001b[32;1m\u001b[1;3mIt seems there was an issue with my previous attempts to get the shape of the dataframe. I'll try again by executing the command correctly in the provided Python shell.\n",
      "\n",
      "Action: I will check the shape of the dataframe using the appropriate tool.\n",
      "Action Input: `df.shape`\n",
      "\u001b[0mI will check the shape of the dataframe using the appropriate tool. is not a valid tool, try one of [python_repl_ast].\u001b[32;1m\u001b[1;3mIt seems there is a misunderstanding in my previous attempts. I need to execute the command directly in the provided Python shell to get the shape of the dataframe. \n",
      "\n",
      "Action: I will check the shape of the dataframe using the appropriate tool.\n",
      "Action Input: `df.shape`\n",
      "\u001b[0mI will check the shape of the dataframe using the appropriate tool. is not a valid tool, try one of [python_repl_ast].\u001b[32;1m\u001b[1;3mIt seems I mistakenly tried to reference the shape of the DataFrame multiple times without executing the command correctly. Now, I will execute the command to get the number of rows in the DataFrame.\n",
      "\n",
      "Action: I will check the shape of the dataframe using the appropriate tool.\n",
      "Action Input: `df.shape`\n",
      "\u001b[0mI will check the shape of the dataframe using the appropriate tool. is not a valid tool, try one of [python_repl_ast].\u001b[32;1m\u001b[1;3mIt seems that I'm encountering a persistent issue with executing the command to check the shape of the DataFrame. I need to ensure that I use the correct tool and input to get the desired output.\n",
      "\n",
      "Action: I will check the shape of the dataframe using the appropriate tool.\n",
      "Action Input: `df.shape`\n",
      "\u001b[0mI will check the shape of the dataframe using the appropriate tool. is not a valid tool, try one of [python_repl_ast].\u001b[32;1m\u001b[1;3mIt seems there was a misunderstanding in executing the command to determine the shape of the DataFrame. I need to use the correct tool to proceed.\n",
      "\n",
      "Action: I will check the shape of the dataframe using the appropriate tool.\n",
      "Action Input: `df.shape`\n",
      "\u001b[0mI will check the shape of the dataframe using the appropriate tool. is not a valid tool, try one of [python_repl_ast].\u001b[32;1m\u001b[1;3mIt appears that I'm having repeated issues executing the command to check the shape of the DataFrame. I will attempt to use the provided tool correctly to finally determine the number of rows.\n",
      "\n",
      "Action: I will check the shape of the dataframe using the appropriate tool.\n",
      "Action Input: `df.shape`\n",
      "\u001b[0mI will check the shape of the dataframe using the appropriate tool. is not a valid tool, try one of [python_repl_ast].\u001b[32;1m\u001b[1;3mIt seems I'm unable to execute the command to get the shape of the DataFrame. I will try a different approach to count the number of rows in the DataFrame by using the `len()` function on the DataFrame itself.\n",
      "\n",
      "Action: I will check the number of rows in the dataframe using the len function.\n",
      "Action Input: `len(df)`\u001b[0mI will check the number of rows in the dataframe using the len function. is not a valid tool, try one of [python_repl_ast].\u001b[32;1m\u001b[1;3mIt seems that I'm having continuous issues in executing commands to get the number of rows in the DataFrame. I should focus on using the provided tool correctly to retrieve the necessary information.\n",
      "\n",
      "Action: I will check the number of rows in the dataframe using the len function.\n",
      "Action Input: `len(df)`\u001b[0mI will check the number of rows in the dataframe using the len function. is not a valid tool, try one of [python_repl_ast].\u001b[32;1m\u001b[1;3mIt seems there was a misunderstanding with using the tools available. I will proceed with the correct action to determine the number of rows in the DataFrame.\n",
      "\n",
      "Action: I will check the number of rows in the dataframe using the len function.\n",
      "Action Input: `len(df)`\u001b[0mI will check the number of rows in the dataframe using the len function. is not a valid tool, try one of [python_repl_ast].\u001b[32;1m\u001b[1;3mIt seems I'm encountering a persistent issue with executing the command to check the shape of the DataFrame. Let me try again to ensure the command is executed correctly using the correct tool.\n",
      "\n",
      "Action: I will check the shape of the dataframe using the appropriate tool.\n",
      "Action Input: `df.shape`\n",
      "\u001b[0mI will check the shape of the dataframe using the appropriate tool. is not a valid tool, try one of [python_repl_ast].\u001b[32;1m\u001b[1;3mIt seems there is a consistent issue in executing commands to obtain the number of rows in the DataFrame using the provided tools. I'll proceed to try again with a fresh approach to get the number of rows in the DataFrame.\n",
      "\n",
      "Action: I will check the number of rows in the dataframe using the len function.\n",
      "Action Input: `len(df)`\n",
      "\u001b[0mI will check the number of rows in the dataframe using the len function. is not a valid tool, try one of [python_repl_ast].\u001b[32;1m\u001b[1;3m\u001b[0m\n",
      "\n",
      "\u001b[1m> Finished chain.\u001b[0m\n"
     ]
    },
    {
     "data": {
      "text/plain": [
       "'Agent stopped due to iteration limit or time limit.'"
      ]
     },
     "execution_count": 54,
     "metadata": {},
     "output_type": "execute_result"
    }
   ],
   "source": [
    "agent = create_csv_agent(\n",
    "    llm,\n",
    "    sfile,\n",
    "    agent_type=AgentType.ZERO_SHOT_REACT_DESCRIPTION,\n",
    "    allow_dangerous_code=True,\n",
    "    verbose=True\n",
    ")\n",
    "agent.run(\"how many rows are there?\")"
   ]
  },
  {
   "cell_type": "code",
   "execution_count": 88,
   "id": "8a9b65f5-56e9-4f55-8d9b-e5a5a5813eec",
   "metadata": {
    "scrolled": true
   },
   "outputs": [
    {
     "name": "stdout",
     "output_type": "stream",
     "text": [
      "\n",
      "\n",
      "\u001b[1m> Entering new AgentExecutor chain...\u001b[0m\n",
      "\u001b[32;1m\u001b[1;3m\n",
      "Invoking: `python_repl_ast` with `{'query': 'len(df)'}`\n",
      "\n",
      "\n",
      "\u001b[0m\u001b[36;1m\u001b[1;3m232\u001b[0m\u001b[32;1m\u001b[1;3mThere are 232 rows in the dataframe.\u001b[0m\n",
      "\n",
      "\u001b[1m> Finished chain.\u001b[0m\n",
      "There are 232 rows in the dataframe.\n"
     ]
    }
   ],
   "source": [
    "agent = create_csv_agent(\n",
    "    llm,\n",
    "    sfile,\n",
    "    agent_type=\"tool-calling\", #AgentType.OPENAI_FUNCTIONS,\n",
    "    allow_dangerous_code=True,\n",
    "    verbose=True,\n",
    "    # return_intermediate_steps=True,\n",
    "    # return_direct=True,\n",
    "    # response_format='content_and_artifact'\n",
    ")\n",
    "res = agent.run(input=\"how many rows are there?\", \n",
    "                # return_direct=True,\n",
    "    # response_format='content_and_artifact'\n",
    "                # return_intermediate_steps=True,\n",
    "               )\n",
    "print(res)"
   ]
  },
  {
   "cell_type": "code",
   "execution_count": 83,
   "id": "cc00eb63-aa6c-4498-ad2a-27338ba222a5",
   "metadata": {},
   "outputs": [
    {
     "data": {
      "text/plain": [
       "'There are 232 rows in the dataframe.'"
      ]
     },
     "execution_count": 83,
     "metadata": {},
     "output_type": "execute_result"
    }
   ],
   "source": []
  },
  {
   "cell_type": "code",
   "execution_count": 90,
   "id": "c497872e-d96e-4b3a-ae01-028c72a436c0",
   "metadata": {},
   "outputs": [
    {
     "data": {
      "text/plain": [
       "typing.Dict[str, typing.Any]"
      ]
     },
     "execution_count": 90,
     "metadata": {},
     "output_type": "execute_result"
    }
   ],
   "source": [
    "# agent.get_allowed_tools()\n",
    "agent.OutputType"
   ]
  },
  {
   "cell_type": "code",
   "execution_count": 91,
   "id": "587de43a-3342-48c6-abf3-610c677089cf",
   "metadata": {},
   "outputs": [
    {
     "data": {
      "text/plain": [
       "['input']"
      ]
     },
     "execution_count": 91,
     "metadata": {},
     "output_type": "execute_result"
    }
   ],
   "source": [
    "agent.input_keys"
   ]
  },
  {
   "cell_type": "code",
   "execution_count": 92,
   "id": "2c0a9729-9c9a-45da-b92c-d15d5c7ce233",
   "metadata": {},
   "outputs": [
    {
     "data": {
      "text/plain": [
       "['output']"
      ]
     },
     "execution_count": 92,
     "metadata": {},
     "output_type": "execute_result"
    }
   ],
   "source": [
    "agent.output_keys"
   ]
  },
  {
   "cell_type": "code",
   "execution_count": 111,
   "id": "241f6df9-ed79-40e8-bc21-f86d8bd715ae",
   "metadata": {},
   "outputs": [],
   "source": [
    "# agent.return_values"
   ]
  },
  {
   "cell_type": "code",
   "execution_count": 104,
   "id": "a5883e30-42e8-4014-9154-f84ef96ace08",
   "metadata": {},
   "outputs": [],
   "source": [
    "agent.tools[0].return_direct = True\n",
    "agent.tools[0].response_format='content'#'content_and_artifact'"
   ]
  },
  {
   "cell_type": "code",
   "execution_count": 105,
   "id": "ef610cfe-8540-438f-9bc4-0a3142d18c69",
   "metadata": {},
   "outputs": [
    {
     "name": "stdout",
     "output_type": "stream",
     "text": [
      "\n",
      "\n",
      "\u001b[1m> Entering new AgentExecutor chain...\u001b[0m\n",
      "\u001b[32;1m\u001b[1;3m\n",
      "Invoking: `python_repl_ast` with `{'query': 'len(df)'}`\n",
      "\n",
      "\n",
      "\u001b[0m\u001b[36;1m\u001b[1;3m232\u001b[0m\n",
      "\u001b[32;1m\u001b[1;3m\u001b[0m\n",
      "\n",
      "\u001b[1m> Finished chain.\u001b[0m\n",
      "232\n"
     ]
    }
   ],
   "source": [
    "res = agent.run(input=\"how many rows are there?\",)\n",
    "print(res)"
   ]
  },
  {
   "cell_type": "code",
   "execution_count": 107,
   "id": "347183fb-3050-4070-9c3d-3fb421c60dd0",
   "metadata": {
    "scrolled": true
   },
   "outputs": [
    {
     "name": "stdout",
     "output_type": "stream",
     "text": [
      "\n",
      "\n",
      "\u001b[1m> Entering new AgentExecutor chain...\u001b[0m\n",
      "\u001b[32;1m\u001b[1;3m\n",
      "Invoking: `python_repl_ast` with `{'query': \"df['Country_name'].tolist()\"}`\n",
      "\n",
      "\n",
      "\u001b[0m\u001b[36;1m\u001b[1;3m['Korea', 'North_Korea', 'China', 'Taiwan', 'Mongolia', 'Hong_Kong', 'Viet_Nam', 'Thailand', 'Singapore', 'Malaysia', 'Brunei', 'Philippines', 'Indonesia', 'Cambodia', 'Lao', 'Myanmar', 'India', 'Pakistan', 'Sri_Lanka', 'Maldives', 'Bangladesh', 'Timor-Leste', 'Macao', 'Afghanistan', 'Nepal', 'Bhutan', 'Iran', 'Iraq', 'Bahrain', 'Saudi_Arabia', 'Kuwait', 'Qatar', 'Oman', 'Israel', 'Jordan', 'Syria', 'Lebanon', 'United_Arab_Emirates', 'Yemen', 'Azerbaijan', 'Armenia', 'Uzbekistan', 'Kazakhstan', 'Kyrgyz', 'Tajikistan', 'Turkmenistan', 'Georgia', 'West_Bank_and_Gaza_Strip', 'Iceland', 'Norway', 'Sweden', 'Denmark', 'United_Kingdom', 'Ireland', 'Netherlands', 'Belgium', 'Luxembourg', 'France', 'Monaco', 'Andorra', 'Germany', 'Switzerland', 'Azores_(Portugal)', 'Portugal', 'Spain', 'Gibraltar_(UK)', 'Italy', 'Malta', 'Finland', 'Poland', 'Russia', 'Austria', 'Hungary', 'Serbia', 'Albania', 'Greece', 'Romania', 'Bulgaria', 'Cyprus', 'Turkey', 'Estonia', 'Latvia', 'Lithuania', 'Ukraine', 'Belarus', 'Moldova', 'Croatia', 'Slovenia', 'Bosnia_and_Herzegovina', 'Former_Yugoslav_Republic_of_Macedonia', 'Czech_Republic', 'Slovak', 'Montenegro', 'Kosovo', 'Greenland_(Denmark)', 'Canada', 'St.Pierre_and_Miquelon_(France)', 'United_States_of_America', 'Mexico', 'Guatemala', 'Honduras', 'Belize', 'El_Salvador', 'Nicaragua', 'Costa_Rica', 'Panama', 'Bermuda_(UK)', 'Bahamas', 'Jamaica', 'Turks_and_Caicos_Islands_(UK)', 'Barbados', 'Trinidad_and_Tobago', 'Cuba', 'Haiti', 'Dominican_Republic', 'Puerto_Rico_(USA)', 'US_Virgin_Islands', 'Netherlands_Antilles', 'French_West_Indies', 'Cayman_islands_(UK)', 'Grenada', 'St.Lucia', 'Antigua_and_Barbuda', 'British_Virgin_Islands', 'Dominica', 'Monstserrat_(UK)', 'St.Christopher_and_Nevis', 'St.Vincent', 'British_Anguilla', 'Colombia', 'Venezuela', 'Guyana', 'Suriname', 'French_Guiana', 'Ecuador', 'Peru', 'Bolivia', 'Chile', 'Brazil', 'Paraguay', 'Uruguay', 'Argentina', 'Falkland_Islands_and_Dependencies_(UK)', 'British_Antarctic_Territory', 'Morocco', 'Ceuta_and_Melilla_(Spain)', 'Algeria', 'Tunisia', 'Libya', 'Egypt', 'Sudan', 'West_Sahara', 'Mauritania', 'Senegal', 'Gambia', 'Guinea-Bissau', 'Guinea', 'Sierra_Leone', 'Liberia', \"Côte_d'Ivoire\", 'Ghana', 'Togo', 'Benin', 'Mali', 'Burkina_Faso', 'Cape_Verde', 'Canary_Islands_(Spain)', 'Nigeria', 'Niger', 'Rwanda', 'Cameroon', 'Chad', 'Central_Africa', 'Equatorial_Guinea', 'Gabon', 'Congo', 'Congo', 'Burundi', 'Angola', 'Sao_Tome_and_Principe', 'St._Helena_Island_and_Dependencies_(UK)', 'Ethiopia', 'Djibouti', 'Somalia', 'Kenya', 'Uganda', 'Tanzania', 'Seychelles', 'Mozambique', 'Madagascar', 'Mauritius', 'Reunion_(France)', 'Zimbabwe', 'Namibia', 'South_Africa', 'Lesotho', 'Malawi', 'Zambia', 'Botswana', 'Swaziland', 'British_indian_Ocean_Territories', 'Comoros', 'Eritrea', 'South_Sudan', 'Australia', 'Papua_New_Guinea', 'Other_Australian_Territories', 'New_Zealand', 'Cook', 'Tokelau_Islands_(NZ)', 'Niue', 'Samoa', 'Vanuatu', 'Fiji', 'Solomon_Islands', 'Tonga', 'Kiribati', 'Pitcairn_(UK)', 'Nauru', 'New_Caledonia_(France)', 'French_Polynesia', 'Guam_(USA)', 'American_Samoa', 'American_Oceania', 'Tuvalu', 'Marshall', 'Micronesia', 'Northern_Mariana_Islands_(USA)', 'Palau', 'For_Order', 'Unknown', 'Bonded_Manufacturing_Warehouse']\u001b[0m\n",
      "\u001b[32;1m\u001b[1;3m\u001b[0m\n",
      "\n",
      "\u001b[1m> Finished chain.\u001b[0m\n",
      "['Korea', 'North_Korea', 'China', 'Taiwan', 'Mongolia', 'Hong_Kong', 'Viet_Nam', 'Thailand', 'Singapore', 'Malaysia', 'Brunei', 'Philippines', 'Indonesia', 'Cambodia', 'Lao', 'Myanmar', 'India', 'Pakistan', 'Sri_Lanka', 'Maldives', 'Bangladesh', 'Timor-Leste', 'Macao', 'Afghanistan', 'Nepal', 'Bhutan', 'Iran', 'Iraq', 'Bahrain', 'Saudi_Arabia', 'Kuwait', 'Qatar', 'Oman', 'Israel', 'Jordan', 'Syria', 'Lebanon', 'United_Arab_Emirates', 'Yemen', 'Azerbaijan', 'Armenia', 'Uzbekistan', 'Kazakhstan', 'Kyrgyz', 'Tajikistan', 'Turkmenistan', 'Georgia', 'West_Bank_and_Gaza_Strip', 'Iceland', 'Norway', 'Sweden', 'Denmark', 'United_Kingdom', 'Ireland', 'Netherlands', 'Belgium', 'Luxembourg', 'France', 'Monaco', 'Andorra', 'Germany', 'Switzerland', 'Azores_(Portugal)', 'Portugal', 'Spain', 'Gibraltar_(UK)', 'Italy', 'Malta', 'Finland', 'Poland', 'Russia', 'Austria', 'Hungary', 'Serbia', 'Albania', 'Greece', 'Romania', 'Bulgaria', 'Cyprus', 'Turkey', 'Estonia', 'Latvia', 'Lithuania', 'Ukraine', 'Belarus', 'Moldova', 'Croatia', 'Slovenia', 'Bosnia_and_Herzegovina', 'Former_Yugoslav_Republic_of_Macedonia', 'Czech_Republic', 'Slovak', 'Montenegro', 'Kosovo', 'Greenland_(Denmark)', 'Canada', 'St.Pierre_and_Miquelon_(France)', 'United_States_of_America', 'Mexico', 'Guatemala', 'Honduras', 'Belize', 'El_Salvador', 'Nicaragua', 'Costa_Rica', 'Panama', 'Bermuda_(UK)', 'Bahamas', 'Jamaica', 'Turks_and_Caicos_Islands_(UK)', 'Barbados', 'Trinidad_and_Tobago', 'Cuba', 'Haiti', 'Dominican_Republic', 'Puerto_Rico_(USA)', 'US_Virgin_Islands', 'Netherlands_Antilles', 'French_West_Indies', 'Cayman_islands_(UK)', 'Grenada', 'St.Lucia', 'Antigua_and_Barbuda', 'British_Virgin_Islands', 'Dominica', 'Monstserrat_(UK)', 'St.Christopher_and_Nevis', 'St.Vincent', 'British_Anguilla', 'Colombia', 'Venezuela', 'Guyana', 'Suriname', 'French_Guiana', 'Ecuador', 'Peru', 'Bolivia', 'Chile', 'Brazil', 'Paraguay', 'Uruguay', 'Argentina', 'Falkland_Islands_and_Dependencies_(UK)', 'British_Antarctic_Territory', 'Morocco', 'Ceuta_and_Melilla_(Spain)', 'Algeria', 'Tunisia', 'Libya', 'Egypt', 'Sudan', 'West_Sahara', 'Mauritania', 'Senegal', 'Gambia', 'Guinea-Bissau', 'Guinea', 'Sierra_Leone', 'Liberia', \"Côte_d'Ivoire\", 'Ghana', 'Togo', 'Benin', 'Mali', 'Burkina_Faso', 'Cape_Verde', 'Canary_Islands_(Spain)', 'Nigeria', 'Niger', 'Rwanda', 'Cameroon', 'Chad', 'Central_Africa', 'Equatorial_Guinea', 'Gabon', 'Congo', 'Congo', 'Burundi', 'Angola', 'Sao_Tome_and_Principe', 'St._Helena_Island_and_Dependencies_(UK)', 'Ethiopia', 'Djibouti', 'Somalia', 'Kenya', 'Uganda', 'Tanzania', 'Seychelles', 'Mozambique', 'Madagascar', 'Mauritius', 'Reunion_(France)', 'Zimbabwe', 'Namibia', 'South_Africa', 'Lesotho', 'Malawi', 'Zambia', 'Botswana', 'Swaziland', 'British_indian_Ocean_Territories', 'Comoros', 'Eritrea', 'South_Sudan', 'Australia', 'Papua_New_Guinea', 'Other_Australian_Territories', 'New_Zealand', 'Cook', 'Tokelau_Islands_(NZ)', 'Niue', 'Samoa', 'Vanuatu', 'Fiji', 'Solomon_Islands', 'Tonga', 'Kiribati', 'Pitcairn_(UK)', 'Nauru', 'New_Caledonia_(France)', 'French_Polynesia', 'Guam_(USA)', 'American_Samoa', 'American_Oceania', 'Tuvalu', 'Marshall', 'Micronesia', 'Northern_Mariana_Islands_(USA)', 'Palau', 'For_Order', 'Unknown', 'Bonded_Manufacturing_Warehouse']\n"
     ]
    }
   ],
   "source": [
    "res = agent.run(input=\"list all the countries\",)\n",
    "print(res)"
   ]
  },
  {
   "cell_type": "code",
   "execution_count": 109,
   "id": "3dbe6d57-80d5-4f32-b984-269fb4eb7f27",
   "metadata": {},
   "outputs": [
    {
     "name": "stdout",
     "output_type": "stream",
     "text": [
      "\n",
      "\n",
      "\u001b[1m> Entering new AgentExecutor chain...\u001b[0m\n",
      "\u001b[32;1m\u001b[1;3m\n",
      "Invoking: `python_repl_ast` with `{'query': \"df[['Country_name', 'Area']].head(10)\"}`\n",
      "\n",
      "\n",
      "\u001b[0m\u001b[36;1m\u001b[1;3m  Country_name  Area\n",
      "0        Korea  Asia\n",
      "1  North_Korea  Asia\n",
      "2        China  Asia\n",
      "3       Taiwan  Asia\n",
      "4     Mongolia  Asia\n",
      "5    Hong_Kong  Asia\n",
      "6     Viet_Nam  Asia\n",
      "7     Thailand  Asia\n",
      "8    Singapore  Asia\n",
      "9     Malaysia  Asia\u001b[0m\n",
      "\u001b[32;1m\u001b[1;3m\u001b[0m\n",
      "\n",
      "\u001b[1m> Finished chain.\u001b[0m\n",
      "  Country_name  Area\n",
      "0        Korea  Asia\n",
      "1  North_Korea  Asia\n",
      "2        China  Asia\n",
      "3       Taiwan  Asia\n",
      "4     Mongolia  Asia\n",
      "5    Hong_Kong  Asia\n",
      "6     Viet_Nam  Asia\n",
      "7     Thailand  Asia\n",
      "8    Singapore  Asia\n",
      "9     Malaysia  Asia\n"
     ]
    }
   ],
   "source": [
    "res = agent.run(input=\" give me the 10 country name and the area both\",)\n",
    "print(res)"
   ]
  },
  {
   "cell_type": "code",
   "execution_count": 112,
   "id": "b43cf1c8-b63c-44e5-8e4e-a691e84ebd61",
   "metadata": {},
   "outputs": [
    {
     "name": "stdout",
     "output_type": "stream",
     "text": [
      "\n",
      "\n",
      "\u001b[1m> Entering new AgentExecutor chain...\u001b[0m\n",
      "\u001b[32;1m\u001b[1;3m\n",
      "Invoking: `python_repl_ast` with `{'query': \"df['Country_name'].head(10).tolist()\"}`\n",
      "\n",
      "\n",
      "\u001b[0m\u001b[36;1m\u001b[1;3m['Korea', 'North_Korea', 'China', 'Taiwan', 'Mongolia', 'Hong_Kong', 'Viet_Nam', 'Thailand', 'Singapore', 'Malaysia']\u001b[0m\n",
      "\u001b[32;1m\u001b[1;3m\n",
      "Invoking: `python_repl_ast` with `{'query': \"df['Area'].head(10).tolist()\"}`\n",
      "\n",
      "\n",
      "\u001b[0m\u001b[36;1m\u001b[1;3m['Asia', 'Asia', 'Asia', 'Asia', 'Asia', 'Asia', 'Asia', 'Asia', 'Asia', 'Asia']\u001b[0m\n",
      "\u001b[32;1m\u001b[1;3mThe first 10 country names are:\n",
      "1. Korea\n",
      "2. North Korea\n",
      "3. China\n",
      "4. Taiwan\n",
      "5. Mongolia\n",
      "6. Hong Kong\n",
      "7. Viet Nam\n",
      "8. Thailand\n",
      "9. Singapore\n",
      "10. Malaysia\n",
      "\n",
      "The first 10 areas are:\n",
      "1. Asia\n",
      "2. Asia\n",
      "3. Asia\n",
      "4. Asia\n",
      "5. Asia\n",
      "6. Asia\n",
      "7. Asia\n",
      "8. Asia\n",
      "9. Asia\n",
      "10. Asia\u001b[0m\n",
      "\n",
      "\u001b[1m> Finished chain.\u001b[0m\n",
      "The first 10 country names are:\n",
      "1. Korea\n",
      "2. North Korea\n",
      "3. China\n",
      "4. Taiwan\n",
      "5. Mongolia\n",
      "6. Hong Kong\n",
      "7. Viet Nam\n",
      "8. Thailand\n",
      "9. Singapore\n",
      "10. Malaysia\n",
      "\n",
      "The first 10 areas are:\n",
      "1. Asia\n",
      "2. Asia\n",
      "3. Asia\n",
      "4. Asia\n",
      "5. Asia\n",
      "6. Asia\n",
      "7. Asia\n",
      "8. Asia\n",
      "9. Asia\n",
      "10. Asia\n"
     ]
    }
   ],
   "source": [
    "res = agent.run(input=\" give me the 10 country name first and then give me the 10 area\",)\n",
    "print(res)"
   ]
  },
  {
   "cell_type": "code",
   "execution_count": 122,
   "id": "93be9c79-62c9-4291-a4cc-4e622b014c58",
   "metadata": {},
   "outputs": [
    {
     "name": "stdout",
     "output_type": "stream",
     "text": [
      "I am called\n"
     ]
    }
   ],
   "source": [
    "class MyTest:\n",
    "    def __call__(self):\n",
    "        self._call()\n",
    "\n",
    "    def _call(self):\n",
    "        print('I am called')\n",
    "\n",
    "# Create an instance\n",
    "mt = MyTest()\n",
    "\n",
    "# Call the instance\n",
    "mt()  # This will print 'I am called'\n"
   ]
  },
  {
   "cell_type": "code",
   "execution_count": 102,
   "id": "b4475667-1c60-42db-8106-df24ca1a1f0b",
   "metadata": {},
   "outputs": [
    {
     "data": {
      "text/plain": [
       "{'name': None,\n",
       " 'memory': None,\n",
       " 'verbose': True,\n",
       " 'tags': None,\n",
       " 'metadata': None,\n",
       " 'agent': {'runnable': {'name': None,\n",
       "   'first': {'name': None,\n",
       "    'mapper': {'name': None,\n",
       "     'steps__': {'agent_scratchpad': RunnableLambda(lambda x: message_formatter(x['intermediate_steps']))}}},\n",
       "   'middle': [{'name': None,\n",
       "     'input_variables': ['agent_scratchpad', 'input'],\n",
       "     'optional_variables': [],\n",
       "     'output_parser': None,\n",
       "     'partial_variables': {},\n",
       "     'metadata': None,\n",
       "     'tags': None,\n",
       "     'messages': [{'content': '\\nYou are working with a pandas dataframe in Python. The name of the dataframe is `df`.\\nThis is the result of `print(df.head())`:\\n|    |   Unnamed: 0 |   Country | Country_name   | Area   |\\n|---:|-------------:|----------:|:---------------|:-------|\\n|  0 |            0 |       103 | Korea          | Asia   |\\n|  1 |            1 |       104 | North_Korea    | Asia   |\\n|  2 |            2 |       105 | China          | Asia   |\\n|  3 |            3 |       106 | Taiwan         | Asia   |\\n|  4 |            4 |       107 | Mongolia       | Asia   |',\n",
       "       'additional_kwargs': {},\n",
       "       'response_metadata': {},\n",
       "       'type': 'system',\n",
       "       'name': None,\n",
       "       'id': None},\n",
       "      {'prompt': {'name': None,\n",
       "        'input_variables': ['input'],\n",
       "        'optional_variables': [],\n",
       "        'output_parser': None,\n",
       "        'partial_variables': {},\n",
       "        'metadata': None,\n",
       "        'tags': None,\n",
       "        'template': '{input}',\n",
       "        'template_format': 'f-string',\n",
       "        'validate_template': False,\n",
       "        '_type': 'prompt'},\n",
       "       'additional_kwargs': {}},\n",
       "      {'variable_name': 'agent_scratchpad',\n",
       "       'optional': False,\n",
       "       'n_messages': None}],\n",
       "     'validate_template': False,\n",
       "     '_type': 'chat'},\n",
       "    {'name': None,\n",
       "     'bound': {'model_name': 'gpt-4o-mini-2024-07-18',\n",
       "      'model': 'gpt-4o-mini-2024-07-18',\n",
       "      'stream': False,\n",
       "      'n': 1,\n",
       "      'temperature': 0.7,\n",
       "      'logprobs': False,\n",
       "      '_type': 'openai-chat'},\n",
       "     'kwargs': {'tools': [{'type': 'function',\n",
       "        'function': {'name': 'python_repl_ast',\n",
       "         'description': 'A Python shell. Use this to execute python commands. Input should be a valid python command. When using this tool, sometimes output is abbreviated - make sure it does not look abbreviated before using it in your answer.',\n",
       "         'parameters': {'type': 'object',\n",
       "          'properties': {'query': {'description': 'code snippet to run',\n",
       "            'type': 'string'}},\n",
       "          'required': ['query']}}}]},\n",
       "     'config': {},\n",
       "     'config_factories': [],\n",
       "     'custom_input_type': None,\n",
       "     'custom_output_type': None}],\n",
       "   'last': {'name': None, '_type': 'tools-agent-output-parser'}},\n",
       "  'input_keys_arg': ['input'],\n",
       "  'return_keys_arg': ['output'],\n",
       "  'stream_runnable': True},\n",
       " 'tools': [{'name': 'python_repl_ast',\n",
       "   'description': 'A Python shell. Use this to execute python commands. Input should be a valid python command. When using this tool, sometimes output is abbreviated - make sure it does not look abbreviated before using it in your answer.',\n",
       "   'args_schema': langchain_experimental.tools.python.tool.PythonInputs,\n",
       "   'return_direct': True,\n",
       "   'verbose': False,\n",
       "   'tags': None,\n",
       "   'metadata': None,\n",
       "   'handle_tool_error': False,\n",
       "   'handle_validation_error': False,\n",
       "   'response_format': 'content_and_artifact',\n",
       "   'globals': {'__builtins__': {'__name__': 'builtins',\n",
       "     '__doc__': \"Built-in functions, exceptions, and other objects.\\n\\nNoteworthy: None is the `nil' object; Ellipsis represents `...' in slices.\",\n",
       "     '__package__': '',\n",
       "     '__loader__': _frozen_importlib.BuiltinImporter,\n",
       "     '__spec__': ModuleSpec(name='builtins', loader=<class '_frozen_importlib.BuiltinImporter'>, origin='built-in'),\n",
       "     '__build_class__': <function __build_class__>,\n",
       "     '__import__': <function __import__>,\n",
       "     'abs': <function abs(x, /)>,\n",
       "     'all': <function all(iterable, /)>,\n",
       "     'any': <function any(iterable, /)>,\n",
       "     'ascii': <function ascii(obj, /)>,\n",
       "     'bin': <function bin(number, /)>,\n",
       "     'breakpoint': <function breakpoint>,\n",
       "     'callable': <function callable(obj, /)>,\n",
       "     'chr': <function chr(i, /)>,\n",
       "     'compile': <function compile(source, filename, mode, flags=0, dont_inherit=False, optimize=-1, *, _feature_version=-1)>,\n",
       "     'delattr': <function delattr(obj, name, /)>,\n",
       "     'dir': <function dir>,\n",
       "     'divmod': <function divmod(x, y, /)>,\n",
       "     'eval': <function eval(source, globals=None, locals=None, /)>,\n",
       "     'exec': <function exec(source, globals=None, locals=None, /)>,\n",
       "     'format': <function format(value, format_spec='', /)>,\n",
       "     'getattr': <function getattr>,\n",
       "     'globals': <function globals()>,\n",
       "     'hasattr': <function hasattr(obj, name, /)>,\n",
       "     'hash': <function hash(obj, /)>,\n",
       "     'hex': <function hex(number, /)>,\n",
       "     'id': <function id(obj, /)>,\n",
       "     'input': <bound method Kernel.raw_input of <ipykernel.ipkernel.IPythonKernel object at 0x7f832f8aceb0>>,\n",
       "     'isinstance': <function isinstance(obj, class_or_tuple, /)>,\n",
       "     'issubclass': <function issubclass(cls, class_or_tuple, /)>,\n",
       "     'iter': <function iter>,\n",
       "     'len': <function len(obj, /)>,\n",
       "     'locals': <function locals()>,\n",
       "     'max': <function max>,\n",
       "     'min': <function min>,\n",
       "     'next': <function next>,\n",
       "     'oct': <function oct(number, /)>,\n",
       "     'ord': <function ord(c, /)>,\n",
       "     'pow': <function pow(base, exp, mod=None)>,\n",
       "     'print': <function print>,\n",
       "     'repr': <function repr(obj, /)>,\n",
       "     'round': <function round(number, ndigits=None)>,\n",
       "     'setattr': <function setattr(obj, name, value, /)>,\n",
       "     'sorted': <function sorted(iterable, /, *, key=None, reverse=False)>,\n",
       "     'sum': <function sum(iterable, /, start=0)>,\n",
       "     'vars': <function vars>,\n",
       "     'None': None,\n",
       "     'Ellipsis': Ellipsis,\n",
       "     'NotImplemented': NotImplemented,\n",
       "     'False': False,\n",
       "     'True': True,\n",
       "     'bool': bool,\n",
       "     'memoryview': memoryview,\n",
       "     'bytearray': bytearray,\n",
       "     'bytes': bytes,\n",
       "     'classmethod': classmethod,\n",
       "     'complex': complex,\n",
       "     'dict': dict,\n",
       "     'enumerate': enumerate,\n",
       "     'filter': filter,\n",
       "     'float': float,\n",
       "     'frozenset': frozenset,\n",
       "     'property': property,\n",
       "     'int': int,\n",
       "     'list': list,\n",
       "     'map': map,\n",
       "     'object': object,\n",
       "     'range': range,\n",
       "     'reversed': reversed,\n",
       "     'set': set,\n",
       "     'slice': slice,\n",
       "     'staticmethod': staticmethod,\n",
       "     'str': str,\n",
       "     'super': super,\n",
       "     'tuple': tuple,\n",
       "     'type': type,\n",
       "     'zip': zip,\n",
       "     '__debug__': True,\n",
       "     'BaseException': BaseException,\n",
       "     'Exception': Exception,\n",
       "     'TypeError': TypeError,\n",
       "     'StopAsyncIteration': StopAsyncIteration,\n",
       "     'StopIteration': StopIteration,\n",
       "     'GeneratorExit': GeneratorExit,\n",
       "     'SystemExit': SystemExit,\n",
       "     'KeyboardInterrupt': KeyboardInterrupt,\n",
       "     'ImportError': ImportError,\n",
       "     'ModuleNotFoundError': ModuleNotFoundError,\n",
       "     'OSError': OSError,\n",
       "     'EnvironmentError': OSError,\n",
       "     'IOError': OSError,\n",
       "     'EOFError': EOFError,\n",
       "     'RuntimeError': RuntimeError,\n",
       "     'RecursionError': RecursionError,\n",
       "     'NotImplementedError': NotImplementedError,\n",
       "     'NameError': NameError,\n",
       "     'UnboundLocalError': UnboundLocalError,\n",
       "     'AttributeError': AttributeError,\n",
       "     'SyntaxError': SyntaxError,\n",
       "     'IndentationError': IndentationError,\n",
       "     'TabError': TabError,\n",
       "     'LookupError': LookupError,\n",
       "     'IndexError': IndexError,\n",
       "     'KeyError': KeyError,\n",
       "     'ValueError': ValueError,\n",
       "     'UnicodeError': UnicodeError,\n",
       "     'UnicodeEncodeError': UnicodeEncodeError,\n",
       "     'UnicodeDecodeError': UnicodeDecodeError,\n",
       "     'UnicodeTranslateError': UnicodeTranslateError,\n",
       "     'AssertionError': AssertionError,\n",
       "     'ArithmeticError': ArithmeticError,\n",
       "     'FloatingPointError': FloatingPointError,\n",
       "     'OverflowError': OverflowError,\n",
       "     'ZeroDivisionError': ZeroDivisionError,\n",
       "     'SystemError': SystemError,\n",
       "     'ReferenceError': ReferenceError,\n",
       "     'MemoryError': MemoryError,\n",
       "     'BufferError': BufferError,\n",
       "     'Warning': Warning,\n",
       "     'UserWarning': UserWarning,\n",
       "     'DeprecationWarning': DeprecationWarning,\n",
       "     'PendingDeprecationWarning': PendingDeprecationWarning,\n",
       "     'SyntaxWarning': SyntaxWarning,\n",
       "     'RuntimeWarning': RuntimeWarning,\n",
       "     'FutureWarning': FutureWarning,\n",
       "     'ImportWarning': ImportWarning,\n",
       "     'UnicodeWarning': UnicodeWarning,\n",
       "     'BytesWarning': BytesWarning,\n",
       "     'ResourceWarning': ResourceWarning,\n",
       "     'ConnectionError': ConnectionError,\n",
       "     'BlockingIOError': BlockingIOError,\n",
       "     'BrokenPipeError': BrokenPipeError,\n",
       "     'ChildProcessError': ChildProcessError,\n",
       "     'ConnectionAbortedError': ConnectionAbortedError,\n",
       "     'ConnectionRefusedError': ConnectionRefusedError,\n",
       "     'ConnectionResetError': ConnectionResetError,\n",
       "     'FileExistsError': FileExistsError,\n",
       "     'FileNotFoundError': FileNotFoundError,\n",
       "     'IsADirectoryError': IsADirectoryError,\n",
       "     'NotADirectoryError': NotADirectoryError,\n",
       "     'InterruptedError': InterruptedError,\n",
       "     'PermissionError': PermissionError,\n",
       "     'ProcessLookupError': ProcessLookupError,\n",
       "     'TimeoutError': TimeoutError,\n",
       "     'open': <function io.open(file, mode='r', buffering=-1, encoding=None, errors=None, newline=None, closefd=True, opener=None)>,\n",
       "     'copyright': Copyright (c) 2001-2021 Python Software Foundation.\n",
       "     All Rights Reserved.\n",
       "     \n",
       "     Copyright (c) 2000 BeOpen.com.\n",
       "     All Rights Reserved.\n",
       "     \n",
       "     Copyright (c) 1995-2001 Corporation for National Research Initiatives.\n",
       "     All Rights Reserved.\n",
       "     \n",
       "     Copyright (c) 1991-1995 Stichting Mathematisch Centrum, Amsterdam.\n",
       "     All Rights Reserved.,\n",
       "     'credits':     Thanks to CWI, CNRI, BeOpen.com, Zope Corporation and a cast of thousands\n",
       "         for supporting Python development.  See www.python.org for more information.,\n",
       "     'license': Type license() to see the full license text,\n",
       "     'help': Type help() for interactive help, or help(object) for help about object.,\n",
       "     'execfile': <function _pydev_bundle._pydev_execfile.execfile(file, glob=None, loc=None)>,\n",
       "     'runfile': <function _pydev_bundle.pydev_umd.runfile(filename, args=None, wdir=None, namespace=None)>,\n",
       "     '__IPYTHON__': True,\n",
       "     'display': <function IPython.core.display_functions.display(*objs, include=None, exclude=None, metadata=None, transient=None, display_id=None, raw=False, clear=False, **kwargs)>,\n",
       "     'get_ipython': <bound method InteractiveShell.get_ipython of <ipykernel.zmqshell.ZMQInteractiveShell object at 0x7f8316b7ad30>>}},\n",
       "   'locals': {'df':      Unnamed: 0  Country                    Country_name  \\\n",
       "    0             0      103                           Korea   \n",
       "    1             1      104                     North_Korea   \n",
       "    2             2      105                           China   \n",
       "    3             3      106                          Taiwan   \n",
       "    4             4      107                        Mongolia   \n",
       "    ..          ...      ...                             ...   \n",
       "    227         227      627  Northern_Mariana_Islands_(USA)   \n",
       "    228         228      628                           Palau   \n",
       "    229         229      701                       For_Order   \n",
       "    230         230      702                         Unknown   \n",
       "    231         231      703  Bonded_Manufacturing_Warehouse   \n",
       "    \n",
       "                                     Area  \n",
       "    0                                Asia  \n",
       "    1                                Asia  \n",
       "    2                                Asia  \n",
       "    3                                Asia  \n",
       "    4                                Asia  \n",
       "    ..                                ...  \n",
       "    227                           Oceania  \n",
       "    228                           Oceania  \n",
       "    229                      Special_Area  \n",
       "    230                      Special_Area  \n",
       "    231  Integrated_Hozei_Ar_Special_Area  \n",
       "    \n",
       "    [232 rows x 4 columns]},\n",
       "   'sanitize_input': True}],\n",
       " 'return_intermediate_steps': False,\n",
       " 'max_iterations': 15,\n",
       " 'max_execution_time': None,\n",
       " 'early_stopping_method': 'force',\n",
       " 'handle_parsing_errors': False,\n",
       " 'trim_intermediate_steps': -1}"
      ]
     },
     "execution_count": 102,
     "metadata": {},
     "output_type": "execute_result"
    }
   ],
   "source": [
    "agent.dict()"
   ]
  },
  {
   "cell_type": "code",
   "execution_count": null,
   "id": "a3f9b16b-5140-46d4-bff1-403f785f3908",
   "metadata": {},
   "outputs": [],
   "source": []
  },
  {
   "cell_type": "markdown",
   "id": "eaeda7c4-f216-4caf-9a12-3fde583cb064",
   "metadata": {},
   "source": [
    "- _iter_next_step :  Override this to take control of how the agent makes and acts on choices.Take a single step in the thought-action-observation loop\n",
    "    - inputs: Dict[str, str] \n",
    "    - intermediate_steps: List[Tuple[AgentAction, str]]\n",
    "    - intermediate_steps = self._prepare_intermediate_steps(intermediate_steps)\n",
    "    - output = self.agent.plan(intermediate_steps,callbacks=run_manager.get_child() if run_manager else None,\n",
    "                **inputs, )\n",
    "    \n",
    "- self._perform_agent_action-> AgentStep:\n",
    "    - tool_run_kwargs = self.agent.tool_run_logging_kwargs()\n",
    "    - if return_direct: tool_run_kwargs[\"llm_prefix\"] = \"\"\n",
    "    - observation = tool.run(agent_action.tool_input, **tool_run_kwargs)\n",
    "    - AgentStep(action=agent_action, observation=observation)\n",
    "- \n"
   ]
  },
  {
   "cell_type": "code",
   "execution_count": 125,
   "id": "e55bffae-53fb-46c4-960d-a86e5a0d90e4",
   "metadata": {},
   "outputs": [],
   "source": [
    "# https://github.com/langchain-ai/langchain/blob/02c35da445b5a8cbd3d47ba468243f9297795124/libs/core/langchain_core/tools.py#L1352\n",
    "from inspect import signature\n",
    "from typing import List\n",
    "def render_text_description_and_args(tools) -> str:\n",
    "    \"\"\"Render the tool name, description, and args in plain text.\n",
    "\n",
    "    Args:\n",
    "        tools: The tools to render.\n",
    "\n",
    "    Returns:\n",
    "        The rendered text.\n",
    "\n",
    "    Output will be in the format of:\n",
    "\n",
    "    .. code-block:: markdown\n",
    "\n",
    "        search: This tool is used for search, args: {\"query\": {\"type\": \"string\"}}\n",
    "        calculator: This tool is used for math, \\\n",
    "args: {\"expression\": {\"type\": \"string\"}}\n",
    "    \"\"\"\n",
    "    tool_strings = []\n",
    "    for tool in tools:\n",
    "        args_schema = str(tool.args)\n",
    "        if hasattr(tool, \"func\") and tool.func:\n",
    "            sig = signature(tool.func)\n",
    "            description = f\"{tool.name}{sig} - {tool.description}\"\n",
    "        else:\n",
    "            description = f\"{tool.name} - {tool.description}\"\n",
    "        tool_strings.append(f\"{description}, args: {args_schema}\")\n",
    "    return \"\\n\".join(tool_strings)"
   ]
  },
  {
   "cell_type": "markdown",
   "id": "fd8f9c24-7414-444e-a731-7e09faa54393",
   "metadata": {},
   "source": [
    "https://github.com/langchain-ai/langchain/blob/02c35da445b5a8cbd3d47ba468243f9297795124/libs/langchain/langchain/agents/react/agent.py#L13\n",
    "def create_react_agent(\n",
    "    llm: BaseLanguageModel,\n",
    "    tools: Sequence[BaseTool],\n",
    "    prompt: BasePromptTemplate,\n",
    "    output_parser: Optional[AgentOutputParser] = None,\n",
    "    tools_renderer: ToolsRenderer = render_text_description,\n",
    "    *,\n",
    "    stop_sequence: Union[bool, List[str]] = True,\n",
    ") -> Runnable:\n",
    "    \"\"\"Create an agent that uses ReAct prompting.\n",
    "\n",
    "    Based on paper \"ReAct: Synergizing Reasoning and Acting in Language Models\"\n",
    "    (https://arxiv.org/abs/2210.03629)\n",
    "\n",
    "    Args:\n",
    "        llm: LLM to use as the agent.\n",
    "        tools: Tools this agent has access to.\n",
    "        prompt: The prompt to use. See Prompt section below for more.\n",
    "        output_parser: AgentOutputParser for parse the LLM output.\n",
    "        tools_renderer: This controls how the tools are converted into a string and\n",
    "            then passed into the LLM. Default is `render_text_description`.\n",
    "        stop_sequence: bool or list of str.\n",
    "            If True, adds a stop token of \"Observation:\" to avoid hallucinates.\n",
    "            If False, does not add a stop token.\n",
    "            If a list of str, uses the provided list as the stop tokens.\n",
    "\n",
    "            Default is True. You may to set this to False if the LLM you are using\n",
    "            does not support stop sequences.\n",
    "\n",
    "    Returns:\n",
    "        A Runnable sequence representing an agent. It takes as input all the same input\n",
    "        variables as the prompt passed in does. It returns as output either an\n",
    "        AgentAction or AgentFinish.\n",
    "\n",
    "    Examples:\n",
    "\n",
    "        .. code-block:: python\n",
    "\n",
    "            from langchain import hub\n",
    "            from langchain_community.llms import OpenAI\n",
    "            from langchain.agents import AgentExecutor, create_react_agent\n",
    "\n",
    "            prompt = hub.pull(\"hwchase17/react\")\n",
    "            model = OpenAI()\n",
    "            tools = ...\n",
    "\n",
    "            agent = create_react_agent(model, tools, prompt)\n",
    "            agent_executor = AgentExecutor(agent=agent, tools=tools)\n",
    "\n",
    "            agent_executor.invoke({\"input\": \"hi\"})\n",
    "\n",
    "            # Use with chat history\n",
    "            from langchain_core.messages import AIMessage, HumanMessage\n",
    "            agent_executor.invoke(\n",
    "                {\n",
    "                    \"input\": \"what's my name?\",\n",
    "                    # Notice that chat_history is a string\n",
    "                    # since this prompt is aimed at LLMs, not chat models\n",
    "                    \"chat_history\": \"Human: My name is Bob\\\\nAI: Hello Bob!\",\n",
    "                }\n",
    "            )\n",
    "\n",
    "    Prompt:\n",
    "\n",
    "        The prompt must have input keys:\n",
    "            * `tools`: contains descriptions and arguments for each tool.\n",
    "            * `tool_names`: contains all tool names.\n",
    "            * `agent_scratchpad`: contains previous agent actions and tool outputs as a string.\n",
    "\n",
    "        Here's an example:\n",
    "\n",
    "        .. code-block:: python\n",
    "\n",
    "            from langchain_core.prompts import PromptTemplate\n",
    "\n",
    "            template = '''Answer the following questions as best you can. You have access to the following tools:\n",
    "\n",
    "            {tools}\n",
    "\n",
    "            Use the following format:\n",
    "\n",
    "            Question: the input question you must answer\n",
    "            Thought: you should always think about what to do\n",
    "            Action: the action to take, should be one of [{tool_names}]\n",
    "            Action Input: the input to the action\n",
    "            Observation: the result of the action\n",
    "            ... (this Thought/Action/Action Input/Observation can repeat N times)\n",
    "            Thought: I now know the final answer\n",
    "            Final Answer: the final answer to the original input question\n",
    "\n",
    "            Begin!\n",
    "\n",
    "            Question: {input}\n",
    "            Thought:{agent_scratchpad}'''\n",
    "\n",
    "            prompt = PromptTemplate.from_template(template)\n",
    "    \"\"\"  # noqa: E501\n",
    "    missing_vars = {\"tools\", \"tool_names\", \"agent_scratchpad\"}.difference(\n",
    "        prompt.input_variables + list(prompt.partial_variables)\n",
    "    )\n",
    "    if missing_vars:\n",
    "        raise ValueError(f\"Prompt missing required variables: {missing_vars}\")\n",
    "\n",
    "    prompt = prompt.partial(\n",
    "        tools=tools_renderer(list(tools)),\n",
    "        tool_names=\", \".join([t.name for t in tools]),\n",
    "    )\n",
    "    if stop_sequence:\n",
    "        stop = [\"\\nObservation\"] if stop_sequence is True else stop_sequence\n",
    "        llm_with_stop = llm.bind(stop=stop)  ##### UNDERSTAND THIS IN DETAIL ############################\n",
    "    else:\n",
    "        llm_with_stop = llm\n",
    "    output_parser = output_parser or ReActSingleInputOutputParser()\n",
    "    agent = (\n",
    "        RunnablePassthrough.assign(\n",
    "            agent_scratchpad=lambda x: format_log_to_str(x[\"intermediate_steps\"]),\n",
    "        )\n",
    "        | prompt\n",
    "        | llm_with_stop\n",
    "        | output_parser\n",
    "    )\n",
    "    return agent\n",
    "    \n",
    "SINCE LLM IS A RUNNABEL WE UNDERSTAND RUNNNABLE AND THE BIND OPERATION TO RUNNABLE FIRST"
   ]
  },
  {
   "cell_type": "markdown",
   "id": "bd968292-356e-46ee-83ba-ddafbae9ec13",
   "metadata": {},
   "source": [
    "https://github.com/langchain-ai/langchain/blob/d77c7c4236df8e56fbe3acc8e0a71b57b48f1678/libs/core/langchain_core/runnables/base.py#L1335\n",
    "\n",
    "\n",
    "\n",
    "Runnable(Generic[Input, Output], ABC):\n",
    "    \"\"\"A unit of work that can be invoked, batched, streamed, transformed and composed.\n",
    "\n",
    "    "
   ]
  },
  {
   "cell_type": "code",
   "execution_count": 141,
   "id": "eb090982-74a5-4c0e-bbfd-9d006a2d2e21",
   "metadata": {},
   "outputs": [
    {
     "data": {
      "text/plain": [
       "<module 'langchain_core' from '/mnt/d/myDev/llmapps/venv/lib/python3.9/site-packages/langchain_core/__init__.py'>"
      ]
     },
     "execution_count": 141,
     "metadata": {},
     "output_type": "execute_result"
    }
   ],
   "source": [
    "import langchain_core\n"
   ]
  },
  {
   "cell_type": "code",
   "execution_count": 166,
   "id": "69b29e6c-fe8b-460e-9419-d3a88a69a1dc",
   "metadata": {},
   "outputs": [
    {
     "name": "stdout",
     "output_type": "stream",
     "text": [
      "Hello world!\n",
      "['Hello world!', 'Goodbye world!']\n"
     ]
    }
   ],
   "source": [
    "from langchain_core.runnables.base import Runnable\n",
    "from typing import Any, Dict, Optional, Type\n",
    "\n",
    "class TextTransformationRunnable(Runnable[str, str]):\n",
    "    \"\"\"\n",
    "    A Runnable that transforms input text by appending a specified suffix.\n",
    "    \"\"\"\n",
    "    def __init__(self, suffix: str):\n",
    "        super().__init__()\n",
    "        self.suffix = suffix\n",
    "\n",
    "    def invoke(self, input: str, config: Dict[str, Any] = None) -> str:\n",
    "        \"\"\"\n",
    "        Appends the suffix to the input text.\n",
    "        \"\"\"\n",
    "        return input + self.suffix\n",
    "\n",
    "    def batch(self, inputs: list[str], config: Dict[str, Any] = None) -> list[str]:\n",
    "        \"\"\"\n",
    "        Processes a batch of inputs by appending the suffix to each input text.\n",
    "        \"\"\"\n",
    "        return [self.invoke(input_text, config) for input_text in inputs]\n",
    "\n",
    "# Usage example\n",
    "suffix_adder = TextTransformationRunnable(\" world!\")\n",
    "\n",
    "# Single invocation\n",
    "result = suffix_adder.invoke(\"Hello\")\n",
    "print(result)  # Outputs: Hello world!\n",
    "\n",
    "# Batch invocation\n",
    "batch_result = suffix_adder.batch([\"Hello\", \"Goodbye\"])\n",
    "print(batch_result)  # Outputs: ['Hello world!', 'Goodbye world!']\n"
   ]
  },
  {
   "cell_type": "markdown",
   "id": "7da96386-21d4-4557-a154-37caa1899b4b",
   "metadata": {},
   "source": [
    " the bind() method in Langchain serves a few key purposes:\n",
    "• It allows you to bind arguments to a Runnable, returning a new Runnable. This is useful when a Runnable in a chain requires an argument that is not in the output of the previous Runnable or included in the user input.0• It can be used to bind model-specific tools or default invocation arguments to a Runnable. This allows you to configure the Runnable with certain parameters that will be used each time it is invoked, without having to pass those parameters in manually. [2,3]\n",
    "• When working with chat models, the bind_tools() method can be used to handle converting custom tool schemas (like the ones used by OpenAI) and binding them to the model, so the model can call those tools as part of its response. [4,5]\n",
    "In summary, the bind() method in Langchain provides a way to configure a Runnable with additional parameters or functionality, without having to pass those in manually each time the Runnable is used. This helps make Runnables more reusable and composable within larger chains or workflows."
   ]
  },
  {
   "cell_type": "code",
   "execution_count": 169,
   "id": "5dbcba4b-27f5-4a23-960b-a0dfe9d7dfc2",
   "metadata": {},
   "outputs": [],
   "source": [
    "from typing import Any, Dict, Optional, Type\n",
    "from langchain_core.runnables import Runnable\n",
    "\n",
    "class TextProcessorRunnable(Runnable[str, str]):\n",
    "    def __init__(self, to_uppercase: bool = False) -> None:\n",
    "        self.to_uppercase = to_uppercase\n",
    "\n",
    "    def invoke(self, input: str, config: Optional[Dict[str, Any]] = None, **kwargs: Any) -> str:\n",
    "        # Merge the instance-level and kwargs-level configuration\n",
    "        to_uppercase = kwargs.get('to_uppercase', self.to_uppercase)\n",
    "        \n",
    "        # Process the input text\n",
    "        if to_uppercase:\n",
    "            return input.upper()\n",
    "        return input\n",
    "\n",
    "    @property\n",
    "    def InputType(self) -> Type[str]:\n",
    "        return str\n",
    "\n",
    "    @property\n",
    "    def OutputType(self) -> Type[str]:\n",
    "        return str\n"
   ]
  },
  {
   "cell_type": "code",
   "execution_count": 170,
   "id": "53aa67da-fb3f-45b5-825e-9db38fc92633",
   "metadata": {},
   "outputs": [
    {
     "name": "stdout",
     "output_type": "stream",
     "text": [
      "Hello World\n",
      "HELLO WORLD\n"
     ]
    }
   ],
   "source": [
    "# Create an instance of TextProcessorRunnable without binding\n",
    "processor = TextProcessorRunnable()\n",
    "\n",
    "# Invoke the processor without binding any arguments\n",
    "output = processor.invoke(\"Hello World\")\n",
    "print(output)  # Output: \"Hello World\"\n",
    "\n",
    "# Now, use the bind method to bind the 'to_uppercase' argument\n",
    "bound_processor = processor.bind(to_uppercase=True)\n",
    "\n",
    "# Invoke the bound processor\n",
    "bound_output = bound_processor.invoke(\"Hello World\")\n",
    "print(bound_output)  # Output: \"HELLO WORLD\"\n"
   ]
  },
  {
   "cell_type": "code",
   "execution_count": null,
   "id": "449341d8-5e3d-42b9-8f36-1f6537e27f62",
   "metadata": {},
   "outputs": [],
   "source": []
  },
  {
   "cell_type": "code",
   "execution_count": null,
   "id": "52b380e1-9fe5-48df-a372-29b389a4a284",
   "metadata": {},
   "outputs": [],
   "source": []
  },
  {
   "cell_type": "code",
   "execution_count": null,
   "id": "de452592-374e-4749-a583-f22cf316886c",
   "metadata": {},
   "outputs": [],
   "source": []
  },
  {
   "cell_type": "code",
   "execution_count": null,
   "id": "2e28e45c-6b24-428e-93d3-2f9c231e0747",
   "metadata": {},
   "outputs": [],
   "source": []
  }
 ],
 "metadata": {
  "kernelspec": {
   "display_name": "Python 3 (ipykernel)",
   "language": "python",
   "name": "python3"
  },
  "language_info": {
   "codemirror_mode": {
    "name": "ipython",
    "version": 3
   },
   "file_extension": ".py",
   "mimetype": "text/x-python",
   "name": "python",
   "nbconvert_exporter": "python",
   "pygments_lexer": "ipython3",
   "version": "3.9.7"
  }
 },
 "nbformat": 4,
 "nbformat_minor": 5
}
