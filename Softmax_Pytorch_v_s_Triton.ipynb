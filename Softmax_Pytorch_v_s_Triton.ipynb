{
  "nbformat": 4,
  "nbformat_minor": 0,
  "metadata": {
    "colab": {
      "provenance": [],
      "gpuType": "T4"
    },
    "kernelspec": {
      "name": "python3",
      "display_name": "Python 3"
    },
    "language_info": {
      "name": "python"
    },
    "accelerator": "GPU"
  },
  "cells": [
    {
      "cell_type": "code",
      "execution_count": 10,
      "metadata": {
        "id": "hC8Lxyp80KDM"
      },
      "outputs": [],
      "source": [
        "import torch\n",
        "import triton\n",
        "import triton.language as tl"
      ]
    },
    {
      "cell_type": "code",
      "source": [
        "# https://github.com/pytorch/pytorch/issues/107960#issuecomment-1783432552\n",
        "!export LC_ALL=\"en_US.UTF-8\"\n",
        "!export LD_LIBRARY_PATH=\"/usr/lib64-nvidia\"\n",
        "!export LIBRARY_PATH=\"/usr/local/cuda/lib64/stubs\"\n",
        "!ldconfig /usr/lib64-nvidia"
      ],
      "metadata": {
        "colab": {
          "base_uri": "https://localhost:8080/"
        },
        "id": "785zlkTN6zg2",
        "outputId": "2d6b77f2-3e88-4278-9ea1-e2166cc89bbf"
      },
      "execution_count": 11,
      "outputs": [
        {
          "output_type": "stream",
          "name": "stdout",
          "text": [
            "/sbin/ldconfig.real: /usr/local/lib/libtbbbind_2_0.so.3 is not a symbolic link\n",
            "\n",
            "/sbin/ldconfig.real: /usr/local/lib/libtbbmalloc_proxy.so.2 is not a symbolic link\n",
            "\n",
            "/sbin/ldconfig.real: /usr/local/lib/libtbbmalloc.so.2 is not a symbolic link\n",
            "\n",
            "/sbin/ldconfig.real: /usr/local/lib/libtbb.so.12 is not a symbolic link\n",
            "\n",
            "/sbin/ldconfig.real: /usr/local/lib/libtbbbind_2_5.so.3 is not a symbolic link\n",
            "\n",
            "/sbin/ldconfig.real: /usr/local/lib/libtbbbind.so.3 is not a symbolic link\n",
            "\n"
          ]
        }
      ]
    },
    {
      "cell_type": "markdown",
      "source": [
        "Reference: https://www.youtube.com/playlist?list=PLSXcJOyFhmS-qb_CF-GLhkWxSmi-ftbPO"
      ],
      "metadata": {
        "id": "9AEKgJD90taT"
      }
    },
    {
      "cell_type": "code",
      "source": [
        "def naive_softmax(x: torch.Tensor) -> torch.Tensor:\n",
        "  \"\"\"Eager Mode Softmax\"\"\"\n",
        "  x_max = x.max(dim = 1)[0]\n",
        "  safe_x = x - x_max[:, None]\n",
        "  numerator = torch.exp(safe_x)\n",
        "  denominator = numerator.sum(dim=1)\n",
        "  sum_out = numerator/denominator[:, None]\n",
        "  return sum_out"
      ],
      "metadata": {
        "id": "kMBcSm2z10gy"
      },
      "execution_count": 12,
      "outputs": []
    },
    {
      "cell_type": "code",
      "source": [
        "@triton.jit\n",
        "def _softmax_fwd_kernel(\n",
        "    output_ptr,\n",
        "    stride_output_row,\n",
        "    input_ptr,\n",
        "    stride_input_row,\n",
        "    num_cols,\n",
        "    block_size: tl.constexpr,\n",
        "):\n",
        "  # setup input ptrs\n",
        "  row_index = tl.program_id(0)\n",
        "  row_start_ptr = input_ptr + (row_index * stride_input_row)\n",
        "  col_offsets = tl.arange(0,block_size)\n",
        "  input_pointers = row_start_ptr + col_offsets\n",
        "\n",
        "  row_mask = col_offsets < num_cols\n",
        "\n",
        "  # move to SRAM\n",
        "  row = tl.load(input_pointers, mask = row_mask, other = float(\"-inf\"))\n",
        "\n",
        "  # softmax itself\n",
        "  safe_row = row - tl.max(row, axis=0)\n",
        "  numerator = tl.exp(safe_row)\n",
        "  denominator = tl.sum(numerator, axis=0)\n",
        "  sm_out = numerator/denominator\n",
        "\n",
        "  # write back to HBM\n",
        "  output_row_ptr = output_ptr + (row_index * stride_output_row)\n",
        "  output_pointers = output_row_ptr + col_offsets\n",
        "  tl.store(output_pointers, sm_out, mask=row_mask)\n",
        "\n",
        "\n",
        "def tl_softmax(x: torch.Tensor) -> torch.Tensor:\n",
        "  \"\"\" Triton Softmax, Fwd Pass Only \"\"\"\n",
        "  rows, cols = x.shape\n",
        "  assert x.dim() == 2, f\"Accepts 2D Tensors Only\"\n",
        "  block_size = triton.next_power_of_2(cols)\n",
        "  num_warps = 4\n",
        "  if block_size > 2047:\n",
        "    num_warps=8\n",
        "  if block_size > 4095:\n",
        "    num_warps=16\n",
        "  grid = (rows,)\n",
        "\n",
        "  # allocate our output buffer\n",
        "  sm_out = torch.empty_like(x)\n",
        "  _softmax_fwd_kernel[grid](\n",
        "      sm_out,\n",
        "      sm_out.stride(0),\n",
        "      x,\n",
        "      x.stride(0),\n",
        "      cols,\n",
        "      block_size=block_size,\n",
        "      num_warps=num_warps\n",
        "  )\n",
        "\n",
        "  return sm_out\n",
        ""
      ],
      "metadata": {
        "id": "9Uy53vat2Kjx"
      },
      "execution_count": 13,
      "outputs": []
    },
    {
      "cell_type": "code",
      "source": [
        "sample = torch.tensor([[1,2,3,4,5], [5,4,3,2,1]], dtype=torch.float32, device='cuda')"
      ],
      "metadata": {
        "id": "ZefBPwR-0Rrt"
      },
      "execution_count": 14,
      "outputs": []
    },
    {
      "cell_type": "code",
      "source": [
        "sample"
      ],
      "metadata": {
        "colab": {
          "base_uri": "https://localhost:8080/"
        },
        "id": "E78629-50b6d",
        "outputId": "d73836ab-d67c-4044-9a13-e2e42260feae"
      },
      "execution_count": 15,
      "outputs": [
        {
          "output_type": "execute_result",
          "data": {
            "text/plain": [
              "tensor([[1., 2., 3., 4., 5.],\n",
              "        [5., 4., 3., 2., 1.]], device='cuda:0')"
            ]
          },
          "metadata": {},
          "execution_count": 15
        }
      ]
    },
    {
      "cell_type": "code",
      "source": [
        "ref_out = torch.softmax(sample, dim=1)\n",
        "eager_out = naive_softmax(sample)\n",
        "triton_out = tl_softmax(sample)"
      ],
      "metadata": {
        "id": "XrcEJ2Va0cW3"
      },
      "execution_count": 16,
      "outputs": []
    },
    {
      "cell_type": "code",
      "source": [
        "print(\"Ref Out = \", ref_out)\n",
        "print(\"Eager Out = \", eager_out)\n",
        "print(\"Triton Out = \", triton_out)"
      ],
      "metadata": {
        "colab": {
          "base_uri": "https://localhost:8080/"
        },
        "id": "qWCMrJi50g5K",
        "outputId": "badbfba6-719a-4023-ea81-e1f69b014ddd"
      },
      "execution_count": 17,
      "outputs": [
        {
          "output_type": "stream",
          "name": "stdout",
          "text": [
            "Ref Out =  tensor([[0.0117, 0.0317, 0.0861, 0.2341, 0.6364],\n",
            "        [0.6364, 0.2341, 0.0861, 0.0317, 0.0117]], device='cuda:0')\n",
            "Eager Out =  tensor([[0.0117, 0.0317, 0.0861, 0.2341, 0.6364],\n",
            "        [0.6364, 0.2341, 0.0861, 0.0317, 0.0117]], device='cuda:0')\n",
            "Triton Out =  tensor([[0.0117, 0.0317, 0.0861, 0.2341, 0.6364],\n",
            "        [0.6364, 0.2341, 0.0861, 0.0317, 0.0117]], device='cuda:0')\n"
          ]
        }
      ]
    },
    {
      "cell_type": "markdown",
      "source": [
        "## Benchmarking -\n",
        "\n",
        "Source - https://triton-lang.org/main/getting-started/tutorials/02-fused-softmax.html#sphx-glr-getting-started-tutorials-02-fused-softmax-py"
      ],
      "metadata": {
        "id": "TZcDzL7H8bLh"
      }
    },
    {
      "cell_type": "code",
      "source": [
        "@triton.testing.perf_report(\n",
        "    triton.testing.Benchmark(\n",
        "        x_names=['N'],  # argument names to use as an x-axis for the plot\n",
        "        x_vals=[128 * i for i in range(2, 100)],  # different possible values for `x_name`\n",
        "        line_arg='provider',  # argument name whose value corresponds to a different line in the plot\n",
        "        line_vals=[\n",
        "            'triton',\n",
        "            'torch-native',\n",
        "            'torch-jit',\n",
        "        ],  # possible values for `line_arg``\n",
        "        line_names=[\n",
        "            \"Triton\",\n",
        "            \"Torch (native)\",\n",
        "            \"Torch (jit)\",\n",
        "        ],  # label name for the lines\n",
        "        styles=[('blue', '-'), ('green', '-'), ('green', '--')],  # line styles\n",
        "        ylabel=\"GB/s\",  # label name for the y-axis\n",
        "        plot_name=\"softmax-performance\",  # name for the plot. Used also as a file name for saving the plot.\n",
        "        args={'M': 4096},  # values for function arguments not in `x_names` and `y_name`\n",
        "    ))\n",
        "def benchmark(M, N, provider):\n",
        "    x = torch.randn(M, N, device='cuda', dtype=torch.float32)\n",
        "    quantiles = [0.5, 0.2, 0.8]\n",
        "    if provider == 'torch-native':\n",
        "        ms, min_ms, max_ms = triton.testing.do_bench(lambda: torch.softmax(x, axis=-1), quantiles=quantiles)\n",
        "    if provider == 'triton':\n",
        "        ms, min_ms, max_ms = triton.testing.do_bench(lambda: tl_softmax(x), quantiles=quantiles)\n",
        "    if provider == 'torch-jit':\n",
        "        ms, min_ms, max_ms = triton.testing.do_bench(lambda: naive_softmax(x), quantiles=quantiles)\n",
        "    gbps = lambda ms: 2 * x.nelement() * x.element_size() * 1e-9 / (ms * 1e-3)\n",
        "    return gbps(ms), gbps(max_ms), gbps(min_ms)\n",
        "\n",
        "\n",
        "benchmark.run(show_plots=True, print_data=True)"
      ],
      "metadata": {
        "colab": {
          "base_uri": "https://localhost:8080/",
          "height": 712
        },
        "id": "E59f7_AC71Qc",
        "outputId": "df856e6a-a541-43bf-c818-69e60dbcbdf7"
      },
      "execution_count": 19,
      "outputs": [
        {
          "output_type": "display_data",
          "data": {
            "text/plain": [
              "<Figure size 640x480 with 1 Axes>"
            ],
            "image/png": "[encoded data removed]"
          },
          "metadata": {}
        },
        {
          "output_type": "stream",
          "name": "stdout",
          "text": [
            "softmax-performance:\n",
            "          N      Triton  Torch (native)  Torch (jit)\n",
            "0     256.0  156.503885      206.412597    45.503212\n",
            "1     384.0  227.555555      218.271443    54.834194\n",
            "2     512.0  221.405396      217.727580    55.351349\n",
            "3     640.0  226.376517      213.333326    56.302405\n",
            "4     768.0  226.181195      213.472306    57.049837\n",
            "..      ...         ...             ...          ...\n",
            "93  12160.0  230.820452      134.758718    61.732619\n",
            "94  12288.0  230.760556      134.020450    61.720878\n",
            "95  12416.0  230.578527      136.019166    61.566097\n",
            "96  12544.0  230.735690      134.623031    61.641276\n",
            "97  12672.0  230.703120      132.455423    61.574258\n",
            "\n",
            "[98 rows x 4 columns]\n"
          ]
        }
      ]
    }
  ]
}