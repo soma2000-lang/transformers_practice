{
 "cells": [
  {
   "cell_type": "code",
   "execution_count": 1,
   "metadata": {},
   "outputs": [],
   "source": [
    "import string\n",
    "import numpy as np\n",
    "import pandas as pd\n",
    "import matplotlib.pyplot as plt\n",
    "import seaborn as sns\n",
    "from sklearn.metrics import classification_report,confusion_matrix\n",
    "from sklearn.model_selection import train_test_split\n",
    "from sklearn.neural_network import MLPClassifier"
   ]
  },
  {
   "cell_type": "code",
   "execution_count": 2,
   "metadata": {},
   "outputs": [],
   "source": [
    "data_dir = 'data/'\n",
    "\n",
    "def read_text(file):\n",
    "    with open(file, 'r') as f:\n",
    "        text = f.readlines()\n",
    "    for i in range(len(text)):\n",
    "        text[i] = text[i].replace('\\n', '')\n",
    "    return text\n",
    "\n",
    "palindromic_strings = read_text(data_dir + 'palindromic_strings.txt')\n",
    "nonpalindromic_strings = read_text(data_dir + 'nonpalindromic_strings.txt')\n",
    "palindromic_strings_off_by_one_swap = read_text(data_dir + 'palindromic_strings_off_by_one_swap.txt')\n",
    "palindromic_strings_off_by_one_random_replacement = read_text(data_dir + 'palindromic_strings_off_by_one_random_replacement.txt') "
   ]
  },
  {
   "cell_type": "code",
   "execution_count": 3,
   "metadata": {},
   "outputs": [
    {
     "name": "stdout",
     "output_type": "stream",
     "text": [
      "60000 60000\n"
     ]
    }
   ],
   "source": [
    "challenge_dataset = palindromic_strings[-3000:] + nonpalindromic_strings[-1000:] + palindromic_strings_off_by_one_swap[-1000:] + palindromic_strings_off_by_one_random_replacement[-1000:]\n",
    "challenge_labels = [0] * 3000 + [1] * 1000 + [1] * 1000 + [1] * 1000\n",
    "challenge_finegrained_labels = {}\n",
    "for i in range(3000):\n",
    "    challenge_finegrained_labels[palindromic_strings[-3000:][i]] = 0\n",
    "for i in range(1000):\n",
    "    challenge_finegrained_labels[nonpalindromic_strings[-1000:][i]] = 1\n",
    "    challenge_finegrained_labels[palindromic_strings_off_by_one_swap[-1000:][i]] = 2\n",
    "    challenge_finegrained_labels[palindromic_strings_off_by_one_random_replacement[-1000:][i]] = 3\n",
    "\n",
    "dataset = palindromic_strings[:30000] + nonpalindromic_strings[:10000] + palindromic_strings_off_by_one_swap[:10000] + palindromic_strings_off_by_one_random_replacement[:10000]\n",
    "labels = [0] * 30000 + [1] * 10000 + [1] * 10000 + [1] * 10000\n",
    "finegrained_labels = {}\n",
    "for i in range(30000):\n",
    "    finegrained_labels[palindromic_strings[:30000][i]] = 0\n",
    "for i in range(10000):\n",
    "    finegrained_labels[nonpalindromic_strings[:10000][i]] = 1\n",
    "    finegrained_labels[palindromic_strings_off_by_one_swap[:10000][i]] = 2\n",
    "    finegrained_labels[palindromic_strings_off_by_one_random_replacement[:10000][i]] = 3\n",
    "print(len(dataset), len(labels))\n",
    "# train test split\n",
    "train_dataset, test_dataset, train_labels, test_labels = train_test_split(dataset, labels, test_size=0.2, random_state=42, stratify=labels)"
   ]
  },
  {
   "cell_type": "code",
   "execution_count": 4,
   "metadata": {},
   "outputs": [],
   "source": [
    "train_dataset_finegrained_labels = []\n",
    "for i in train_dataset:\n",
    "    train_dataset_finegrained_labels.append(finegrained_labels[i])\n",
    "test_dataset_finegrained_labels = []\n",
    "for i in test_dataset:\n",
    "    test_dataset_finegrained_labels.append(finegrained_labels[i])\n",
    "challenge_dataset_finegrained_labels = []\n",
    "for i in challenge_dataset:\n",
    "    challenge_dataset_finegrained_labels.append(challenge_finegrained_labels[i])"
   ]
  },
  {
   "cell_type": "code",
   "execution_count": 5,
   "metadata": {},
   "outputs": [],
   "source": [
    "SEQ_LENGTH = 9\n",
    "all_chars = string.ascii_uppercase"
   ]
  },
  {
   "cell_type": "code",
   "execution_count": 6,
   "metadata": {},
   "outputs": [],
   "source": [
    "def printFormattedClassificationReport(classification_report):\n",
    "    print(\"Accuracy: \", classification_report['accuracy'])\n",
    "    print(\"Class 0 Precision: \", classification_report['0']['precision'])\n",
    "    print(\"Class 0 Recall: \", classification_report['0']['recall'])\n",
    "    print(\"Class 0 F1 Score: \", classification_report['0']['f1-score'])\n",
    "    print(\"Class 1 Precision: \", classification_report['1']['precision'])\n",
    "    print(\"Class 1 Recall: \", classification_report['1']['recall'])\n",
    "    print(\"Class 1 F1 Score: \", classification_report['1']['f1-score'])\n",
    "    print(\"Macro Average Precision: \", classification_report['macro avg']['precision'])\n",
    "    print(\"Macro Average Recall: \", classification_report['macro avg']['recall'])\n",
    "    print(\"Macro Average F1 Score: \", classification_report['macro avg']['f1-score'])\n",
    "    print(\"Weighted Average Precision: \", classification_report['weighted avg']['precision'])\n",
    "    print(\"Weighted Average Recall: \", classification_report['weighted avg']['recall'])\n",
    "    print(\"Weighted Average F1 Score: \", classification_report['weighted avg']['f1-score'])"
   ]
  },
  {
   "cell_type": "code",
   "execution_count": 7,
   "metadata": {},
   "outputs": [],
   "source": [
    "def printCorrectnessOverDifferentTypes(predictions, mode):\n",
    "    if mode == 'test':\n",
    "        labels = test_labels\n",
    "        finegrained_labels = test_dataset_finegrained_labels\n",
    "    elif mode == 'challenge':\n",
    "        labels = challenge_labels\n",
    "        finegrained_labels = challenge_dataset_finegrained_labels\n",
    "    finegrained_label_correct = [0, 0, 0, 0]\n",
    "    finegrained_label_total = [0, 0, 0, 0]\n",
    "    for i in range(len(predictions)):\n",
    "        finegrained_label_total[finegrained_labels[i]] += 1\n",
    "        if predictions[i] == labels[i]:\n",
    "            finegrained_label_correct[finegrained_labels[i]] += 1\n",
    "    print(\"Accuracy for Palindromic Strings: \", finegrained_label_correct[0]/finegrained_label_total[0])\n",
    "    print(\"Accuracy for Nonpalindromic Strings: \", finegrained_label_correct[1]/finegrained_label_total[1])\n",
    "    print(\"Accuracy for Palindromic Strings Off By One Swap: \", finegrained_label_correct[2]/finegrained_label_total[2])\n",
    "    print(\"Accuracy for Palindromic Strings Off By One Random Replacement: \", finegrained_label_correct[3]/finegrained_label_total[3])\n"
   ]
  },
  {
   "cell_type": "markdown",
   "metadata": {},
   "source": [
    "# Encode Using Alphabet Arrays With Bools"
   ]
  },
  {
   "cell_type": "code",
   "execution_count": 8,
   "metadata": {},
   "outputs": [],
   "source": [
    "def encode(seq):\n",
    "    seq = seq.upper()\n",
    "    assert len(seq) == SEQ_LENGTH, \"length of sequence must be {}\".format(SEQ_LENGTH)\n",
    "    encoding = [0]*len(all_chars)\n",
    "    for i, char in enumerate(seq):\n",
    "        encoding[all_chars.index(char)] = 1\n",
    "    return encoding\n",
    "\n",
    "encoded_train_dataset = [encode(seq) for seq in train_dataset]\n",
    "encoded_test_dataset = [encode(seq) for seq in test_dataset]\n",
    "encoded_challenge_dataset = [encode(seq) for seq in challenge_dataset]"
   ]
  },
  {
   "cell_type": "code",
   "execution_count": 9,
   "metadata": {},
   "outputs": [
    {
     "name": "stdout",
     "output_type": "stream",
     "text": [
      "Iteration 1, loss = 0.76238170\n",
      "Validation score: 0.458750\n",
      "Iteration 2, loss = 0.70749235\n",
      "Validation score: 0.483542\n",
      "Iteration 3, loss = 0.69321402\n",
      "Validation score: 0.539583\n",
      "Iteration 4, loss = 0.67897496\n",
      "Validation score: 0.645625\n",
      "Iteration 5, loss = 0.65684353\n",
      "Validation score: 0.662500\n",
      "Iteration 6, loss = 0.59936383\n",
      "Validation score: 0.740000\n",
      "Iteration 7, loss = 0.56444406\n",
      "Validation score: 0.749167\n",
      "Iteration 8, loss = 0.54764263\n",
      "Validation score: 0.743750\n",
      "Iteration 9, loss = 0.53941393\n",
      "Validation score: 0.757292\n",
      "Iteration 10, loss = 0.53502241\n",
      "Validation score: 0.757083\n",
      "Iteration 11, loss = 0.53273981\n",
      "Validation score: 0.755417\n",
      "Iteration 12, loss = 0.53130072\n",
      "Validation score: 0.753542\n",
      "Iteration 13, loss = 0.53059318\n",
      "Validation score: 0.753542\n",
      "Iteration 14, loss = 0.53014520\n",
      "Validation score: 0.757708\n",
      "Iteration 15, loss = 0.52983507\n",
      "Validation score: 0.757083\n",
      "Iteration 16, loss = 0.52965293\n",
      "Validation score: 0.757292\n",
      "Iteration 17, loss = 0.52939649\n",
      "Validation score: 0.757500\n",
      "Iteration 18, loss = 0.52936478\n",
      "Validation score: 0.757083\n",
      "Iteration 19, loss = 0.52913566\n",
      "Validation score: 0.752708\n",
      "Iteration 20, loss = 0.52902584\n",
      "Validation score: 0.751458\n",
      "Iteration 21, loss = 0.52894759\n",
      "Validation score: 0.745000\n",
      "Iteration 22, loss = 0.52882203\n",
      "Validation score: 0.754375\n",
      "Iteration 23, loss = 0.52856698\n",
      "Validation score: 0.754792\n",
      "Iteration 24, loss = 0.52845751\n",
      "Validation score: 0.750417\n",
      "Iteration 25, loss = 0.52828501\n",
      "Validation score: 0.752292\n",
      "Validation score did not improve more than tol=0.000100 for 10 consecutive epochs. Stopping.\n"
     ]
    },
    {
     "data": {
      "text/html": [
       "<style>#sk-container-id-1 {color: black;}#sk-container-id-1 pre{padding: 0;}#sk-container-id-1 div.sk-toggleable {background-color: white;}#sk-container-id-1 label.sk-toggleable__label {cursor: pointer;display: block;width: 100%;margin-bottom: 0;padding: 0.3em;box-sizing: border-box;text-align: center;}#sk-container-id-1 label.sk-toggleable__label-arrow:before {content: \"▸\";float: left;margin-right: 0.25em;color: #696969;}#sk-container-id-1 label.sk-toggleable__label-arrow:hover:before {color: black;}#sk-container-id-1 div.sk-estimator:hover label.sk-toggleable__label-arrow:before {color: black;}#sk-container-id-1 div.sk-toggleable__content {max-height: 0;max-width: 0;overflow: hidden;text-align: left;background-color: #f0f8ff;}#sk-container-id-1 div.sk-toggleable__content pre {margin: 0.2em;color: black;border-radius: 0.25em;background-color: #f0f8ff;}#sk-container-id-1 input.sk-toggleable__control:checked~div.sk-toggleable__content {max-height: 200px;max-width: 100%;overflow: auto;}#sk-container-id-1 input.sk-toggleable__control:checked~label.sk-toggleable__label-arrow:before {content: \"▾\";}#sk-container-id-1 div.sk-estimator input.sk-toggleable__control:checked~label.sk-toggleable__label {background-color: #d4ebff;}#sk-container-id-1 div.sk-label input.sk-toggleable__control:checked~label.sk-toggleable__label {background-color: #d4ebff;}#sk-container-id-1 input.sk-hidden--visually {border: 0;clip: rect(1px 1px 1px 1px);clip: rect(1px, 1px, 1px, 1px);height: 1px;margin: -1px;overflow: hidden;padding: 0;position: absolute;width: 1px;}#sk-container-id-1 div.sk-estimator {font-family: monospace;background-color: #f0f8ff;border: 1px dotted black;border-radius: 0.25em;box-sizing: border-box;margin-bottom: 0.5em;}#sk-container-id-1 div.sk-estimator:hover {background-color: #d4ebff;}#sk-container-id-1 div.sk-parallel-item::after {content: \"\";width: 100%;border-bottom: 1px solid gray;flex-grow: 1;}#sk-container-id-1 div.sk-label:hover label.sk-toggleable__label {background-color: #d4ebff;}#sk-container-id-1 div.sk-serial::before {content: \"\";position: absolute;border-left: 1px solid gray;box-sizing: border-box;top: 0;bottom: 0;left: 50%;z-index: 0;}#sk-container-id-1 div.sk-serial {display: flex;flex-direction: column;align-items: center;background-color: white;padding-right: 0.2em;padding-left: 0.2em;position: relative;}#sk-container-id-1 div.sk-item {position: relative;z-index: 1;}#sk-container-id-1 div.sk-parallel {display: flex;align-items: stretch;justify-content: center;background-color: white;position: relative;}#sk-container-id-1 div.sk-item::before, #sk-container-id-1 div.sk-parallel-item::before {content: \"\";position: absolute;border-left: 1px solid gray;box-sizing: border-box;top: 0;bottom: 0;left: 50%;z-index: -1;}#sk-container-id-1 div.sk-parallel-item {display: flex;flex-direction: column;z-index: 1;position: relative;background-color: white;}#sk-container-id-1 div.sk-parallel-item:first-child::after {align-self: flex-end;width: 50%;}#sk-container-id-1 div.sk-parallel-item:last-child::after {align-self: flex-start;width: 50%;}#sk-container-id-1 div.sk-parallel-item:only-child::after {width: 0;}#sk-container-id-1 div.sk-dashed-wrapped {border: 1px dashed gray;margin: 0 0.4em 0.5em 0.4em;box-sizing: border-box;padding-bottom: 0.4em;background-color: white;}#sk-container-id-1 div.sk-label label {font-family: monospace;font-weight: bold;display: inline-block;line-height: 1.2em;}#sk-container-id-1 div.sk-label-container {text-align: center;}#sk-container-id-1 div.sk-container {/* jupyter's `normalize.less` sets `[hidden] { display: none; }` but bootstrap.min.css set `[hidden] { display: none !important; }` so we also need the `!important` here to be able to override the default hidden behavior on the sphinx rendered scikit-learn.org. See: https://github.com/scikit-learn/scikit-learn/issues/21755 */display: inline-block !important;position: relative;}#sk-container-id-1 div.sk-text-repr-fallback {display: none;}</style><div id=\"sk-container-id-1\" class=\"sk-top-container\"><div class=\"sk-text-repr-fallback\"><pre>MLPClassifier(early_stopping=True, hidden_layer_sizes=10, max_iter=1000,\n",
       "              random_state=42, verbose=True)</pre><b>In a Jupyter environment, please rerun this cell to show the HTML representation or trust the notebook. <br />On GitHub, the HTML representation is unable to render, please try loading this page with nbviewer.org.</b></div><div class=\"sk-container\" hidden><div class=\"sk-item\"><div class=\"sk-estimator sk-toggleable\"><input class=\"sk-toggleable__control sk-hidden--visually\" id=\"sk-estimator-id-1\" type=\"checkbox\" checked><label for=\"sk-estimator-id-1\" class=\"sk-toggleable__label sk-toggleable__label-arrow\">MLPClassifier</label><div class=\"sk-toggleable__content\"><pre>MLPClassifier(early_stopping=True, hidden_layer_sizes=10, max_iter=1000,\n",
       "              random_state=42, verbose=True)</pre></div></div></div></div></div>"
      ],
      "text/plain": [
       "MLPClassifier(early_stopping=True, hidden_layer_sizes=10, max_iter=1000,\n",
       "              random_state=42, verbose=True)"
      ]
     },
     "execution_count": 9,
     "metadata": {},
     "output_type": "execute_result"
    }
   ],
   "source": [
    "clf = MLPClassifier(hidden_layer_sizes=(10), random_state=42, max_iter=1000, verbose=True, early_stopping=True, validation_fraction=0.1)\n",
    "clf.fit(encoded_train_dataset, train_labels)"
   ]
  },
  {
   "cell_type": "code",
   "execution_count": 10,
   "metadata": {},
   "outputs": [
    {
     "name": "stdout",
     "output_type": "stream",
     "text": [
      "Accuracy:  0.7565833333333334\n",
      "Class 0 Precision:  0.6728027837018745\n",
      "Class 0 Recall:  0.999\n",
      "Class 0 F1 Score:  0.8040780736467905\n",
      "Class 1 Precision:  0.9980588806211582\n",
      "Class 1 Recall:  0.5141666666666667\n",
      "Class 1 F1 Score:  0.6786932130678694\n",
      "Macro Average Precision:  0.8354308321615164\n",
      "Macro Average Recall:  0.7565833333333334\n",
      "Macro Average F1 Score:  0.74138564335733\n",
      "Weighted Average Precision:  0.8354308321615164\n",
      "Weighted Average Recall:  0.7565833333333334\n",
      "Weighted Average F1 Score:  0.7413856433573299\n",
      "--------------------------------------------------\n",
      "Accuracy for Palindromic Strings:  0.999\n",
      "Accuracy for Nonpalindromic Strings:  0.9877862595419847\n",
      "Accuracy for Palindromic Strings Off By One Swap:  0.0004930966469428008\n",
      "Accuracy for Palindromic Strings Off By One Random Replacement:  0.5695067264573991\n"
     ]
    }
   ],
   "source": [
    "test_preds = clf.predict(encoded_test_dataset)\n",
    "test_report = classification_report(test_labels, test_preds, output_dict=True)\n",
    "printFormattedClassificationReport(test_report)\n",
    "print('-'*50)\n",
    "printCorrectnessOverDifferentTypes(test_preds, 'test')"
   ]
  },
  {
   "cell_type": "code",
   "execution_count": 11,
   "metadata": {},
   "outputs": [
    {
     "name": "stdout",
     "output_type": "stream",
     "text": [
      "Accuracy:  0.7611666666666667\n",
      "Class 0 Precision:  0.6771422111688898\n",
      "Class 0 Recall:  0.9983333333333333\n",
      "Class 0 F1 Score:  0.8069513673716826\n",
      "Class 1 Precision:  0.9968294229549778\n",
      "Class 1 Recall:  0.524\n",
      "Class 1 F1 Score:  0.686912824994538\n",
      "Macro Average Precision:  0.8369858170619338\n",
      "Macro Average Recall:  0.7611666666666667\n",
      "Macro Average F1 Score:  0.7469320961831103\n",
      "Weighted Average Precision:  0.8369858170619338\n",
      "Weighted Average Recall:  0.7611666666666667\n",
      "Weighted Average F1 Score:  0.7469320961831102\n",
      "--------------------------------------------------\n",
      "Accuracy for Palindromic Strings:  0.9983333333333333\n",
      "Accuracy for Nonpalindromic Strings:  0.994\n",
      "Accuracy for Palindromic Strings Off By One Swap:  0.0\n",
      "Accuracy for Palindromic Strings Off By One Random Replacement:  0.578\n"
     ]
    }
   ],
   "source": [
    "challenge_preds = clf.predict(encoded_challenge_dataset)\n",
    "challenge_report = classification_report(challenge_labels, challenge_preds, output_dict=True)\n",
    "printFormattedClassificationReport(challenge_report)\n",
    "print('-'*50)\n",
    "printCorrectnessOverDifferentTypes(challenge_preds, 'challenge')"
   ]
  },
  {
   "cell_type": "markdown",
   "metadata": {},
   "source": [
    "# Encode Using Alphabet Arrays With Frequencies"
   ]
  },
  {
   "cell_type": "code",
   "execution_count": 12,
   "metadata": {},
   "outputs": [],
   "source": [
    "def encode_with_freq(seq):\n",
    "    seq = seq.upper()\n",
    "    assert len(seq) == SEQ_LENGTH, \"length of sequence must be {}\".format(SEQ_LENGTH)\n",
    "    encoding = [0]*len(all_chars)\n",
    "    for i, char in enumerate(seq):\n",
    "        encoding[all_chars.index(char)] += 1\n",
    "    return encoding\n",
    "\n",
    "encoded_with_freq_train_dataset = [encode_with_freq(seq) for seq in train_dataset]\n",
    "encoded_with_freq_test_dataset = [encode_with_freq(seq) for seq in test_dataset]\n",
    "encoded_with_freq_challenge_dataset = [encode_with_freq(seq) for seq in challenge_dataset]"
   ]
  },
  {
   "cell_type": "code",
   "execution_count": 13,
   "metadata": {},
   "outputs": [
    {
     "name": "stdout",
     "output_type": "stream",
     "text": [
      "Iteration 1, loss = 0.67857196\n",
      "Validation score: 0.605625\n",
      "Iteration 2, loss = 0.64835134\n",
      "Validation score: 0.634792\n",
      "Iteration 3, loss = 0.63466757\n",
      "Validation score: 0.626875\n",
      "Iteration 4, loss = 0.62580528\n",
      "Validation score: 0.639792\n",
      "Iteration 5, loss = 0.61850516\n",
      "Validation score: 0.626250\n",
      "Iteration 6, loss = 0.61225316\n",
      "Validation score: 0.603333\n",
      "Iteration 7, loss = 0.60611896\n",
      "Validation score: 0.619167\n",
      "Iteration 8, loss = 0.60036505\n",
      "Validation score: 0.645208\n",
      "Iteration 9, loss = 0.59436176\n",
      "Validation score: 0.652708\n",
      "Iteration 10, loss = 0.58868376\n",
      "Validation score: 0.640208\n",
      "Iteration 11, loss = 0.58323329\n",
      "Validation score: 0.655208\n",
      "Iteration 12, loss = 0.57731968\n",
      "Validation score: 0.651875\n",
      "Iteration 13, loss = 0.57213541\n",
      "Validation score: 0.643333\n",
      "Iteration 14, loss = 0.56752811\n",
      "Validation score: 0.657500\n",
      "Iteration 15, loss = 0.56354236\n",
      "Validation score: 0.656250\n",
      "Iteration 16, loss = 0.55861115\n",
      "Validation score: 0.696042\n",
      "Iteration 17, loss = 0.55474257\n",
      "Validation score: 0.699375\n",
      "Iteration 18, loss = 0.55069961\n",
      "Validation score: 0.703542\n",
      "Iteration 19, loss = 0.54705884\n",
      "Validation score: 0.695625\n",
      "Iteration 20, loss = 0.54349832\n",
      "Validation score: 0.705208\n",
      "Iteration 21, loss = 0.54025112\n",
      "Validation score: 0.685417\n",
      "Iteration 22, loss = 0.53675791\n",
      "Validation score: 0.713542\n",
      "Iteration 23, loss = 0.53476356\n",
      "Validation score: 0.695625\n",
      "Iteration 24, loss = 0.53172720\n",
      "Validation score: 0.692083\n",
      "Iteration 25, loss = 0.52845967\n",
      "Validation score: 0.706875\n",
      "Iteration 26, loss = 0.52661104\n",
      "Validation score: 0.709375\n",
      "Iteration 27, loss = 0.52402827\n",
      "Validation score: 0.698125\n",
      "Iteration 28, loss = 0.52125014\n",
      "Validation score: 0.680000\n",
      "Iteration 29, loss = 0.51969560\n",
      "Validation score: 0.715417\n",
      "Iteration 30, loss = 0.51679287\n",
      "Validation score: 0.715417\n",
      "Iteration 31, loss = 0.51600011\n",
      "Validation score: 0.704583\n",
      "Iteration 32, loss = 0.51426728\n",
      "Validation score: 0.715833\n",
      "Iteration 33, loss = 0.51258098\n",
      "Validation score: 0.723750\n",
      "Iteration 34, loss = 0.51078007\n",
      "Validation score: 0.716458\n",
      "Iteration 35, loss = 0.50854420\n",
      "Validation score: 0.722292\n",
      "Iteration 36, loss = 0.50779881\n",
      "Validation score: 0.733125\n",
      "Iteration 37, loss = 0.50714481\n",
      "Validation score: 0.722708\n",
      "Iteration 38, loss = 0.50573642\n",
      "Validation score: 0.726250\n",
      "Iteration 39, loss = 0.50466798\n",
      "Validation score: 0.697083\n",
      "Iteration 40, loss = 0.50463103\n",
      "Validation score: 0.727708\n",
      "Iteration 41, loss = 0.50242809\n",
      "Validation score: 0.715417\n",
      "Iteration 42, loss = 0.50156336\n",
      "Validation score: 0.727083\n",
      "Iteration 43, loss = 0.50120024\n",
      "Validation score: 0.734375\n",
      "Iteration 44, loss = 0.49908856\n",
      "Validation score: 0.725625\n",
      "Iteration 45, loss = 0.49861792\n",
      "Validation score: 0.705417\n",
      "Iteration 46, loss = 0.49680249\n",
      "Validation score: 0.730625\n",
      "Iteration 47, loss = 0.49657812\n",
      "Validation score: 0.727917\n",
      "Iteration 48, loss = 0.49572790\n",
      "Validation score: 0.732708\n",
      "Iteration 49, loss = 0.49492781\n",
      "Validation score: 0.744583\n",
      "Iteration 50, loss = 0.49350571\n",
      "Validation score: 0.702917\n",
      "Iteration 51, loss = 0.49422428\n",
      "Validation score: 0.734167\n",
      "Iteration 52, loss = 0.49233565\n",
      "Validation score: 0.728542\n",
      "Iteration 53, loss = 0.49086119\n",
      "Validation score: 0.705208\n",
      "Iteration 54, loss = 0.49106370\n",
      "Validation score: 0.742292\n",
      "Iteration 55, loss = 0.49028178\n",
      "Validation score: 0.716042\n",
      "Iteration 56, loss = 0.48995254\n",
      "Validation score: 0.706458\n",
      "Iteration 57, loss = 0.48779529\n",
      "Validation score: 0.741042\n",
      "Iteration 58, loss = 0.48691489\n",
      "Validation score: 0.717500\n",
      "Iteration 59, loss = 0.48728799\n",
      "Validation score: 0.733958\n",
      "Iteration 60, loss = 0.48596959\n",
      "Validation score: 0.737500\n",
      "Validation score did not improve more than tol=0.000100 for 10 consecutive epochs. Stopping.\n"
     ]
    },
    {
     "data": {
      "text/html": [
       "<style>#sk-container-id-2 {color: black;}#sk-container-id-2 pre{padding: 0;}#sk-container-id-2 div.sk-toggleable {background-color: white;}#sk-container-id-2 label.sk-toggleable__label {cursor: pointer;display: block;width: 100%;margin-bottom: 0;padding: 0.3em;box-sizing: border-box;text-align: center;}#sk-container-id-2 label.sk-toggleable__label-arrow:before {content: \"▸\";float: left;margin-right: 0.25em;color: #696969;}#sk-container-id-2 label.sk-toggleable__label-arrow:hover:before {color: black;}#sk-container-id-2 div.sk-estimator:hover label.sk-toggleable__label-arrow:before {color: black;}#sk-container-id-2 div.sk-toggleable__content {max-height: 0;max-width: 0;overflow: hidden;text-align: left;background-color: #f0f8ff;}#sk-container-id-2 div.sk-toggleable__content pre {margin: 0.2em;color: black;border-radius: 0.25em;background-color: #f0f8ff;}#sk-container-id-2 input.sk-toggleable__control:checked~div.sk-toggleable__content {max-height: 200px;max-width: 100%;overflow: auto;}#sk-container-id-2 input.sk-toggleable__control:checked~label.sk-toggleable__label-arrow:before {content: \"▾\";}#sk-container-id-2 div.sk-estimator input.sk-toggleable__control:checked~label.sk-toggleable__label {background-color: #d4ebff;}#sk-container-id-2 div.sk-label input.sk-toggleable__control:checked~label.sk-toggleable__label {background-color: #d4ebff;}#sk-container-id-2 input.sk-hidden--visually {border: 0;clip: rect(1px 1px 1px 1px);clip: rect(1px, 1px, 1px, 1px);height: 1px;margin: -1px;overflow: hidden;padding: 0;position: absolute;width: 1px;}#sk-container-id-2 div.sk-estimator {font-family: monospace;background-color: #f0f8ff;border: 1px dotted black;border-radius: 0.25em;box-sizing: border-box;margin-bottom: 0.5em;}#sk-container-id-2 div.sk-estimator:hover {background-color: #d4ebff;}#sk-container-id-2 div.sk-parallel-item::after {content: \"\";width: 100%;border-bottom: 1px solid gray;flex-grow: 1;}#sk-container-id-2 div.sk-label:hover label.sk-toggleable__label {background-color: #d4ebff;}#sk-container-id-2 div.sk-serial::before {content: \"\";position: absolute;border-left: 1px solid gray;box-sizing: border-box;top: 0;bottom: 0;left: 50%;z-index: 0;}#sk-container-id-2 div.sk-serial {display: flex;flex-direction: column;align-items: center;background-color: white;padding-right: 0.2em;padding-left: 0.2em;position: relative;}#sk-container-id-2 div.sk-item {position: relative;z-index: 1;}#sk-container-id-2 div.sk-parallel {display: flex;align-items: stretch;justify-content: center;background-color: white;position: relative;}#sk-container-id-2 div.sk-item::before, #sk-container-id-2 div.sk-parallel-item::before {content: \"\";position: absolute;border-left: 1px solid gray;box-sizing: border-box;top: 0;bottom: 0;left: 50%;z-index: -1;}#sk-container-id-2 div.sk-parallel-item {display: flex;flex-direction: column;z-index: 1;position: relative;background-color: white;}#sk-container-id-2 div.sk-parallel-item:first-child::after {align-self: flex-end;width: 50%;}#sk-container-id-2 div.sk-parallel-item:last-child::after {align-self: flex-start;width: 50%;}#sk-container-id-2 div.sk-parallel-item:only-child::after {width: 0;}#sk-container-id-2 div.sk-dashed-wrapped {border: 1px dashed gray;margin: 0 0.4em 0.5em 0.4em;box-sizing: border-box;padding-bottom: 0.4em;background-color: white;}#sk-container-id-2 div.sk-label label {font-family: monospace;font-weight: bold;display: inline-block;line-height: 1.2em;}#sk-container-id-2 div.sk-label-container {text-align: center;}#sk-container-id-2 div.sk-container {/* jupyter's `normalize.less` sets `[hidden] { display: none; }` but bootstrap.min.css set `[hidden] { display: none !important; }` so we also need the `!important` here to be able to override the default hidden behavior on the sphinx rendered scikit-learn.org. See: https://github.com/scikit-learn/scikit-learn/issues/21755 */display: inline-block !important;position: relative;}#sk-container-id-2 div.sk-text-repr-fallback {display: none;}</style><div id=\"sk-container-id-2\" class=\"sk-top-container\"><div class=\"sk-text-repr-fallback\"><pre>MLPClassifier(early_stopping=True, hidden_layer_sizes=100, max_iter=1000,\n",
       "              random_state=42, verbose=True)</pre><b>In a Jupyter environment, please rerun this cell to show the HTML representation or trust the notebook. <br />On GitHub, the HTML representation is unable to render, please try loading this page with nbviewer.org.</b></div><div class=\"sk-container\" hidden><div class=\"sk-item\"><div class=\"sk-estimator sk-toggleable\"><input class=\"sk-toggleable__control sk-hidden--visually\" id=\"sk-estimator-id-2\" type=\"checkbox\" checked><label for=\"sk-estimator-id-2\" class=\"sk-toggleable__label sk-toggleable__label-arrow\">MLPClassifier</label><div class=\"sk-toggleable__content\"><pre>MLPClassifier(early_stopping=True, hidden_layer_sizes=100, max_iter=1000,\n",
       "              random_state=42, verbose=True)</pre></div></div></div></div></div>"
      ],
      "text/plain": [
       "MLPClassifier(early_stopping=True, hidden_layer_sizes=100, max_iter=1000,\n",
       "              random_state=42, verbose=True)"
      ]
     },
     "execution_count": 13,
     "metadata": {},
     "output_type": "execute_result"
    }
   ],
   "source": [
    "clf_encoded_with_freq = MLPClassifier(hidden_layer_sizes=(100), random_state=42, max_iter=1000, verbose=True, early_stopping=True, validation_fraction=0.1)\n",
    "clf_encoded_with_freq.fit(encoded_with_freq_train_dataset, train_labels)"
   ]
  },
  {
   "cell_type": "code",
   "execution_count": 14,
   "metadata": {},
   "outputs": [
    {
     "name": "stdout",
     "output_type": "stream",
     "text": [
      "Accuracy:  0.745\n",
      "Class 0 Precision:  0.6918559122944401\n",
      "Class 0 Recall:  0.8835\n",
      "Class 0 F1 Score:  0.7760210803689064\n",
      "Class 1 Precision:  0.838865836791148\n",
      "Class 1 Recall:  0.6065\n",
      "Class 1 F1 Score:  0.7040046430644225\n",
      "Macro Average Precision:  0.765360874542794\n",
      "Macro Average Recall:  0.745\n",
      "Macro Average F1 Score:  0.7400128617166644\n",
      "Weighted Average Precision:  0.765360874542794\n",
      "Weighted Average Recall:  0.745\n",
      "Weighted Average F1 Score:  0.7400128617166644\n",
      "--------------------------------------------------\n",
      "Accuracy for Palindromic Strings:  0.8835\n",
      "Accuracy for Nonpalindromic Strings:  0.9928753180661578\n",
      "Accuracy for Palindromic Strings Off By One Swap:  0.11094674556213018\n",
      "Accuracy for Palindromic Strings Off By One Random Replacement:  0.7289486796213254\n"
     ]
    }
   ],
   "source": [
    "test_preds = clf_encoded_with_freq.predict(encoded_with_freq_test_dataset)\n",
    "test_report = classification_report(test_labels, test_preds, output_dict=True)\n",
    "printFormattedClassificationReport(test_report)\n",
    "print('-'*50)\n",
    "printCorrectnessOverDifferentTypes(test_preds, 'test')"
   ]
  },
  {
   "cell_type": "code",
   "execution_count": 15,
   "metadata": {},
   "outputs": [
    {
     "name": "stdout",
     "output_type": "stream",
     "text": [
      "Accuracy:  0.7466666666666667\n",
      "Class 0 Precision:  0.693717277486911\n",
      "Class 0 Recall:  0.8833333333333333\n",
      "Class 0 F1 Score:  0.7771260997067448\n",
      "Class 1 Precision:  0.8394495412844036\n",
      "Class 1 Recall:  0.61\n",
      "Class 1 F1 Score:  0.7065637065637066\n",
      "Macro Average Precision:  0.7665834093856574\n",
      "Macro Average Recall:  0.7466666666666666\n",
      "Macro Average F1 Score:  0.7418449031352257\n",
      "Weighted Average Precision:  0.7665834093856574\n",
      "Weighted Average Recall:  0.7466666666666667\n",
      "Weighted Average F1 Score:  0.7418449031352257\n",
      "--------------------------------------------------\n",
      "Accuracy for Palindromic Strings:  0.8833333333333333\n",
      "Accuracy for Nonpalindromic Strings:  0.995\n",
      "Accuracy for Palindromic Strings Off By One Swap:  0.111\n",
      "Accuracy for Palindromic Strings Off By One Random Replacement:  0.724\n"
     ]
    }
   ],
   "source": [
    "challenge_preds = clf_encoded_with_freq.predict(encoded_with_freq_challenge_dataset)\n",
    "challenge_report = classification_report(challenge_labels, challenge_preds, output_dict=True)\n",
    "printFormattedClassificationReport(challenge_report)\n",
    "print('-'*50)\n",
    "printCorrectnessOverDifferentTypes(challenge_preds, 'challenge')"
   ]
  },
  {
   "cell_type": "markdown",
   "metadata": {},
   "source": [
    "# Encode as ASCII indices shifted to 0"
   ]
  },
  {
   "cell_type": "code",
   "execution_count": 16,
   "metadata": {},
   "outputs": [],
   "source": [
    "def encode_with_ascii_shifted_to_zero(seq):\n",
    "    seq = seq.upper()\n",
    "    assert len(seq) == SEQ_LENGTH, \"length of sequence must be {}\".format(SEQ_LENGTH)\n",
    "    encoding = [0]*SEQ_LENGTH\n",
    "    for i, char in enumerate(seq):\n",
    "        encoding[i] = ord(char) - ord('A')\n",
    "    return encoding\n",
    "\n",
    "encoded_with_ascii_shifted_to_zero_train_dataset = [encode_with_ascii_shifted_to_zero(seq) for seq in train_dataset]\n",
    "encoded_with_ascii_shifted_to_zero_test_dataset = [encode_with_ascii_shifted_to_zero(seq) for seq in test_dataset]\n",
    "encoded_with_ascii_shifted_to_zero_challenge_dataset = [encode_with_ascii_shifted_to_zero(seq) for seq in challenge_dataset]"
   ]
  },
  {
   "cell_type": "code",
   "execution_count": 44,
   "metadata": {},
   "outputs": [
    {
     "name": "stdout",
     "output_type": "stream",
     "text": [
      "Iteration 1, loss = 1.64829345\n",
      "Validation score: 0.507917\n",
      "Iteration 2, loss = 0.71441549\n",
      "Validation score: 0.685000\n",
      "Iteration 3, loss = 0.44078794\n",
      "Validation score: 0.880417\n",
      "Iteration 4, loss = 0.32374769\n",
      "Validation score: 0.908750\n",
      "Iteration 5, loss = 0.27421761\n",
      "Validation score: 0.918333\n",
      "Iteration 6, loss = 0.24316435\n",
      "Validation score: 0.928333\n",
      "Iteration 7, loss = 0.22163236\n",
      "Validation score: 0.926250\n",
      "Iteration 8, loss = 0.20322010\n",
      "Validation score: 0.942708\n",
      "Iteration 9, loss = 0.18838580\n",
      "Validation score: 0.950208\n",
      "Iteration 10, loss = 0.17630994\n",
      "Validation score: 0.944792\n",
      "Iteration 11, loss = 0.16490966\n",
      "Validation score: 0.951667\n",
      "Iteration 12, loss = 0.15311009\n",
      "Validation score: 0.961042\n",
      "Iteration 13, loss = 0.14002751\n",
      "Validation score: 0.956875\n",
      "Iteration 14, loss = 0.12998986\n",
      "Validation score: 0.962917\n",
      "Iteration 15, loss = 0.12387371\n",
      "Validation score: 0.966042\n",
      "Iteration 16, loss = 0.11827963\n",
      "Validation score: 0.968750\n",
      "Iteration 17, loss = 0.11135342\n",
      "Validation score: 0.964375\n",
      "Iteration 18, loss = 0.10678811\n",
      "Validation score: 0.971042\n",
      "Iteration 19, loss = 0.10109268\n",
      "Validation score: 0.970625\n",
      "Iteration 20, loss = 0.09676170\n",
      "Validation score: 0.973750\n",
      "Iteration 21, loss = 0.09251532\n",
      "Validation score: 0.967292\n",
      "Iteration 22, loss = 0.08861861\n",
      "Validation score: 0.972708\n",
      "Iteration 23, loss = 0.08475994\n",
      "Validation score: 0.974792\n",
      "Iteration 24, loss = 0.08172864\n",
      "Validation score: 0.976042\n",
      "Iteration 25, loss = 0.07782979\n",
      "Validation score: 0.972917\n",
      "Iteration 26, loss = 0.07473441\n",
      "Validation score: 0.974792\n",
      "Iteration 27, loss = 0.07248069\n",
      "Validation score: 0.975833\n",
      "Iteration 28, loss = 0.06855298\n",
      "Validation score: 0.976042\n",
      "Iteration 29, loss = 0.06533043\n",
      "Validation score: 0.980000\n",
      "Iteration 30, loss = 0.06393824\n",
      "Validation score: 0.978750\n",
      "Iteration 31, loss = 0.06118524\n",
      "Validation score: 0.979167\n",
      "Iteration 32, loss = 0.05846339\n",
      "Validation score: 0.980833\n",
      "Iteration 33, loss = 0.05632544\n",
      "Validation score: 0.978333\n",
      "Iteration 34, loss = 0.05435237\n",
      "Validation score: 0.978958\n",
      "Iteration 35, loss = 0.05254122\n",
      "Validation score: 0.979375\n",
      "Iteration 36, loss = 0.05237999\n",
      "Validation score: 0.980625\n",
      "Iteration 37, loss = 0.04811178\n",
      "Validation score: 0.987500\n",
      "Iteration 38, loss = 0.04682221\n",
      "Validation score: 0.987083\n",
      "Iteration 39, loss = 0.04488336\n",
      "Validation score: 0.988333\n",
      "Iteration 40, loss = 0.04344508\n",
      "Validation score: 0.983125\n",
      "Iteration 41, loss = 0.04193001\n",
      "Validation score: 0.988125\n",
      "Iteration 42, loss = 0.03965224\n",
      "Validation score: 0.986458\n",
      "Iteration 43, loss = 0.03907103\n",
      "Validation score: 0.988750\n",
      "Iteration 44, loss = 0.03680413\n",
      "Validation score: 0.988333\n",
      "Iteration 45, loss = 0.03603577\n",
      "Validation score: 0.988542\n",
      "Iteration 46, loss = 0.03499404\n",
      "Validation score: 0.989792\n",
      "Iteration 47, loss = 0.03350829\n",
      "Validation score: 0.991250\n",
      "Iteration 48, loss = 0.03266871\n",
      "Validation score: 0.989792\n",
      "Iteration 49, loss = 0.03144687\n",
      "Validation score: 0.992500\n",
      "Iteration 50, loss = 0.03005366\n",
      "Validation score: 0.992917\n",
      "Iteration 51, loss = 0.02821430\n",
      "Validation score: 0.990208\n",
      "Iteration 52, loss = 0.02780723\n",
      "Validation score: 0.993333\n",
      "Iteration 53, loss = 0.02577660\n",
      "Validation score: 0.992292\n",
      "Iteration 54, loss = 0.02618084\n",
      "Validation score: 0.993542\n",
      "Iteration 55, loss = 0.02508346\n",
      "Validation score: 0.992917\n",
      "Iteration 56, loss = 0.02351851\n",
      "Validation score: 0.993333\n",
      "Iteration 57, loss = 0.02260891\n",
      "Validation score: 0.993542\n",
      "Iteration 58, loss = 0.02133796\n",
      "Validation score: 0.995000\n",
      "Iteration 59, loss = 0.02116359\n",
      "Validation score: 0.994167\n",
      "Iteration 60, loss = 0.01978166\n",
      "Validation score: 0.993125\n",
      "Iteration 61, loss = 0.01885676\n",
      "Validation score: 0.993542\n",
      "Iteration 62, loss = 0.01808490\n",
      "Validation score: 0.994375\n",
      "Iteration 63, loss = 0.01833497\n",
      "Validation score: 0.993542\n",
      "Iteration 64, loss = 0.01833121\n",
      "Validation score: 0.995208\n",
      "Iteration 65, loss = 0.01572240\n",
      "Validation score: 0.995417\n",
      "Iteration 66, loss = 0.01496050\n",
      "Validation score: 0.996875\n",
      "Iteration 67, loss = 0.01585275\n",
      "Validation score: 0.995625\n",
      "Iteration 68, loss = 0.01422947\n",
      "Validation score: 0.996875\n",
      "Iteration 69, loss = 0.01446377\n",
      "Validation score: 0.998958\n",
      "Iteration 70, loss = 0.01302158\n",
      "Validation score: 0.996250\n",
      "Iteration 71, loss = 0.01501273\n",
      "Validation score: 0.998958\n",
      "Iteration 72, loss = 0.01245066\n",
      "Validation score: 0.997083\n",
      "Iteration 73, loss = 0.01135307\n",
      "Validation score: 0.996042\n",
      "Iteration 74, loss = 0.01168271\n",
      "Validation score: 0.997292\n",
      "Iteration 75, loss = 0.01068675\n",
      "Validation score: 0.998750\n",
      "Iteration 76, loss = 0.01048682\n",
      "Validation score: 0.998542\n",
      "Iteration 77, loss = 0.01043443\n",
      "Validation score: 0.999375\n",
      "Iteration 78, loss = 0.00956048\n",
      "Validation score: 0.999583\n",
      "Iteration 79, loss = 0.00894988\n",
      "Validation score: 0.998958\n",
      "Iteration 80, loss = 0.00840314\n",
      "Validation score: 0.997500\n",
      "Iteration 81, loss = 0.00907575\n",
      "Validation score: 0.999375\n",
      "Iteration 82, loss = 0.00857268\n",
      "Validation score: 0.999167\n",
      "Iteration 83, loss = 0.00821360\n",
      "Validation score: 0.999583\n",
      "Iteration 84, loss = 0.00804793\n",
      "Validation score: 0.998750\n",
      "Iteration 85, loss = 0.00844251\n",
      "Validation score: 0.998125\n",
      "Iteration 86, loss = 0.00768047\n",
      "Validation score: 0.999167\n",
      "Iteration 87, loss = 0.00681280\n",
      "Validation score: 0.999792\n",
      "Iteration 88, loss = 0.00681911\n",
      "Validation score: 0.999792\n",
      "Iteration 89, loss = 0.00656132\n",
      "Validation score: 0.999583\n",
      "Iteration 90, loss = 0.01021915\n",
      "Validation score: 0.998333\n",
      "Iteration 91, loss = 0.00612327\n",
      "Validation score: 0.999583\n",
      "Iteration 92, loss = 0.00541933\n",
      "Validation score: 0.999583\n",
      "Iteration 93, loss = 0.00540416\n",
      "Validation score: 0.999167\n",
      "Iteration 94, loss = 0.00526707\n",
      "Validation score: 0.999583\n",
      "Iteration 95, loss = 0.00502971\n",
      "Validation score: 0.999583\n",
      "Iteration 96, loss = 0.00481859\n",
      "Validation score: 0.999583\n",
      "Iteration 97, loss = 0.00488033\n",
      "Validation score: 0.999583\n",
      "Iteration 98, loss = 0.00509655\n",
      "Validation score: 0.997292\n",
      "Validation score did not improve more than tol=0.000100 for 10 consecutive epochs. Stopping.\n"
     ]
    },
    {
     "data": {
      "text/html": [
       "<style>#sk-container-id-12 {color: black;}#sk-container-id-12 pre{padding: 0;}#sk-container-id-12 div.sk-toggleable {background-color: white;}#sk-container-id-12 label.sk-toggleable__label {cursor: pointer;display: block;width: 100%;margin-bottom: 0;padding: 0.3em;box-sizing: border-box;text-align: center;}#sk-container-id-12 label.sk-toggleable__label-arrow:before {content: \"▸\";float: left;margin-right: 0.25em;color: #696969;}#sk-container-id-12 label.sk-toggleable__label-arrow:hover:before {color: black;}#sk-container-id-12 div.sk-estimator:hover label.sk-toggleable__label-arrow:before {color: black;}#sk-container-id-12 div.sk-toggleable__content {max-height: 0;max-width: 0;overflow: hidden;text-align: left;background-color: #f0f8ff;}#sk-container-id-12 div.sk-toggleable__content pre {margin: 0.2em;color: black;border-radius: 0.25em;background-color: #f0f8ff;}#sk-container-id-12 input.sk-toggleable__control:checked~div.sk-toggleable__content {max-height: 200px;max-width: 100%;overflow: auto;}#sk-container-id-12 input.sk-toggleable__control:checked~label.sk-toggleable__label-arrow:before {content: \"▾\";}#sk-container-id-12 div.sk-estimator input.sk-toggleable__control:checked~label.sk-toggleable__label {background-color: #d4ebff;}#sk-container-id-12 div.sk-label input.sk-toggleable__control:checked~label.sk-toggleable__label {background-color: #d4ebff;}#sk-container-id-12 input.sk-hidden--visually {border: 0;clip: rect(1px 1px 1px 1px);clip: rect(1px, 1px, 1px, 1px);height: 1px;margin: -1px;overflow: hidden;padding: 0;position: absolute;width: 1px;}#sk-container-id-12 div.sk-estimator {font-family: monospace;background-color: #f0f8ff;border: 1px dotted black;border-radius: 0.25em;box-sizing: border-box;margin-bottom: 0.5em;}#sk-container-id-12 div.sk-estimator:hover {background-color: #d4ebff;}#sk-container-id-12 div.sk-parallel-item::after {content: \"\";width: 100%;border-bottom: 1px solid gray;flex-grow: 1;}#sk-container-id-12 div.sk-label:hover label.sk-toggleable__label {background-color: #d4ebff;}#sk-container-id-12 div.sk-serial::before {content: \"\";position: absolute;border-left: 1px solid gray;box-sizing: border-box;top: 0;bottom: 0;left: 50%;z-index: 0;}#sk-container-id-12 div.sk-serial {display: flex;flex-direction: column;align-items: center;background-color: white;padding-right: 0.2em;padding-left: 0.2em;position: relative;}#sk-container-id-12 div.sk-item {position: relative;z-index: 1;}#sk-container-id-12 div.sk-parallel {display: flex;align-items: stretch;justify-content: center;background-color: white;position: relative;}#sk-container-id-12 div.sk-item::before, #sk-container-id-12 div.sk-parallel-item::before {content: \"\";position: absolute;border-left: 1px solid gray;box-sizing: border-box;top: 0;bottom: 0;left: 50%;z-index: -1;}#sk-container-id-12 div.sk-parallel-item {display: flex;flex-direction: column;z-index: 1;position: relative;background-color: white;}#sk-container-id-12 div.sk-parallel-item:first-child::after {align-self: flex-end;width: 50%;}#sk-container-id-12 div.sk-parallel-item:last-child::after {align-self: flex-start;width: 50%;}#sk-container-id-12 div.sk-parallel-item:only-child::after {width: 0;}#sk-container-id-12 div.sk-dashed-wrapped {border: 1px dashed gray;margin: 0 0.4em 0.5em 0.4em;box-sizing: border-box;padding-bottom: 0.4em;background-color: white;}#sk-container-id-12 div.sk-label label {font-family: monospace;font-weight: bold;display: inline-block;line-height: 1.2em;}#sk-container-id-12 div.sk-label-container {text-align: center;}#sk-container-id-12 div.sk-container {/* jupyter's `normalize.less` sets `[hidden] { display: none; }` but bootstrap.min.css set `[hidden] { display: none !important; }` so we also need the `!important` here to be able to override the default hidden behavior on the sphinx rendered scikit-learn.org. See: https://github.com/scikit-learn/scikit-learn/issues/21755 */display: inline-block !important;position: relative;}#sk-container-id-12 div.sk-text-repr-fallback {display: none;}</style><div id=\"sk-container-id-12\" class=\"sk-top-container\"><div class=\"sk-text-repr-fallback\"><pre>MLPClassifier(early_stopping=True, hidden_layer_sizes=9, max_iter=1000,\n",
       "              random_state=42, verbose=True)</pre><b>In a Jupyter environment, please rerun this cell to show the HTML representation or trust the notebook. <br />On GitHub, the HTML representation is unable to render, please try loading this page with nbviewer.org.</b></div><div class=\"sk-container\" hidden><div class=\"sk-item\"><div class=\"sk-estimator sk-toggleable\"><input class=\"sk-toggleable__control sk-hidden--visually\" id=\"sk-estimator-id-12\" type=\"checkbox\" checked><label for=\"sk-estimator-id-12\" class=\"sk-toggleable__label sk-toggleable__label-arrow\">MLPClassifier</label><div class=\"sk-toggleable__content\"><pre>MLPClassifier(early_stopping=True, hidden_layer_sizes=9, max_iter=1000,\n",
       "              random_state=42, verbose=True)</pre></div></div></div></div></div>"
      ],
      "text/plain": [
       "MLPClassifier(early_stopping=True, hidden_layer_sizes=9, max_iter=1000,\n",
       "              random_state=42, verbose=True)"
      ]
     },
     "execution_count": 44,
     "metadata": {},
     "output_type": "execute_result"
    }
   ],
   "source": [
    "mlp_encoded_with_ascii_shifted_to_zero = MLPClassifier(hidden_layer_sizes=(9), random_state=42, max_iter=1000, verbose=True, early_stopping=True, validation_fraction=0.1)\n",
    "mlp_encoded_with_ascii_shifted_to_zero.fit(encoded_with_ascii_shifted_to_zero_train_dataset, train_labels)"
   ]
  },
  {
   "cell_type": "code",
   "execution_count": 45,
   "metadata": {},
   "outputs": [
    {
     "name": "stdout",
     "output_type": "stream",
     "text": [
      "Accuracy:  0.9993333333333333\n",
      "Class 0 Precision:  0.9986684420772304\n",
      "Class 0 Recall:  1.0\n",
      "Class 0 F1 Score:  0.999333777481679\n",
      "Class 1 Precision:  1.0\n",
      "Class 1 Recall:  0.9986666666666667\n",
      "Class 1 F1 Score:  0.9993328885923949\n",
      "Macro Average Precision:  0.9993342210386151\n",
      "Macro Average Recall:  0.9993333333333334\n",
      "Macro Average F1 Score:  0.9993333330370369\n",
      "Weighted Average Precision:  0.9993342210386151\n",
      "Weighted Average Recall:  0.9993333333333333\n",
      "Weighted Average F1 Score:  0.999333333037037\n",
      "--------------------------------------------------\n",
      "Accuracy for Palindromic Strings:  1.0\n",
      "Accuracy for Nonpalindromic Strings:  1.0\n",
      "Accuracy for Palindromic Strings Off By One Swap:  0.9960552268244576\n",
      "Accuracy for Palindromic Strings Off By One Random Replacement:  1.0\n"
     ]
    }
   ],
   "source": [
    "test_preds = mlp_encoded_with_ascii_shifted_to_zero.predict(encoded_with_ascii_shifted_to_zero_test_dataset)\n",
    "test_report = classification_report(test_labels, test_preds, output_dict=True)\n",
    "printFormattedClassificationReport(test_report)\n",
    "print('-'*50)\n",
    "printCorrectnessOverDifferentTypes(test_preds, 'test')"
   ]
  },
  {
   "cell_type": "code",
   "execution_count": 46,
   "metadata": {},
   "outputs": [
    {
     "name": "stdout",
     "output_type": "stream",
     "text": [
      "Accuracy:  0.9991666666666666\n",
      "Class 0 Precision:  0.9983361064891847\n",
      "Class 0 Recall:  1.0\n",
      "Class 0 F1 Score:  0.9991673605328892\n",
      "Class 1 Precision:  1.0\n",
      "Class 1 Recall:  0.9983333333333333\n",
      "Class 1 F1 Score:  0.9991659716430359\n",
      "Macro Average Precision:  0.9991680532445923\n",
      "Macro Average Recall:  0.9991666666666666\n",
      "Macro Average F1 Score:  0.9991666660879626\n",
      "Weighted Average Precision:  0.9991680532445922\n",
      "Weighted Average Recall:  0.9991666666666666\n",
      "Weighted Average F1 Score:  0.9991666660879625\n",
      "--------------------------------------------------\n",
      "Accuracy for Palindromic Strings:  1.0\n",
      "Accuracy for Nonpalindromic Strings:  0.999\n",
      "Accuracy for Palindromic Strings Off By One Swap:  0.996\n",
      "Accuracy for Palindromic Strings Off By One Random Replacement:  1.0\n"
     ]
    }
   ],
   "source": [
    "challenge_preds = mlp_encoded_with_ascii_shifted_to_zero.predict(encoded_with_ascii_shifted_to_zero_challenge_dataset)\n",
    "challenge_report = classification_report(challenge_labels, challenge_preds, output_dict=True)\n",
    "printFormattedClassificationReport(challenge_report)\n",
    "print('-'*50)\n",
    "printCorrectnessOverDifferentTypes(challenge_preds, 'challenge')"
   ]
  },
  {
   "cell_type": "code",
   "execution_count": 47,
   "metadata": {},
   "outputs": [
    {
     "name": "stdout",
     "output_type": "stream",
     "text": [
      "(9, 9)\n",
      "(9, 1)\n"
     ]
    }
   ],
   "source": [
    "# shape of weights of mlp_encoded_with_ascii_shifted_to_zero\n",
    "print(mlp_encoded_with_ascii_shifted_to_zero.coefs_[0].shape)\n",
    "print(mlp_encoded_with_ascii_shifted_to_zero.coefs_[1].shape)"
   ]
  },
  {
   "cell_type": "code",
   "execution_count": 62,
   "metadata": {},
   "outputs": [
    {
     "data": {
      "image/png": "[encoded data removed]",
      "text/plain": [
       "<Figure size 2000x500 with 4 Axes>"
      ]
     },
     "metadata": {},
     "output_type": "display_data"
    }
   ],
   "source": [
    "# visualize mlp\n",
    "fig, axes = plt.subplots(1, 2, figsize=(20, 5))\n",
    "sns.heatmap(mlp_encoded_with_ascii_shifted_to_zero.coefs_[0], ax=axes[0], cmap='crest')\n",
    "sns.heatmap(mlp_encoded_with_ascii_shifted_to_zero.coefs_[1], ax=axes[1], cmap='crest')\n",
    "# Add annotations\n",
    "for i in range(9):\n",
    "    for j in range(9):\n",
    "        axes[0].text(j+0.5, i+0.5, round(mlp_encoded_with_ascii_shifted_to_zero.coefs_[0][i][j], 2), ha='center', va='center', color='white')\n",
    "\n",
    "for i in range(9):\n",
    "    for j in range(1):\n",
    "        axes[1].text(j+0.5, i+0.5, round(mlp_encoded_with_ascii_shifted_to_zero.coefs_[1][i][j], 2), ha='center', va='center', color='white')\n",
    "axes[0].set_title('First Layer Weights')\n",
    "axes[1].set_title('Second Layer Weights')\n",
    "plt.show()"
   ]
  },
  {
   "cell_type": "code",
   "execution_count": null,
   "metadata": {},
   "outputs": [],
   "source": []
  }
 ],
 "metadata": {
  "kernelspec": {
   "display_name": "Python 3",
   "language": "python",
   "name": "python3"
  },
  "language_info": {
   "codemirror_mode": {
    "name": "ipython",
    "version": 3
   },
   "file_extension": ".py",
   "mimetype": "text/x-python",
   "name": "python",
   "nbconvert_exporter": "python",
   "pygments_lexer": "ipython3",
   "version": "3.11.4"
  }
 },
 "nbformat": 4,
 "nbformat_minor": 2
}
