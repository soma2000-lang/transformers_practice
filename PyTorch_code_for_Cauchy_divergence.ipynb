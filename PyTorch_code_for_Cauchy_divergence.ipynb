{
  "nbformat": 4,
  "nbformat_minor": 0,
  "metadata": {
    "colab": {
      "provenance": [],
      "include_colab_link": true
    },
    "kernelspec": {
      "name": "python3",
      "display_name": "Python 3"
    },
    "language_info": {
      "name": "python"
    }
  },
  "cells": [
    {
      "cell_type": "markdown",
      "metadata": {
        "id": "view-in-github",
        "colab_type": "text"
      },
      "source": [
        "<a href=\"https://colab.research.google.com/github/soma2000-lang/transformers_practice/blob/master/PyTorch_code_for_Cauchy_divergence.ipynb\" target=\"_parent\"><img src=\"https://colab.research.google.com/assets/colab-badge.svg\" alt=\"Open In Colab\"/></a>"
      ]
    },
    {
      "cell_type": "markdown",
      "source": [
        "# Divergence of SGD for Cauchy data"
      ],
      "metadata": {
        "id": "59qPCg3tFAzB"
      }
    },
    {
      "cell_type": "markdown",
      "source": [
        "- Solve $\\langle w, x_i\\rangle = y_i$ using least-squares SGD where $x_i$ is Cauchy distributed\n",
        "\n",
        "- this fails for every setting of learning rate and batch size\n",
        "- [proof](https://math.stackexchange.com/a/4838822/998) from Amir: $E_s = \\prod_i^s (1-\\alpha x_i^2)^2$ converges to $\\infty$ almost surely for every setting of $\\alpha>0$"
      ],
      "metadata": {
        "id": "XtzPkqHpBlXv"
      }
    },
    {
      "cell_type": "code",
      "execution_count": null,
      "metadata": {
        "colab": {
          "base_uri": "https://localhost:8080/",
          "height": 472
        },
        "id": "sv6i8DAYtYMn",
        "outputId": "cff565c7-1770-4eeb-95a7-4f8c1b556b4f"
      },
      "outputs": [
        {
          "output_type": "display_data",
          "data": {
            "text/plain": [
              "<Figure size 640x480 with 1 Axes>"
            ],
            "image/png": "[encoded data removed]"
          },
          "metadata": {}
        }
      ],
      "source": [
        "import torch\n",
        "import torch.utils.data as data\n",
        "\n",
        "import numpy as np\n",
        "import torch\n",
        "\n",
        "import torch\n",
        "import torch.nn as nn\n",
        "import torch\n",
        "import torch.utils.data as data\n",
        "\n",
        "from contextlib import contextmanager\n",
        "from typing import Callable, Tuple\n",
        "\n",
        "import torch\n",
        "import torch.nn as nn\n",
        "\n",
        "import numpy as np\n",
        "\n",
        "import sys\n",
        "\n",
        "def least_squares_loss(data: torch.Tensor, targets=None, aggregation='mean'):\n",
        "    \"\"\"Least squares loss (like MSELoss, but an extra 1/2 factor.\"\"\"\n",
        "    assert aggregation in ('mean', 'sum')\n",
        "    if targets is None:\n",
        "        targets = torch.zeros_like(data)\n",
        "    # err = data - targets.view(-1, data.shape[1])\n",
        "    err = data - targets\n",
        "    normalizer = len(data) if aggregation == 'mean' else 1\n",
        "    return torch.sum(err * err) / 2 / normalizer\n",
        "\n",
        "\n",
        "import urllib\n",
        "import numpy as np\n",
        "import urllib.request\n",
        "from io import BytesIO\n",
        "\n",
        "class CauchyDataset(data.Dataset):\n",
        "    def __init__(self, d):\n",
        "        super().__init__()\n",
        "        self.d = d\n",
        "\n",
        "\n",
        "    def __getitem__(self, index):\n",
        "        return torch.distributions.Cauchy(0, 1).sample((self.d,)), 0\n",
        "\n",
        "    def __len__(self):\n",
        "        return 10\n",
        "\n",
        "\n",
        "def infinite_iter(obj):\n",
        "    \"\"\"Wraps iterable object to restart on last iteration.\"\"\"\n",
        "\n",
        "    while True:\n",
        "        for result in iter(obj):\n",
        "            yield result\n",
        "\n",
        "\n",
        "def getLoss(model):\n",
        "    \"\"\"Compute test loss\"\"\"\n",
        "    losses = []\n",
        "    for data, targets in test_loader:\n",
        "        data = data.to(device)\n",
        "        targets = targets.to(device)\n",
        "        output = model(data)\n",
        "        losses.append(loss_fn(output, targets).item())\n",
        "    return np.mean(losses)\n",
        "\n",
        "\n",
        "\n",
        "\n",
        "device = 'cuda' if torch.cuda.is_available() else 'cpu'\n",
        "loss_fn = least_squares_loss\n",
        "\n",
        "lr = 0.01\n",
        "d = 2\n",
        "layer = nn.Linear(d, d, bias=False)\n",
        "layer.weight.data.copy_(torch.eye(d))\n",
        "model = torch.nn.Sequential(layer).to(device)\n",
        "\n",
        "dataset = CauchyDataset(d)\n",
        "train_loader = torch.utils.data.DataLoader(dataset, batch_size=1, shuffle=False)\n",
        "train_iter = infinite_iter(train_loader)\n",
        "test_loader = torch.utils.data.DataLoader(dataset, batch_size=1, shuffle=False)\n",
        "test_iter = iter(test_loader)\n",
        "device = 'cuda' if torch.cuda.is_available() else 'cpu'\n",
        "\n",
        "\n",
        "optimizer = torch.optim.SGD(model.parameters(), lr=lr, momentum=0)\n",
        "num_steps = 1000\n",
        "\n",
        "losses = [getLoss(model)]\n",
        "for step in range(num_steps):\n",
        "    optimizer.zero_grad()\n",
        "    data, targets = next(train_iter)\n",
        "    data = data.to(device)\n",
        "    targets = targets.to(device)\n",
        "\n",
        "    output = model(data)\n",
        "    loss = loss_fn(output, targets)\n",
        "    loss.backward()\n",
        "\n",
        "    optimizer.step()\n",
        "    losses.append(getLoss(model))\n",
        "\n",
        "import matplotlib.pyplot as plt\n",
        "plt.plot(losses)\n",
        "plt.title(f'Loss for lr={lr}')\n",
        "plt.xlabel('step')\n",
        "plt.ylabel('Loss')\n",
        "plt.show()"
      ]
    }
  ]
}