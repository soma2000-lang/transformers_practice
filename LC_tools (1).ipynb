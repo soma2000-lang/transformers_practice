{
 "cells": [
  {
   "cell_type": "code",
   "execution_count": 29,
   "id": "6aea6efa-57d0-4514-abcc-4bd74d3415bb",
   "metadata": {},
   "outputs": [],
   "source": [
    "from openai_client import call_openai_api"
   ]
  },
  {
   "cell_type": "code",
   "execution_count": 8,
   "id": "99390464-92f0-4ce5-b014-c66a06973b15",
   "metadata": {},
   "outputs": [],
   "source": [
    "estore_data = {\n",
    "    \"products\": [\n",
    "        {\n",
    "            \"id\": 1,\n",
    "            \"name\": \"wireless mouse\",\n",
    "            \"price\": 25.99,\n",
    "            \"quantity_available\": 100,\n",
    "            \"items_sold\": 150\n",
    "        },\n",
    "        {\n",
    "            \"id\": 2,\n",
    "            \"name\": \"mechanical keyboard\",\n",
    "            \"price\": 79.99,\n",
    "            \"quantity_available\": 50,\n",
    "            \"items_sold\": 75\n",
    "        },\n",
    "        {\n",
    "            \"id\": 3,\n",
    "            \"name\": \"usb-c hub\",\n",
    "            \"price\": 34.99,\n",
    "            \"quantity_available\": 2,\n",
    "            \"items_sold\": 120\n",
    "        }\n",
    "    ]\n",
    "}"
   ]
  },
  {
   "cell_type": "markdown",
   "id": "d65c60d4-41c4-4e9e-b652-fe1e377eca12",
   "metadata": {},
   "source": [
    "### Converting the python functions as langchain tool"
   ]
  },
  {
   "cell_type": "markdown",
   "id": "81b088c1-df64-4f3c-bf6a-ec98fa17a354",
   "metadata": {},
   "source": [
    "#### simple tool decorator"
   ]
  },
  {
   "cell_type": "markdown",
   "id": "e2728c58-be05-4c53-90ab-4ef217fa4402",
   "metadata": {},
   "source": [
    "name\tstr\tMust be unique within a set of tools provided to an LLM or agent.\n",
    "description\tstr\tDescribes what the tool does. Used as context by the LLM or agent.\n",
    "args_schema\tPydantic BaseModel\tOptional but recommended, can be used to provide more information (e.g., few-shot examples) or validation for expected parameters"
   ]
  },
  {
   "cell_type": "code",
   "execution_count": 9,
   "id": "eefc3685-314f-4978-a862-676b65c6caba",
   "metadata": {},
   "outputs": [],
   "source": [
    "from langchain_core.tools import tool\n",
    "\n",
    "@tool\n",
    "def buy_product(product_name):\n",
    "    \"\"\"   \n",
    "    the stock availale is updated with each purchase\n",
    "    returns a confirmation message to the user or a regret message when item is not in stock. \n",
    "    \"\"\"\n",
    "    for product in estore_data['products']:\n",
    "        if product['name'] == product_name.lower():\n",
    "            if product['quantity_available'] > 0:\n",
    "                product['quantity_available'] -= 1\n",
    "                product['items_sold'] += 1\n",
    "                return f\"{product_name} purchase confirmed. Remaining stock {product['quantity_available']}\"\n",
    "            else:\n",
    "                return f\"Regret, {product_name} is not in stock.\"\n",
    "    return f\"Product {product_name} not found.\"\n"
   ]
  },
  {
   "cell_type": "markdown",
   "id": "2d147f1e-6c65-4f4d-93a7-3b60fd4cd469",
   "metadata": {},
   "source": [
    "#### type of arguments has not been detected as str, lets be more sprcific"
   ]
  },
  {
   "cell_type": "code",
   "execution_count": 10,
   "id": "a4e58b89-fb26-4f09-ac1f-2733f2c94e12",
   "metadata": {
    "scrolled": true
   },
   "outputs": [
    {
     "name": "stdout",
     "output_type": "stream",
     "text": [
      "name: buy_product\n",
      "description: the stock availale is updated with each purchase\n",
      "returns a confirmation message to the user or a regret message when item is not in stock.\n",
      "args schema: {'title': 'buy_productSchema', 'description': 'the stock availale is updated with each purchase\\nreturns a confirmation message to the user or a regret message when item is not in stock. ', 'type': 'object', 'properties': {'product_name': {'title': 'Product Name', 'type': 'string'}}, 'required': ['product_name']}\n"
     ]
    }
   ],
   "source": [
    "@tool\n",
    "def buy_product(product_name:str )->str:\n",
    "    \"\"\"   \n",
    "    the stock availale is updated with each purchase\n",
    "    returns a confirmation message to the user or a regret message when item is not in stock. \n",
    "    \"\"\"\n",
    "    for product in estore_data['products']:\n",
    "        if product['name'] == product_name.lower():\n",
    "            if product['quantity_available'] > 0:\n",
    "                product['quantity_available'] -= 1\n",
    "                product['items_sold'] += 1\n",
    "                return f\"{product_name} purchase confirmed. Remaining stock {product['quantity_available']}\"\n",
    "            else:\n",
    "                return f\"Regret, {product_name} is not in stock.\"\n",
    "    return f\"Product {product_name} not found.\"\n",
    "print(\"name:\", buy_product.name)\n",
    "print(\"description:\", buy_product.description)\n",
    "print(\"args schema:\", buy_product.args_schema.schema())"
   ]
  },
  {
   "cell_type": "markdown",
   "id": "a89ab645-7d9a-4db0-a176-0a2eacaa4369",
   "metadata": {},
   "source": [
    "@tool can optionally parse Google Style docstrings and associate the docstring components (such as arg descriptions) to the relevant parts of the tool schema. To toggle this behavior, specify parse_docstring:\n",
    "\n",
    "@tool(parse_docstring=True)\n",
    "def foo(bar: str, baz: int) -> str:\n",
    "    \"\"\"The foo.\n",
    "\n",
    "    Args:\n",
    "        bar: The bar.\n",
    "        baz: The baz.\n",
    "    \"\"\"\n",
    "    return bar"
   ]
  },
  {
   "cell_type": "markdown",
   "id": "6513e358-2a6c-4677-b982-7093e8825bf0",
   "metadata": {},
   "source": [
    "####  Usig Annotation-  @tool supports parsing of annotations, nested schemas"
   ]
  },
  {
   "cell_type": "code",
   "execution_count": 11,
   "id": "b174ab59-8916-4cdd-86ee-ff8ea9027268",
   "metadata": {},
   "outputs": [
    {
     "name": "stdout",
     "output_type": "stream",
     "text": [
      "name: buy_product\n",
      "description: the stock availale is updated with each purchase\n",
      "returns a confirmation message to the user or a regret message when item is not in stock.\n",
      "args schema: {'title': 'buy_productSchema', 'description': 'the stock availale is updated with each purchase\\nreturns a confirmation message to the user or a regret message when item is not in stock. ', 'type': 'object', 'properties': {'product_name': {'title': 'Product Name', 'description': 'name of the product', 'type': 'string'}}, 'required': ['product_name']}\n"
     ]
    }
   ],
   "source": [
    "from typing import Annotated\n",
    "@tool\n",
    "def buy_product(\n",
    "    product_name: Annotated[str, \"name of the product\"], \n",
    "    )->str:\n",
    "    \"\"\"   \n",
    "    the stock availale is updated with each purchase\n",
    "    returns a confirmation message to the user or a regret message when item is not in stock. \n",
    "    \"\"\"\n",
    "    for product in estore_data['products']:\n",
    "        if product['name'] == product_name.lower():\n",
    "            if product['quantity_available'] > 0:\n",
    "                product['quantity_available'] -= 1\n",
    "                product['items_sold'] += 1\n",
    "                return f\"{product_name} purchase confirmed. Remaining stock {product['quantity_available']}\"\n",
    "            else:\n",
    "                return f\"Regret, {product_name} is not in stock.\"\n",
    "    return f\"Product {product_name} not found.\"\n",
    "print(\"name:\", buy_product.name)\n",
    "print(\"description:\", buy_product.description)\n",
    "print(\"args schema:\", buy_product.args_schema.schema())"
   ]
  },
  {
   "cell_type": "markdown",
   "id": "70c799a6-9c80-4459-b2c7-717096b86e62",
   "metadata": {},
   "source": [
    "#### Using Pydantic "
   ]
  },
  {
   "cell_type": "code",
   "execution_count": 12,
   "id": "19e9a98f-7086-4c04-8eab-13334ac7ae27",
   "metadata": {},
   "outputs": [
    {
     "name": "stdout",
     "output_type": "stream",
     "text": [
      "name: buy_product-tool\n",
      "description: the stock availale is updated with each purchase\n",
      "returns a confirmation message to the user or a regret message when item is not in stock.\n",
      "args schema: {'title': 'BuypoductInputSchema', 'type': 'object', 'properties': {'product_name': {'title': 'Product Name', 'description': 'name of the product to be purchased', 'type': 'string'}}, 'required': ['product_name']}\n"
     ]
    }
   ],
   "source": [
    "from langchain.pydantic_v1 import BaseModel, Field\n",
    "\n",
    "class BuypoductInputSchema(BaseModel):\n",
    "    product_name: str = Field(description=\"name of the product to be purchased\")\n",
    "\n",
    "@tool(\"buy_product-tool\", args_schema=BuypoductInputSchema, return_direct=True) \n",
    "### return_direct returns the output directly instead of sending it back to model\n",
    "def buy_product(product_name:str )->str:\n",
    "    \"\"\"   \n",
    "    the stock availale is updated with each purchase\n",
    "    returns a confirmation message to the user or a regret message when item is not in stock. \n",
    "    \"\"\"\n",
    "    for product in estore_data['products']:\n",
    "        if product['name'] == product_name.lower():\n",
    "            if product['quantity_available'] > 0:\n",
    "                product['quantity_available'] -= 1\n",
    "                product['items_sold'] += 1\n",
    "                return f\"{product_name} purchase confirmed. Remaining stock {product['quantity_available']}\"\n",
    "            else:\n",
    "                return f\"Regret, {product_name} is not in stock.\"\n",
    "    return f\"Product {product_name} not found.\"\n",
    "print(\"name:\", buy_product.name)\n",
    "print(\"description:\", buy_product.description)\n",
    "print(\"args schema:\", buy_product.args_schema.schema())"
   ]
  },
  {
   "cell_type": "markdown",
   "id": "74d82c6a-ec31-4d4b-8083-662c6ee5b0bc",
   "metadata": {},
   "source": [
    "#### StructuredTool"
   ]
  },
  {
   "cell_type": "code",
   "execution_count": 13,
   "id": "be158132-3e32-4952-825a-62493645a16b",
   "metadata": {},
   "outputs": [
    {
     "name": "stdout",
     "output_type": "stream",
     "text": [
      "6\n",
      "10\n"
     ]
    }
   ],
   "source": [
    "from langchain_core.tools import StructuredTool\n",
    "\n",
    "def multiply(a: int, b: int) -> int:\n",
    "    \"\"\"Multiply two numbers.\"\"\"\n",
    "    return a * b\n",
    "\n",
    "\n",
    "async def amultiply(a: int, b: int) -> int:\n",
    "    \"\"\"Multiply two numbers.\"\"\"\n",
    "    return a * b\n",
    "\n",
    "\n",
    "calculator = StructuredTool.from_function(func=multiply, \n",
    "                                          # name=\"Calculator\",\n",
    "                                          # description=\"multiply numbers\",\n",
    "                                          # args_schema=CalculatorInput, ## pydantic class\n",
    "                                          coroutine=amultiply)\n",
    "\n",
    "print(calculator.invoke({\"a\": 2, \"b\": 3}))\n",
    "print(await calculator.ainvoke({\"a\": 2, \"b\": 5}))"
   ]
  },
  {
   "cell_type": "markdown",
   "id": "c43f1dc7-d008-4385-be86-d6e077d29f98",
   "metadata": {},
   "source": [
    "#### Subclass BaseTool"
   ]
  },
  {
   "cell_type": "code",
   "execution_count": 14,
   "id": "292831c7-f45e-46af-a732-9504d4363ab2",
   "metadata": {},
   "outputs": [
    {
     "name": "stdout",
     "output_type": "stream",
     "text": [
      "name: buy_product\n",
      "description:  the stock availale is updated with each purchase.\n",
      "    returns a confirmation message to the user or a regret message when item is not in stock. \n",
      "    \n",
      "args schema: {'product_name': {'title': 'Product Name', 'description': 'name of the product to be purchased', 'type': 'string'}}\n",
      "invoking sync ...: mechanical keyboard purchase confirmed. Remaining stock 49\n",
      "invoking async ...: mechanical keyboard purchase confirmed. Remaining stock 48\n"
     ]
    }
   ],
   "source": [
    "# https://api.python.langchain.com/en/latest/tools/langchain_core.tools.BaseTool.html\n",
    "from typing import Optional, Type\n",
    "from langchain_core.callbacks import (\n",
    "    AsyncCallbackManagerForToolRun,\n",
    "    CallbackManagerForToolRun,\n",
    ")\n",
    "from langchain_core.tools import BaseTool\n",
    "buy_product_description = \"\"\" the stock availale is updated with each purchase.\n",
    "    returns a confirmation message to the user or a regret message when item is not in stock. \n",
    "    \"\"\"\n",
    "\n",
    "class BuyProductTool(BaseTool):\n",
    "    name = \"buy_product\"\n",
    "    description = buy_product_description\n",
    "    args_schema: Type[BaseModel] = BuypoductInputSchema  ## created previously using pydantic\n",
    "    return_direct: bool = True\n",
    "\n",
    "    def _run(self, product_name: str, \n",
    "             run_manager: Optional[CallbackManagerForToolRun]=None,\n",
    "            ) -> str:\n",
    "        for product in estore_data['products']:\n",
    "            if product['name'] == product_name.lower():\n",
    "                if product['quantity_available'] > 0:\n",
    "                    product['quantity_available'] -= 1\n",
    "                    product['items_sold'] += 1\n",
    "                    return f\"{product_name} purchase confirmed. Remaining stock {product['quantity_available']}\"\n",
    "                else:\n",
    "                    return f\"Regret, {product_name} is not in stock.\"\n",
    "        return f\"Product {product_name} not found.\"\n",
    "\n",
    "    async def _arun(self, product_name: str, \n",
    "             run_manager: Optional[AsyncCallbackManagerForToolRun]=None,\n",
    "            ) -> str:\n",
    "         # If the calculation is cheap, you can just delegate to the sync implementation\n",
    "         # as shown below.\n",
    "         # If the sync calculation is expensive, you should delete the entire _arun method.\n",
    "         # LangChain will automatically provide a better implementation that will\n",
    "         # kick off the task in a thread to make sure it doesn't block other async code.\n",
    "         return self._run(product_name, run_manager=run_manager.get_sync())\n",
    "\n",
    "buyproduct_tool = BuyProductTool()\n",
    "print(\"name:\", buyproduct_tool.name)\n",
    "print(\"description:\", buyproduct_tool.description)\n",
    "print(\"args schema:\", buyproduct_tool.args)   \n",
    "print('invoking sync ...:', buyproduct_tool.invoke('mechanical keyboard'))\n",
    "print('invoking async ...:', await  buyproduct_tool.ainvoke('mechanical keyboard'))"
   ]
  },
  {
   "cell_type": "markdown",
   "id": "c2f7b370-a2be-4c3c-9387-5cd87709c31a",
   "metadata": {},
   "source": [
    "#### Creating tools from Runnables"
   ]
  },
  {
   "cell_type": "code",
   "execution_count": 15,
   "id": "c56111e3-ec1b-4f9d-b10a-5da06b5b0824",
   "metadata": {},
   "outputs": [
    {
     "name": "stderr",
     "output_type": "stream",
     "text": [
      "/mnt/d/myDev/llmapps/venv/lib/python3.9/site-packages/langchain_core/_api/beta_decorator.py:87: LangChainBetaWarning: This API is in beta and may change in the future.\n",
      "  warn_beta(\n"
     ]
    },
    {
     "data": {
      "text/plain": [
       "{'answer_style': {'title': 'Answer Style', 'type': 'string'}}"
      ]
     },
     "execution_count": 15,
     "metadata": {},
     "output_type": "execute_result"
    }
   ],
   "source": [
    "from langchain_core.language_models import GenericFakeChatModel\n",
    "from langchain_core.output_parsers import StrOutputParser\n",
    "from langchain_core.prompts import ChatPromptTemplate\n",
    "\n",
    "prompt = ChatPromptTemplate.from_messages(\n",
    "    [(\"human\", \"Hello. Please respond in the style of {answer_style}.\")]\n",
    ")\n",
    "\n",
    "# Placeholder LLM\n",
    "llm = GenericFakeChatModel(messages=iter([\"hello matey\"]))\n",
    "\n",
    "chain = prompt | llm | StrOutputParser()\n",
    "\n",
    "as_tool = chain.as_tool(\n",
    "    name=\"Style responder\", description=\"Description of when to use tool.\"\n",
    ")\n",
    "as_tool.args"
   ]
  },
  {
   "cell_type": "markdown",
   "id": "fdc3453c-d8a7-42f1-97ef-63913c502390",
   "metadata": {},
   "source": [
    "#### tool for the calculate revenue with handle_tool_error exception"
   ]
  },
  {
   "cell_type": "markdown",
   "id": "1daa9fc3-fc5d-41c4-99f4-0d149dae39aa",
   "metadata": {
    "jp-MarkdownHeadingCollapsed": true
   },
   "source": [
    "Sometimes there are artifacts of a tool's execution that we want to make accessible to downstream components in our chain or agent, but that we don't want to expose to the model itself. For example if a tool returns custom objects like Documents, we may want to pass some view or metadata about this output to the model without passing the raw output to the model. At the same time, we may want to be able to access this full output elsewhere, for example in downstream tools.\n",
    "The Tool and ToolMessage interfaces make it possible to distinguish between the parts of the tool output meant for the model (this is the ToolMessage.content) and those parts which are meant for use outside the model (ToolMessage.artifact).\n",
    "If we invoke our tool with a ToolCall (like the ones generated by tool-calling models), we'll get back a ToolMessage that contains both the content and artifact generated by the Tool.\n",
    "REQUIRES langchain-core >= 0.2.19"
   ]
  },
  {
   "cell_type": "code",
   "execution_count": 16,
   "id": "cf478854-e9c7-44be-bc89-7b835d82f80e",
   "metadata": {},
   "outputs": [
    {
     "name": "stdout",
     "output_type": "stream",
     "text": [
      "name: calculate_revenue\n",
      "description:  returns revenue for the product or total revenue when no product name is mentione\n",
      "    \n",
      "args schema: {'product_name': {'title': 'Product Name', 'description': 'name of the product to be purchased', 'type': 'string'}}\n",
      "invoking sync with ToolCall format to get ToolMessage ...:\n",
      "\u001b[32;1m\u001b[1;3mcontent='Revenue for mechanical keyboard: $6159.23' name='calculate_revenue' tool_call_id='1' artifact={'wireless mouse': 3898.4999999999995, 'mechanical keyboard': 6159.23, 'usb-c hub': 4198.8}\u001b[0mtool_message ...: content='Revenue for mechanical keyboard: $6159.23' name='calculate_revenue' tool_call_id='1' artifact={'wireless mouse': 3898.4999999999995, 'mechanical keyboard': 6159.23, 'usb-c hub': 4198.8}\n",
      "\u001b[32;1m\u001b[1;3mRevenue for mechanical keyboard: $6159.23\u001b[0minvoking async ...: Revenue for mechanical keyboard: $6159.23\n",
      "\u001b[32;1m\u001b[1;3mRevenue for mechanical keyboard: $6159.23\u001b[0mhandle_tool_error ToolException sync ...: Revenue for mechanical keyboard: $6159.23\n"
     ]
    }
   ],
   "source": [
    "from langchain_core.tools import ToolException\n",
    "from typing import Union, Callable, Literal\n",
    "\n",
    "class CalcRevInputSchema(BaseModel):\n",
    "    product_name: str = Field(description=\"name of the product to be purchased\")\n",
    "\n",
    "calculate_revenue_description = \"\"\" returns revenue for the product or total revenue when no product name is mentione\n",
    "    \"\"\"\n",
    "\n",
    "class CalculateRevenueTool(BaseTool):\n",
    "    name = \"calculate_revenue\"\n",
    "    description = calculate_revenue_description\n",
    "    args_schema: Type[BaseModel] = CalcRevInputSchema\n",
    "    return_direct: bool = True ## the AgentExecutor will stop looping, output does not go to model\n",
    "    # handle_tool_error = True ## or a string message or a callable function. will not work. use typing \n",
    "    handle_tool_error: Optional[Union[bool, str, Callable[[ToolException], str]]] = True\n",
    "    response_format: Literal['content', 'content_and_artifact'] = 'content_and_artifact' ## or content\n",
    "    ## metadata: Optional[Dict[str, Any]] = None , ###Optional metadata associated with the tool. Defaults to None. This metadata will be associated with each call to this tool, and passed as arguments to the handlers defined in callbacks. You can use these to eg identify a specific instance of a tool with its use case.\n",
    "    verbose: bool = True\n",
    "\n",
    "    \n",
    "    def _run(self, product_name: str=None, \n",
    "             run_manager: Optional[CallbackManagerForToolRun]=None,\n",
    "            ) -> str:\n",
    "        total_revenue = 0.0\n",
    "        artifact_prodct_wise_rev = {}\n",
    "        for product in estore_data['products']:\n",
    "            artifact_prodct_wise_rev[product[\"name\"]] = product['items_sold'] * product['price']\n",
    "        for product in estore_data['products']:\n",
    "            if product_name and product['name'] == product_name.lower():\n",
    "                content = f\"Revenue for {product_name}: ${product['items_sold'] * product['price']:.2f}\"\n",
    "                return content, artifact_prodct_wise_rev\n",
    "            total_revenue += product['items_sold'] * product['price']\n",
    "        if product_name is None:\n",
    "            content = f\"Total revenue: ${total_revenue:.2f}\"\n",
    "            return content, artifact_prodct_wise_rev\n",
    "        # return f\"Product {product_name} not found.\" instead we will use ToolException        \n",
    "        raise ToolException(f\"Product {product_name} not found.\")\n",
    "\n",
    "    async def _arun(self, product_name: str=None, \n",
    "             run_manager: Optional[AsyncCallbackManagerForToolRun]=None,\n",
    "            ) -> str:         \n",
    "         return self._run(product_name, run_manager=run_manager.get_sync())\n",
    "\n",
    "calculate_revenue_tool = CalculateRevenueTool()\n",
    "print(\"name:\", calculate_revenue_tool.name)\n",
    "print(\"description:\", calculate_revenue_tool.description)\n",
    "print(\"args schema:\", calculate_revenue_tool.args)\n",
    "print('invoking sync with ToolCall format to get ToolMessage ...:' )\n",
    "tool_message = calculate_revenue_tool.invoke(\n",
    "    {\n",
    "        \"name\": \"calculate_revenue_tool\",\n",
    "        \"args\": {\"product_name\": \"mechanical keyboard\"},\n",
    "        \"id\": \"1\" , ## required field\n",
    "        \"type\": \"tool_call\", ## required field\n",
    "    }\n",
    ")     \n",
    "print('tool_message ...:', tool_message)\n",
    "print('invoking async ...:', await  calculate_revenue_tool.ainvoke('mechanical keyboard'))\n",
    "print('handle_tool_error ToolException sync ...:', calculate_revenue_tool.invoke('mechanical keyboard'))"
   ]
  },
  {
   "cell_type": "markdown",
   "id": "989b9878-9614-4307-8348-c76a7de553c4",
   "metadata": {},
   "source": [
    "### Use the tool inside prompt, instead of hard coded prompt"
   ]
  },
  {
   "cell_type": "code",
   "execution_count": 17,
   "id": "75340128-17c6-4c04-b03d-16b20e4fce16",
   "metadata": {},
   "outputs": [
    {
     "data": {
      "text/plain": [
       "{'product_name': {'title': 'Product Name',\n",
       "  'description': 'name of the product to be purchased',\n",
       "  'type': 'string'}}"
      ]
     },
     "execution_count": 17,
     "metadata": {},
     "output_type": "execute_result"
    }
   ],
   "source": [
    "calculate_revenue_tool.args"
   ]
  },
  {
   "cell_type": "code",
   "execution_count": 18,
   "id": "d54df74b-0a47-48ae-bac5-feec9a0f1b63",
   "metadata": {},
   "outputs": [
    {
     "data": {
      "text/plain": [
       "['product_name']"
      ]
     },
     "execution_count": 18,
     "metadata": {},
     "output_type": "execute_result"
    }
   ],
   "source": [
    "args_list = list(calculate_revenue_tool.args.keys())\n",
    "args_list"
   ]
  },
  {
   "cell_type": "code",
   "execution_count": null,
   "id": "ed40761b-4155-471a-bdd9-4956a91ca3ed",
   "metadata": {},
   "outputs": [],
   "source": []
  },
  {
   "cell_type": "code",
   "execution_count": 19,
   "id": "1fd67ed0-4637-4bda-8b02-4c8ec59a5921",
   "metadata": {},
   "outputs": [
    {
     "name": "stdout",
     "output_type": "stream",
     "text": [
      "buy_product: product_name \n",
      " the stock availale is updated with each purchase.\n",
      "    returns a confirmation message to the user or a regret message when item is not in stock. \n",
      "    \n",
      "\n",
      "calculate_revenue: product_name \n",
      " returns revenue for the product or total revenue when no product name is mentione\n",
      "    \n",
      "\n",
      "\n"
     ]
    }
   ],
   "source": [
    "from typing import List\n",
    "# tools = [CalculateRevenueTool(), BuyProductTool()]\n",
    "tools = [buyproduct_tool, calculate_revenue_tool]\n",
    "\n",
    "def generate_action_prompt(tools: List):\n",
    "    action_list_txt = \"\"\n",
    "    for tool in tools:\n",
    "        args_list = list(tool.args.keys())\n",
    "        args_as_text = \", \".join(args_list)\n",
    "        action_signature = f\"{tool.name}: {args_as_text} \\n\"\n",
    "        action_description = f\"{tool.description}\\n\\n\"\n",
    "        action_list_txt += action_signature + action_description\n",
    "    return action_list_txt\n",
    "action_list_txt = generate_action_prompt(tools)\n",
    "print(action_list_txt)        "
   ]
  },
  {
   "cell_type": "code",
   "execution_count": 20,
   "id": "6c991b95-662d-4fe9-ab8a-baae0b247768",
   "metadata": {},
   "outputs": [],
   "source": [
    "react_instruction_str = \"\"\"You run in a loop of Thought, Action, PAUSE, Observation.\n",
    "At the end of the loop you output an Answer\n",
    "Use Thought to describe your thoughts about the question you have been asked.\n",
    "Use Action to run one of the actions available to you - then return PAUSE.\n",
    "Observation will be the result of running those actions.\n",
    "\n",
    "Your available actions are:\"\"\"\n",
    "\n",
    "example_session_str = \"\"\"Example session:\n",
    "\n",
    "Question: I would like to buy a wireless mouse, can you despatch it please ?\n",
    "Thought: I should buy the wireless mouse using the buy_product action\n",
    "Action: buy_product: wireless mouse\n",
    "PAUSE\n",
    "\n",
    "You will be called again with this:\n",
    "\n",
    "Observation: wireless mouse purchase confirmed. Remaining stock 40.\n",
    "\n",
    "You then output:\n",
    "\n",
    "Answer: Thanks for your order. Your wireless mouse has been despatched to you. \n",
    "when the stock is not there you answer should be changed accordingly\"\"\""
   ]
  },
  {
   "cell_type": "code",
   "execution_count": 21,
   "id": "0074b231-22c3-4a09-8761-f1ffd743d6fe",
   "metadata": {
    "scrolled": true
   },
   "outputs": [
    {
     "name": "stdout",
     "output_type": "stream",
     "text": [
      "You run in a loop of Thought, Action, PAUSE, Observation.\n",
      "At the end of the loop you output an Answer\n",
      "Use Thought to describe your thoughts about the question you have been asked.\n",
      "Use Action to run one of the actions available to you - then return PAUSE.\n",
      "Observation will be the result of running those actions.\n",
      "\n",
      "Your available actions are:\n",
      "\n",
      "buy_product: product_name \n",
      " the stock availale is updated with each purchase.\n",
      "    returns a confirmation message to the user or a regret message when item is not in stock. \n",
      "    \n",
      "\n",
      "calculate_revenue: product_name \n",
      " returns revenue for the product or total revenue when no product name is mentione\n",
      "    \n",
      "\n",
      "\n",
      "\n",
      "Example session:\n",
      "\n",
      "Question: I would like to buy a wireless mouse, can you despatch it please ?\n",
      "Thought: I should buy the wireless mouse using the buy_product action\n",
      "Action: buy_product: wireless mouse\n",
      "PAUSE\n",
      "\n",
      "You will be called again with this:\n",
      "\n",
      "Observation: wireless mouse purchase confirmed. Remaining stock 40.\n",
      "\n",
      "You then output:\n",
      "\n",
      "Answer: Thanks for your order. Your wireless mouse has been despatched to you. \n",
      "when the stock is not there you answer should be changed accordingly\n"
     ]
    }
   ],
   "source": [
    "sys_template_string_agent = \"\"\"\n",
    "{react_instruction_str}\n",
    "\n",
    "{action_list_txt}\n",
    "\n",
    "{example_session_str}\n",
    "\"\"\"\n",
    "agent_react_prompt_with_var = sys_template_string_agent.format(\n",
    "    react_instruction_str = react_instruction_str,\n",
    "    action_list_txt=action_list_txt,\n",
    "    example_session_str=example_session_str).strip()\n",
    "print(agent_react_prompt_with_var)"
   ]
  },
  {
   "cell_type": "code",
   "execution_count": 23,
   "id": "be516c04-9d04-44a1-bafe-332e907b2358",
   "metadata": {},
   "outputs": [],
   "source": [
    "def autoagent(question, prompt=None,  max_turns=5):\n",
    "    i = 0\n",
    "    if prompt:\n",
    "        agent = Agent(prompt)\n",
    "    agent = Agent(agent_react_prompt)\n",
    "    user_prompt = question\n",
    "    while i < max_turns:\n",
    "        i += 1\n",
    "        result = agent(user_prompt)\n",
    "        print(result)\n",
    "        parse_result = parse_action_name_n_params(result)\n",
    "        if isinstance( parse_result, tuple):\n",
    "            action, action_input = parse_result\n",
    "            if action not in known_actions:\n",
    "                raise Exception(\"Unknown actions: {}: {}\".format(action, action_input))\n",
    "            print(f'calling {action}: with arguments: {action_input}')            \n",
    "            observation = known_actions[action](action_input)\n",
    "            print('observation:', observation)\n",
    "            user_prompt = \"Observation: {}\".format(observation)\n",
    "        else:\n",
    "            return    "
   ]
  },
  {
   "cell_type": "code",
   "execution_count": 25,
   "id": "7186e6ed-41ee-42d9-870d-32e7276a6607",
   "metadata": {},
   "outputs": [],
   "source": [
    "class Agent:\n",
    "    def __init__(self, system=\"\"):\n",
    "        self.system = system\n",
    "        self.messages = []\n",
    "        if self.system:\n",
    "            self.messages.append({\"role\": \"system\", \"content\": system})\n",
    "\n",
    "    def __call__(self, message):\n",
    "        self.messages.append({\"role\": \"user\", \"content\": message})\n",
    "        result = self.execute()\n",
    "        self.messages.append({\"role\": \"assistant\", \"content\": result})\n",
    "        return result\n",
    "\n",
    "    def execute(self):\n",
    "        completion = client.chat.completions.create(\n",
    "            model=\"gpt-4o-mini-2024-07-18\",\n",
    "            temperature=0,\n",
    "            messages=self.messages)\n",
    "        return completion.choices[0].message.content"
   ]
  },
  {
   "cell_type": "code",
   "execution_count": 30,
   "id": "369d5167-8e9a-4d68-b1d0-d3bc0233d881",
   "metadata": {},
   "outputs": [],
   "source": [
    "agent_react_prompt = \"\"\"\n",
    "You run in a loop of Thought, Action, PAUSE, Observation.\n",
    "At the end of the loop you output an Answer\n",
    "Use Thought to describe your thoughts about the question you have been asked.\n",
    "Use Action to run one of the actions available to you - then return PAUSE.\n",
    "Observation will be the result of running those actions.\n",
    "\n",
    "Your available actions are:\n",
    "\n",
    "buy_product:\n",
    "e.g. buy_product: product_name\n",
    "the stock availale is updated with each purchase\n",
    "returns a confirmation message to the user or a regret message when item is not in stock. \n",
    "\n",
    "calculate_revenue:\n",
    "e.g. calculate_revenue: product_name\n",
    "returns revenue for the product or total revenue when no product name is mentioned\n",
    "\n",
    "Example session:\n",
    "\n",
    "Question: I would like to buy a wireless mouse, can you despatch it please ?\n",
    "Thought: I should buy the wireless mouse using the buy_product action\n",
    "Action: buy_product: wireless mouse\n",
    "PAUSE\n",
    "\n",
    "You will be called again with this:\n",
    "\n",
    "Observation: wireless mouse purchase confirmed. Remaining stock 40.\n",
    "\n",
    "You then output:\n",
    "\n",
    "Answer: Thanks for your order. Your wireless mouse has been despatched to you. \n",
    "when the stock is not there you answer should be changed accordingly\n",
    "\"\"\".strip()"
   ]
  },
  {
   "cell_type": "code",
   "execution_count": 38,
   "id": "6c202f3e-dd1e-454b-a41a-1c4e83f75316",
   "metadata": {},
   "outputs": [],
   "source": [
    "import os\n",
    "import json\n",
    "import re\n",
    "import load_configs\n",
    "import importlib\n",
    "importlib.reload(load_configs)\n",
    "from load_configs import (\n",
    "    openai_api_key,\n",
    "    llama_api_key, ai21_api_key, \n",
    "    gemini_api_key\n",
    ")\n",
    "from openai_client import call_openai_api\n",
    "# from langchain_community.llms import OpenAI\n",
    "from  openai import OpenAI\n",
    "client =OpenAI(api_key=openai_api_key)"
   ]
  },
  {
   "cell_type": "code",
   "execution_count": 45,
   "id": "2504306b-dff0-4f14-8bad-8ae211b1ade4",
   "metadata": {},
   "outputs": [],
   "source": [
    "def parse_action_name_n_params(result):\n",
    "    result.split('\\n')\n",
    "    pattern_action = re.compile('^Action: (\\w+): (.*)$')\n",
    "    parsed_actions = []\n",
    "    for line in result.split('\\n'):\n",
    "        action_found = pattern_action.match(line)\n",
    "        if action_found:\n",
    "            parsed_actions.append(action_found)\n",
    "    print(parsed_actions)\n",
    "    if parsed_actions:\n",
    "        action, action_input = parsed_actions[0].groups()\n",
    "        print(action, action_input )\n",
    "        return action, action_input\n",
    "    return\n",
    "# action, action_input = parse_action_name_n_params(result)"
   ]
  },
  {
   "cell_type": "code",
   "execution_count": null,
   "id": "41897598-aba1-4747-8d8f-730ce8264254",
   "metadata": {},
   "outputs": [],
   "source": []
  },
  {
   "cell_type": "code",
   "execution_count": 43,
   "id": "59ef66a3-7e01-45f1-a87b-d30e05a0138c",
   "metadata": {},
   "outputs": [
    {
     "name": "stdout",
     "output_type": "stream",
     "text": [
      "Wireless Mouse purchase confirmed. Remaining stock 99\n",
      "Mechanical Keyboard purchase confirmed. Remaining stock 49\n",
      "USB-C Hub purchase confirmed. Remaining stock 1\n",
      "Product Smartphone not found.\n",
      "Revenue for Wireless Mouse: $3924.49\n",
      "Revenue for Mechanical Keyboard: $6079.24\n",
      "Total revenue: $14237.52\n",
      "Product Smartphone not found.\n"
     ]
    }
   ],
   "source": [
    "# E-store data\n",
    "estore_data = {\n",
    "    \"products\": [\n",
    "        {\n",
    "            \"id\": 1,\n",
    "            \"name\": \"wireless mouse\",\n",
    "            \"price\": 25.99,\n",
    "            \"quantity_available\": 100,\n",
    "            \"items_sold\": 150\n",
    "        },\n",
    "        {\n",
    "            \"id\": 2,\n",
    "            \"name\": \"mechanical keyboard\",\n",
    "            \"price\": 79.99,\n",
    "            \"quantity_available\": 50,\n",
    "            \"items_sold\": 75\n",
    "        },\n",
    "        {\n",
    "            \"id\": 3,\n",
    "            \"name\": \"usb-c hub\",\n",
    "            \"price\": 34.99,\n",
    "            \"quantity_available\": 2,\n",
    "            \"items_sold\": 120\n",
    "        }\n",
    "    ]\n",
    "}\n",
    "\n",
    "def buy_product(product_name):\n",
    "    for product in estore_data['products']:\n",
    "        if product['name'] == product_name.lower():\n",
    "            if product['quantity_available'] > 0:\n",
    "                product['quantity_available'] -= 1\n",
    "                product['items_sold'] += 1\n",
    "                return f\"{product_name} purchase confirmed. Remaining stock {product['quantity_available']}\"\n",
    "            else:\n",
    "                return f\"Regret, {product_name} is not in stock.\"\n",
    "    return f\"Product {product_name} not found.\"\n",
    "\n",
    "def calculate_revenue(product_name=None):\n",
    "    total_revenue = 0.0\n",
    "    for product in estore_data['products']:\n",
    "        if product_name and product['name'] == product_name.lower():\n",
    "            return f\"Revenue for {product_name}: ${product['items_sold'] * product['price']:.2f}\"\n",
    "        total_revenue += product['items_sold'] * product['price']\n",
    "    if product_name is None:\n",
    "        return f\"Total revenue: ${total_revenue:.2f}\"\n",
    "    return f\"Product {product_name} not found.\"\n",
    "\n",
    "# Example usage:\n",
    "# Buying a product\n",
    "print(buy_product(\"Wireless Mouse\"))  # Wireless Mouse has been dispatched.\n",
    "print(buy_product(\"Mechanical Keyboard\"))  # Mechanical Keyboard has been dispatched.\n",
    "print(buy_product(\"USB-C Hub\"))  # USB-C Hub has been dispatched.\n",
    "print(buy_product(\"Smartphone\"))  # Product Smartphone not found.\n",
    "\n",
    "# Calculating revenue\n",
    "print(calculate_revenue(\"Wireless Mouse\"))  # Revenue for Wireless Mouse: $4158.50\n",
    "print(calculate_revenue(\"Mechanical Keyboard\"))  # Revenue for Mechanical Keyboard: $5992.50\n",
    "print(calculate_revenue())  # Total revenue: $17086.50\n",
    "print(calculate_revenue(\"Smartphone\"))  # Product Smartphone not found.\n",
    "known_actions = {\n",
    "    \"buy_product\": buy_product,\n",
    "    \"calculate_revenue\": calculate_revenue\n",
    "}"
   ]
  },
  {
   "cell_type": "code",
   "execution_count": 44,
   "id": "510d12f0-6a31-4d2c-a59b-98e42e699e2b",
   "metadata": {},
   "outputs": [
    {
     "name": "stdout",
     "output_type": "stream",
     "text": [
      "Thought: I need to buy both a wireless mouse and a USB-C hub using the buy_product action. I will first attempt to purchase the wireless mouse and then the USB-C hub. \n",
      "Action: buy_product: wireless mouse\n",
      "PAUSE\n",
      "[<re.Match object; span=(0, 35), match='Action: buy_product: wireless mouse'>]\n",
      "buy_product wireless mouse\n",
      "calling buy_product: with arguments: wireless mouse\n",
      "observation: wireless mouse purchase confirmed. Remaining stock 98\n",
      "Thought: The wireless mouse purchase was successful. Now I will proceed to buy the USB-C hub. \n",
      "Action: buy_product: usb-c hub\n",
      "PAUSE\n",
      "[<re.Match object; span=(0, 30), match='Action: buy_product: usb-c hub'>]\n",
      "buy_product usb-c hub\n",
      "calling buy_product: with arguments: usb-c hub\n",
      "observation: usb-c hub purchase confirmed. Remaining stock 0\n",
      "Answer: Thanks for your order. Your wireless mouse and USB-C hub have been despatched to you.\n",
      "[]\n"
     ]
    }
   ],
   "source": [
    "question = \"\"\"can you buy me one wireless mouse and one usb-c hub ? \"\"\"\n",
    "autoagent(question, prompt=agent_react_prompt_with_var)"
   ]
  },
  {
   "cell_type": "code",
   "execution_count": null,
   "id": "55d5197a-8b30-436f-8f20-f24bee1f6520",
   "metadata": {},
   "outputs": [],
   "source": [
    "llm.bind_tools"
   ]
  },
  {
   "cell_type": "markdown",
   "id": "86529cb1-5eae-482f-898c-c40283bb0265",
   "metadata": {},
   "source": [
    "For the models that use tool calling, no special prompting is needed. ???"
   ]
  },
  {
   "cell_type": "markdown",
   "id": "63a2b0e5-b1d5-46ad-a7a7-281190bde6d8",
   "metadata": {},
   "source": [
    "###  Understanding Langchain Prompt"
   ]
  },
  {
   "cell_type": "code",
   "execution_count": null,
   "id": "6270a5f0-2538-4c0f-90cc-07adb1e4ea1c",
   "metadata": {},
   "outputs": [],
   "source": [
    "print(ChatPromptTemplate.__doc__)"
   ]
  },
  {
   "cell_type": "code",
   "execution_count": null,
   "id": "86f767a3-7e30-41a1-84cd-6ac207e96e6f",
   "metadata": {},
   "outputs": [],
   "source": [
    "!pip list|grep langchain"
   ]
  },
  {
   "cell_type": "code",
   "execution_count": null,
   "id": "03cd9e69-1686-40a6-94f9-134cf4748352",
   "metadata": {},
   "outputs": [],
   "source": [
    "from langchain.prompts import ChatPromptTemplate"
   ]
  },
  {
   "cell_type": "code",
   "execution_count": null,
   "id": "9033857c-ee31-48a9-8aa5-be1fb81c16cb",
   "metadata": {},
   "outputs": [],
   "source": [
    "template = ChatPromptTemplate([\n",
    "                (\"system\", \"You are a helpful AI bot.\"),\n",
    "                # Means the template will receive an optional list of messages under\n",
    "                # the \"conversation\" key\n",
    "                (\"placeholder\", \"{conversation}\")\n",
    "                # Equivalently:\n",
    "                # MessagesPlaceholder(variable_name=\"conversation\", optional=True)\n",
    "            ])\n",
    "print(template)\n",
    "prompt_value = template.invoke(\n",
    "    {\n",
    "        \"conversation\": [\n",
    "            (\"human\", \"Hi!\"),\n",
    "            (\"ai\", \"How can I assist you today?\"),\n",
    "            (\"human\", \"Can you make me an ice cream sundae?\"),\n",
    "            (\"ai\", \"No.\")\n",
    "        ]\n",
    "    }\n",
    ")\n",
    "prompt_value"
   ]
  },
  {
   "cell_type": "code",
   "execution_count": null,
   "id": "b901e666-46d6-4f91-9836-e609c5d8a7ae",
   "metadata": {},
   "outputs": [],
   "source": [
    "template = ChatPromptTemplate([\n",
    "    (\"system\", \"You are a helpful AI bot. Your name is {bot_name}.\"),\n",
    "    (\"human\", \"Hello, how are you doing?\"),\n",
    "    (\"ai\", \"{greetings}, I'm doing well, thanks!\"),\n",
    "    (\"human\", \"{user_input}\"),\n",
    "    ],\n",
    "    input_variables=['user_input'],\n",
    "    optional_variables=[\"greetings\"],\n",
    "    partial_variables={\"bot_name\": \"Monalisa\"}                            \n",
    "\n",
    ")\n",
    "print(template)\n",
    "final_input = {            \n",
    "            \"user_input\": \"What is your name?\"\n",
    "        }\n",
    "try:\n",
    "    prompt_value = template.invoke(final_input)\n",
    "except Exception as e:\n",
    "    print(e)\n",
    "# # print(prompt_value)\n",
    "# template_partial = template.partial(bot_name=\"Monalisa\")\n",
    "# print(template_partial)\n",
    "# try:\n",
    "#     template_partial.invoke(final_input)\n",
    "# except Exception as e:\n",
    "#     print(e)"
   ]
  },
  {
   "cell_type": "code",
   "execution_count": null,
   "id": "0eaa5e10-4f69-4bdd-810e-0919deb56ae8",
   "metadata": {},
   "outputs": [],
   "source": [
    "from langchain_core.prompts import ChatPromptTemplate\n",
    "\n",
    "prompt_template = ChatPromptTemplate.from_messages([\n",
    "    (\"system\", \"You are a helpful assistant\"),\n",
    "    (\"user\", \"Tell me a joke about {topic}\")\n",
    "])\n",
    "\n",
    "prompt_template.invoke({\"topic\": \"cats\"})"
   ]
  },
  {
   "cell_type": "code",
   "execution_count": null,
   "id": "ecf94445-590d-4cf6-a364-838c70f11fe0",
   "metadata": {},
   "outputs": [],
   "source": [
    "from langchain_core.prompts import MessagesPlaceholder\n",
    "from langchain_core.messages import HumanMessage, AIMessage, SystemMessage\n",
    "\n",
    "prompt_template = ChatPromptTemplate.from_messages([\n",
    "    # (\"system\", \"You are a helpful assistant\"),\n",
    "    SystemMessage(content='You are a helpful assistant'),\n",
    "    MessagesPlaceholder(\"msgs\")\n",
    "])\n",
    "\n",
    "prompt_template.invoke({\"msgs\": [HumanMessage(content=\"hi!\"), HumanMessage(content=\"How are you\")]})"
   ]
  },
  {
   "cell_type": "code",
   "execution_count": null,
   "id": "f01cbf82-f4af-474b-9b4b-4090cd9be304",
   "metadata": {},
   "outputs": [],
   "source": [
    "from langchain_core.prompts import SystemMessagePromptTemplate, HumanMessagePromptTemplate"
   ]
  },
  {
   "cell_type": "code",
   "execution_count": null,
   "id": "fbcc37f7-cfa4-476e-8762-8583a1fb40dc",
   "metadata": {},
   "outputs": [],
   "source": [
    "lc_sys_prompt_agent = SystemMessagePromptTemplate.from_template(sys_template_string_agent)\n",
    "lc_sys_prompt_agent"
   ]
  },
  {
   "cell_type": "code",
   "execution_count": null,
   "id": "aec3e898-ce2c-4f1b-9c3f-aff5ed433d4a",
   "metadata": {},
   "outputs": [],
   "source": [
    "print(lc_sys_prompt_agent.prompt.input_variables)\n",
    "print(lc_sys_prompt_agent.prompt.template)\n",
    "print(lc_sys_prompt_agent.format(\n",
    "    react_instruction_str = react_instruction_str,\n",
    "    action_list_txt=action_list_txt,\n",
    "    example_session_str=example_session_str))"
   ]
  },
  {
   "cell_type": "code",
   "execution_count": null,
   "id": "03acfa68-5fa2-48e8-8c44-9fe969417ee4",
   "metadata": {},
   "outputs": [],
   "source": []
  },
  {
   "cell_type": "code",
   "execution_count": null,
   "id": "ef8a5142-22f0-4cf8-b2d0-080455f1c456",
   "metadata": {},
   "outputs": [],
   "source": [
    "class Agent:\n",
    "    def __init__(self, system=\"\"):\n",
    "        self.system = system\n",
    "        self.messages = []\n",
    "        if self.system:\n",
    "            self.messages.append({\"role\": \"system\", \"content\": system})\n",
    "\n",
    "    def __call__(self, message):\n",
    "        self.messages.append({\"role\": \"user\", \"content\": message})\n",
    "        result = self.execute()\n",
    "        self.messages.append({\"role\": \"assistant\", \"content\": result})\n",
    "        return result\n",
    "\n",
    "    def execute(self):\n",
    "        completion = client.chat.completions.create(\n",
    "            model=\"gpt-4o-mini-2024-07-18\",\n",
    "            temperature=0,\n",
    "            messages=self.messages)\n",
    "        return completion.choices[0].message.content"
   ]
  },
  {
   "cell_type": "markdown",
   "id": "705be346-9264-49a5-a7f8-fd90f2ec3430",
   "metadata": {},
   "source": [
    "https://lilianweng.github.io/posts/2023-06-23-agent/"
   ]
  },
  {
   "cell_type": "code",
   "execution_count": null,
   "id": "e8db94cf-1240-44be-9241-b166f1cc8989",
   "metadata": {},
   "outputs": [],
   "source": []
  },
  {
   "cell_type": "code",
   "execution_count": null,
   "id": "41fcca4e-03ca-400a-b90a-8fd9f5804caf",
   "metadata": {},
   "outputs": [],
   "source": []
  }
 ],
 "metadata": {
  "kernelspec": {
   "display_name": "Python 3 (ipykernel)",
   "language": "python",
   "name": "python3"
  },
  "language_info": {
   "codemirror_mode": {
    "name": "ipython",
    "version": 3
   },
   "file_extension": ".py",
   "mimetype": "text/x-python",
   "name": "python",
   "nbconvert_exporter": "python",
   "pygments_lexer": "ipython3",
   "version": "3.9.7"
  }
 },
 "nbformat": 4,
 "nbformat_minor": 5
}
