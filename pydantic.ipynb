{
 "cells": [
  {
   "cell_type": "code",
   "execution_count": 4,
   "id": "8bdc8c58-c610-4435-b9e8-135cd141f929",
   "metadata": {},
   "outputs": [],
   "source": [
    "from pydantic.v1 import BaseModel, root_validator, SecretStr"
   ]
  },
  {
   "cell_type": "code",
   "execution_count": 30,
   "id": "6d230189-9846-46bf-a459-153caa4c835b",
   "metadata": {},
   "outputs": [
    {
     "data": {
      "text/plain": [
       "{'name': 123, 'age': 'sss', 'is_active': 1243, 'password': 'aaaa'}"
      ]
     },
     "execution_count": 30,
     "metadata": {},
     "output_type": "execute_result"
    }
   ],
   "source": [
    "class User:\n",
    "    def __init__(self, name:str, age:int, is_active:bool=True, password:str=''):\n",
    "        self.name = name\n",
    "        self.age = age\n",
    "        self.is_active = is_active\n",
    "        self.password = password\n",
    "u1 = User(name=123, age='sss', is_active=1243, password='aaaa')\n",
    "u1.__dict__"
   ]
  },
  {
   "cell_type": "code",
   "execution_count": 15,
   "id": "4ef03979-cbda-44ee-b0a1-3629fe920db3",
   "metadata": {},
   "outputs": [
    {
     "name": "stdout",
     "output_type": "stream",
     "text": [
      "2 validation errors for User\n",
      "age\n",
      "  value is not a valid integer (type=type_error.integer)\n",
      "is_active\n",
      "  value could not be parsed to a boolean (type=type_error.bool)\n"
     ]
    }
   ],
   "source": [
    "class User(BaseModel):\n",
    "    name:str\n",
    "    age: int\n",
    "    is_active: bool = True\n",
    "    password: SecretStr = '123'\n",
    "try:\n",
    "    u1 = User(name=123, age='sss', is_active=1243, password='aaaa')\n",
    "    u1.__dict__\n",
    "except Exception as e:\n",
    "    print(e)"
   ]
  },
  {
   "cell_type": "code",
   "execution_count": 16,
   "id": "bbffd903-d3bb-4315-95e0-16eec322d034",
   "metadata": {},
   "outputs": [
    {
     "name": "stdout",
     "output_type": "stream",
     "text": [
      "2 validation errors for User\n",
      "name\n",
      "  field required (type=value_error.missing)\n",
      "age\n",
      "  field required (type=value_error.missing)\n"
     ]
    }
   ],
   "source": [
    "try:\n",
    "    u1 = User()\n",
    "    u1.__dict__\n",
    "except Exception as e:\n",
    "    print(e)"
   ]
  },
  {
   "cell_type": "code",
   "execution_count": 17,
   "id": "62f3e338-a405-4436-8312-4e038614c0e4",
   "metadata": {},
   "outputs": [
    {
     "data": {
      "text/plain": [
       "{'name': 'john',\n",
       " 'age': 20,\n",
       " 'is_active': False,\n",
       " 'password': SecretStr('**********')}"
      ]
     },
     "execution_count": 17,
     "metadata": {},
     "output_type": "execute_result"
    }
   ],
   "source": [
    "u1 = User(name='john', age=20, is_active=False, password='not visible')\n",
    "u1.dict()"
   ]
  },
  {
   "cell_type": "code",
   "execution_count": 31,
   "id": "65f0765c-44f9-4411-a600-b101a13bccd0",
   "metadata": {},
   "outputs": [
    {
     "name": "stdout",
     "output_type": "stream",
     "text": [
      "1 validation error for User\n",
      "__root__\n",
      "  age must be at least 18 (type=value_error)\n"
     ]
    }
   ],
   "source": [
    "class User(BaseModel):\n",
    "    name:str\n",
    "    age: int\n",
    "    is_active: bool = True\n",
    "    password: SecretStr = ''\n",
    "\n",
    "    @root_validator()\n",
    "    def check_age(cls, values):\n",
    "        age = values.get('age')\n",
    "        if age < 18:\n",
    "            raise ValueError(\"age must be at least 18\")\n",
    "        return values\n",
    "try:\n",
    "    user = User(name=\"Alice\", age=15)\n",
    "    print(user.dict()) \n",
    "except Exception as e:\n",
    "    print(e)    "
   ]
  },
  {
   "cell_type": "code",
   "execution_count": 33,
   "id": "6f9412b1-2ee9-4a02-80dd-da0748309e58",
   "metadata": {},
   "outputs": [
    {
     "name": "stdout",
     "output_type": "stream",
     "text": [
      "1 validation error for Event\n",
      "  Value error, end_date must be after start_date [type=value_error, input_value={'start_date': datetime.d...time(2021, 9, 1, 14, 0)}, input_type=dict]\n",
      "    For further information visit https://errors.pydantic.dev/2.8/v/value_error\n",
      "2 validation errors for Event\n",
      "start_date\n",
      "  Value error, 2023-09-01 15:00:00 must be in the future [type=value_error, input_value=datetime.datetime(2023, 9, 1, 15, 0), input_type=datetime]\n",
      "    For further information visit https://errors.pydantic.dev/2.8/v/value_error\n",
      "end_date\n",
      "  Value error, 2023-09-02 14:00:00 must be in the future [type=value_error, input_value=datetime.datetime(2023, 9, 2, 14, 0), input_type=datetime]\n",
      "    For further information visit https://errors.pydantic.dev/2.8/v/value_error\n"
     ]
    },
    {
     "name": "stderr",
     "output_type": "stream",
     "text": [
      "/tmp/ipykernel_7199/968085228.py:8: PydanticDeprecatedSince20: Pydantic V1 style `@root_validator` validators are deprecated. You should migrate to Pydantic V2 style `@model_validator` validators, see the migration guide for more details. Deprecated in Pydantic V2.0 to be removed in V3.0. See Pydantic V2 Migration Guide at https://errors.pydantic.dev/2.8/migration/\n",
      "  @root_validator(pre=True)\n",
      "/tmp/ipykernel_7199/968085228.py:28: PydanticDeprecatedSince20: Pydantic V1 style `@validator` validators are deprecated. You should migrate to Pydantic V2 style `@field_validator` validators, see the migration guide for more details. Deprecated in Pydantic V2.0 to be removed in V3.0. See Pydantic V2 Migration Guide at https://errors.pydantic.dev/2.8/migration/\n",
      "  @validator('start_date', 'end_date', pre=False)\n"
     ]
    }
   ],
   "source": [
    "from datetime import datetime\n",
    "from pydantic import BaseModel, root_validator, ValidationError, validator, field_validator\n",
    "\n",
    "class Event(BaseModel):\n",
    "    start_date: datetime\n",
    "    end_date: datetime\n",
    "\n",
    "    @root_validator(pre=True)\n",
    "    def check_dates(cls, values):\n",
    "        start_date, end_date = values.get('start_date'), values.get('end_date')\n",
    "        # Attempt to parse strings to datetime if not already datetime objects\n",
    "        if isinstance(start_date, str):\n",
    "            try:\n",
    "                values['start_date'] = datetime.fromisoformat(start_date)\n",
    "            except ValueError:\n",
    "                raise ValueError(\"start_date must be a valid ISO format datetime string\")\n",
    "        if isinstance(end_date, str):\n",
    "            try:\n",
    "                values['end_date'] = datetime.fromisoformat(end_date)\n",
    "            except ValueError:\n",
    "                raise ValueError(\"end_date must be a valid ISO format datetime string\")\n",
    "        \n",
    "        if 'start_date' in values and 'end_date' in values:\n",
    "            if values['start_date'] >= values['end_date']:\n",
    "                raise ValueError(\"end_date must be after start_date\")\n",
    "        return values\n",
    "\n",
    "    @validator('start_date', 'end_date', pre=False)\n",
    "    def check_future_dates(cls, v):\n",
    "        if v < datetime.now():\n",
    "            raise ValueError(f\"{v} must be in the future\")\n",
    "        return v\n",
    "\n",
    "# Example usage\n",
    "try:\n",
    "    event = Event(start_date=\"2021-09-01T15:00:00\", end_date=\"2021-09-01T14:00:00\")\n",
    "except ValidationError as e:\n",
    "    print(e)\n",
    "\n",
    "try:\n",
    "    event = Event(start_date=\"2023-09-01T15:00:00\", end_date=\"2023-09-02T14:00:00\")\n",
    "    print(event)\n",
    "except ValidationError as e:\n",
    "    print(e)\n"
   ]
  },
  {
   "cell_type": "code",
   "execution_count": 50,
   "id": "92510872-5f3f-4969-8180-cc6844186ab8",
   "metadata": {},
   "outputs": [
    {
     "name": "stdout",
     "output_type": "stream",
     "text": [
      "username='johnDoe123' password=CustomSecretStr('**********') age=25\n"
     ]
    }
   ],
   "source": [
    "from pydantic import BaseModel, SecretStr, field_validator\n",
    "\n",
    "class CustomSecretStr(SecretStr):\n",
    "    @classmethod\n",
    "    def __get_pydantic_json_schema__(cls, core_schema, handler):\n",
    "        json_schema = handler(core_schema)\n",
    "        json_schema.update(type=\"string\", format=\"password\")\n",
    "        return json_schema\n",
    "\n",
    "class UserProfile(BaseModel):\n",
    "    username: str\n",
    "    password: CustomSecretStr    \n",
    "    age: int\n",
    "\n",
    "    @field_validator('username')\n",
    "    def username_alphanumeric(cls, v: str) -> str:\n",
    "        if not v.isalnum():\n",
    "            raise ValueError('Username must be alphanumeric')\n",
    "        return v\n",
    "\n",
    "    @field_validator('password', mode='before')\n",
    "    def convert_password_to_secretstr(cls, v: str) -> CustomSecretStr:\n",
    "        # Convert plain text password to CustomSecretStr if it is not already one\n",
    "        if isinstance(v, str):\n",
    "            return CustomSecretStr(v)\n",
    "        return v\n",
    "\n",
    "    @field_validator('password')\n",
    "    def password_length(cls, v: CustomSecretStr) -> CustomSecretStr:\n",
    "        if len(v.get_secret_value()) < 8:\n",
    "            raise ValueError('Password must be at least 8 characters long')\n",
    "        return v\n",
    "# Example usage\n",
    "try:\n",
    "    user = UserProfile(\n",
    "        username=\"johnDoe123\",\n",
    "        password=\"securePassword123\",  # User provides plain text\n",
    "        email=\"john@example.com\",\n",
    "        age=25\n",
    "    )\n",
    "    print(user)\n",
    "except ValidationError as e:\n",
    "    print(e)\n",
    "    "
   ]
  },
  {
   "cell_type": "code",
   "execution_count": 49,
   "id": "777c1cce-0a4e-4771-8287-dc76eb465f5d",
   "metadata": {},
   "outputs": [
    {
     "name": "stdout",
     "output_type": "stream",
     "text": [
      "username='johnDoe123' password=SecretStr('**********') email='john@example.com' age=25\n"
     ]
    }
   ],
   "source": [
    "from pydantic import BaseModel, SecretStr, ValidationError, field_validator\n",
    "\n",
    "class UserProfile(BaseModel):\n",
    "    username: str\n",
    "    password: SecretStr\n",
    "    email: str\n",
    "    age: int\n",
    "\n",
    "    @field_validator('username')\n",
    "    def username_alphanumeric(cls, v: str) -> str:\n",
    "        if not v.isalnum():\n",
    "            raise ValueError('Username must be alphanumeric')\n",
    "        return v\n",
    "\n",
    "    @field_validator('password')\n",
    "    def convert_password_to_secretstr(cls, v: str) -> SecretStr:\n",
    "        # Convert plain text password to SecretStr if it is not already one\n",
    "        if isinstance(v, str):\n",
    "            return SecretStr(v)\n",
    "        return v\n",
    "\n",
    "    @field_validator('password')\n",
    "    def password_length(cls, v: SecretStr) -> SecretStr:\n",
    "        if len(v.get_secret_value()) < 8:\n",
    "            raise ValueError('Password must be at least 8 characters long')\n",
    "        return v\n",
    "\n",
    "    @field_validator('email')\n",
    "    def email_must_contain_at(cls, v: str) -> str:\n",
    "        if '@' not in v:\n",
    "            raise ValueError('Email must contain @')\n",
    "        return v.lower()\n",
    "\n",
    "    @field_validator('age')\n",
    "    def age_must_be_positive(cls, v: int) -> int:\n",
    "        if v <= 0:\n",
    "            raise ValueError('Age must be positive')\n",
    "        return v\n",
    "\n",
    "# Example usage\n",
    "try:\n",
    "    user = UserProfile(\n",
    "        username=\"johnDoe123\",\n",
    "        password=\"securePassword123\",  # User provides plain text\n",
    "        email=\"john@example.com\",\n",
    "        age=25\n",
    "    )\n",
    "    print(user)\n",
    "except ValidationError as e:\n",
    "    print(e)\n"
   ]
  },
  {
   "cell_type": "code",
   "execution_count": 54,
   "id": "b3277ed6-ca74-4d41-9611-203e8088e358",
   "metadata": {},
   "outputs": [
    {
     "name": "stdout",
     "output_type": "stream",
     "text": [
      "{'name': 'Alice', 'age': 30, 'signup_ts': datetime.datetime(2024, 8, 19, 8, 9, 38, 441333)}\n"
     ]
    }
   ],
   "source": [
    "from pydantic import BaseModel, FieldValidationInfo, field_validator\n",
    "from datetime import datetime\n",
    "from typing import Optional\n",
    "\n",
    "class User(BaseModel):\n",
    "    name: str\n",
    "    age: int\n",
    "    signup_ts: Optional[datetime] = None\n",
    "\n",
    "    def __init__(self, **data):\n",
    "        # Handle preprocessing that doesn't involve validation\n",
    "        super().__init__(**data)  # Calls the BaseModel __init__\n",
    "\n",
    "        # Post-processing after Pydantic's validation\n",
    "        if self.signup_ts is None:\n",
    "            self.signup_ts = datetime.now()\n",
    "\n",
    "    @field_validator('age')\n",
    "    def check_age(cls, value: int) -> int:\n",
    "        if value < 18:\n",
    "            raise ValueError('Age must be at least 18')\n",
    "        return value\n",
    "\n",
    "# Example usage\n",
    "user = User(name=\"Alice\", age=30)\n",
    "print(user.dict())  # Output includes 'signup_ts' set to current datetime if not provided\n"
   ]
  },
  {
   "cell_type": "code",
   "execution_count": 57,
   "id": "42eeb198-6624-4718-a6e1-7a04c340a8e7",
   "metadata": {},
   "outputs": [
    {
     "name": "stdout",
     "output_type": "stream",
     "text": [
      "Initializing the class with data: {'name': 'Alice', 'age': 30}\n",
      "Running model_validator with mode='before'\n",
      "Running field_validator for name\n",
      "Running field_validator with mode='before' for age\n",
      "Running model_validator with mode='after'\n",
      "Running __init__ post processing\n"
     ]
    }
   ],
   "source": [
    "from pydantic import BaseModel, field_validator, model_validator  ### root_vaidator has been depreciated in v2\n",
    "from datetime import datetime\n",
    "from typing import Optional\n",
    "\n",
    "class User(BaseModel):\n",
    "    name: str\n",
    "    age: int\n",
    "    signup_ts: Optional[datetime] = None\n",
    "\n",
    "    def __init__(self, **data):\n",
    "        print(\"Initializing the class with data:\", data)\n",
    "        super().__init__(**data)\n",
    "        print(\"Running __init__ post processing\")\n",
    "        if self.signup_ts is None:\n",
    "            self.signup_ts = datetime.now()\n",
    "\n",
    "    @model_validator(mode=\"before\")\n",
    "    def check_root_pre(cls, values):\n",
    "        print(\"Running model_validator with mode='before'\")\n",
    "        return values    \n",
    "\n",
    "    @field_validator('name')\n",
    "    def check_name(cls, value: str) -> str:\n",
    "        print(\"Running field_validator for name\")\n",
    "        return value\n",
    "\n",
    "   @field_validator('age', mode=\"before\")\n",
    "    def check_age_before(cls, value: int) -> int:\n",
    "        print(\"Running field_validator with mode='before' for age\")\n",
    "        return value   \n",
    "\n",
    "    @model_validator(mode=\"after\")\n",
    "    def check_root_post(cls, values):\n",
    "        print(\"Running model_validator with mode='after'\")\n",
    "        return values\n",
    "\n",
    "# Example usage\n",
    "user = User(name=\"Alice\", age=30)\n"
   ]
  },
  {
   "cell_type": "code",
   "execution_count": null,
   "id": "0f4fdce0-dd63-4a98-89c3-7dc17f657792",
   "metadata": {},
   "outputs": [],
   "source": []
  },
  {
   "cell_type": "code",
   "execution_count": null,
   "id": "5226b41c-72a4-433b-bb58-6fe7178bc78e",
   "metadata": {},
   "outputs": [],
   "source": []
  }
 ],
 "metadata": {
  "kernelspec": {
   "display_name": "Python 3 (ipykernel)",
   "language": "python",
   "name": "python3"
  },
  "language_info": {
   "codemirror_mode": {
    "name": "ipython",
    "version": 3
   },
   "file_extension": ".py",
   "mimetype": "text/x-python",
   "name": "python",
   "nbconvert_exporter": "python",
   "pygments_lexer": "ipython3",
   "version": "3.9.7"
  }
 },
 "nbformat": 4,
 "nbformat_minor": 5
}
